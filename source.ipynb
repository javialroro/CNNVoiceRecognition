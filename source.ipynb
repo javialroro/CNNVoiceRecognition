{
 "cells": [
  {
   "cell_type": "markdown",
   "id": "89dac7f8",
   "metadata": {},
   "source": [
    "# Proyecto 1 Inteligencia Artificial: \n",
    "## Implementación de redes neuronales para el reconocimiento de voz a partir de espectogramas\n",
    "### Javier Alonso Rojas Rojas & Brandon Emmanuel Sánchez Araya"
   ]
  },
  {
   "cell_type": "markdown",
   "id": "79ae3c7d",
   "metadata": {},
   "source": [
    "# Dataset Raw"
   ]
  },
  {
   "cell_type": "code",
   "execution_count": null,
   "id": "1d032188",
   "metadata": {},
   "outputs": [],
   "source": [
    "import os\n",
    "import librosa\n",
    "import librosa.display\n",
    "import matplotlib.pyplot as plt\n",
    "import pandas as pd\n",
    "import numpy as np\n",
    "from tqdm import tqdm\n",
    "# =====================================================\n",
    "# CONFIGURACIÓN DE RUTAS\n",
    "# =====================================================\n",
    "DATASET_PATH = \"data/ESC-50-master/audio\"\n",
    "CSV_PATH = \"data/ESC-50-master/meta/esc50.csv\"\n",
    "OUTPUT_PATH = \"spectrograms\"\n",
    "\n",
    "# =====================================================\n",
    "# CARGA DE METADATOS\n",
    "# =====================================================\n",
    "os.makedirs(OUTPUT_PATH, exist_ok=True)\n",
    "df = pd.read_csv(CSV_PATH)\n",
    "\n",
    "# =====================================================\n",
    "# PROCESAMIENTO DE TODOS LOS AUDIOS\n",
    "# =====================================================\n",
    "print(f\"Audios encontrados: {len(df)}\")\n",
    "print(\"Generando espectrogramas...\\n\")\n",
    "\n",
    "for idx, row in tqdm(df.iterrows(), total=len(df), desc=\"Progreso\"):\n",
    "    audio_path = os.path.join(DATASET_PATH, row[\"filename\"])\n",
    "    categoria = row[\"category\"]\n",
    "\n",
    "    # Crear carpeta de salida por categoría\n",
    "    output_dir = os.path.join(OUTPUT_PATH, categoria)\n",
    "    os.makedirs(output_dir, exist_ok=True)\n",
    "\n",
    "    try:\n",
    "        y, sr = librosa.load(audio_path, sr=None)\n",
    "    except Exception as e:\n",
    "        print(f\"Error al cargar {audio_path}: {e}\")\n",
    "        continue\n",
    "\n",
    "    mel = librosa.feature.melspectrogram(y=y, sr=sr, n_mels=128, fmax=8000)\n",
    "    mel_db = librosa.power_to_db(mel, ref=np.max)\n",
    "\n",
    "    plt.figure(figsize=(2.24, 2.24), dpi=100)\n",
    "    plt.axis('off')\n",
    "    librosa.display.specshow(mel_db, sr=sr, fmax=8000, cmap='gray')  # <-- escala de grises\n",
    "\n",
    "    output_file = os.path.join(output_dir, row[\"filename\"].replace(\".wav\", \".png\"))\n",
    "    plt.savefig(output_file, bbox_inches='tight', pad_inches=0)\n",
    "    plt.close()\n",
    "\n",
    "print(\"\\nProceso finalizado.\")"
   ]
  },
  {
   "cell_type": "markdown",
   "id": "22ddc270",
   "metadata": {},
   "source": [
    "# Dataset Augmented"
   ]
  },
  {
   "cell_type": "code",
   "execution_count": null,
   "id": "96356eab",
   "metadata": {},
   "outputs": [],
   "source": [
    "import os\n",
    "import librosa\n",
    "import librosa.display\n",
    "import matplotlib.pyplot as plt\n",
    "import pandas as pd\n",
    "import numpy as np\n",
    "from tqdm import tqdm\n",
    "\n",
    "# =====================================================\n",
    "# CONFIGURACIÓN DE RUTAS\n",
    "# =====================================================\n",
    "DATASET_PATH = \"ESC-50/audio\"\n",
    "CSV_PATH = \"ESC-50/meta/esc50.csv\"\n",
    "OUTPUT_PATH = \"spectrograms_augmented\"\n",
    "\n",
    "os.makedirs(OUTPUT_PATH, exist_ok=True)\n",
    "\n",
    "# =====================================================\n",
    "# CARGA DE METADATOS\n",
    "# =====================================================\n",
    "df = pd.read_csv(CSV_PATH)\n",
    "print(f\"Audios encontrados: {len(df)}\")\n",
    "print(\"Generando espectrogramas aumentados...\\n\")\n",
    "\n",
    "# =====================================================\n",
    "# PROCESAMIENTO DE TODOS LOS AUDIOS\n",
    "# =====================================================\n",
    "for idx, row in tqdm(df.iterrows(), total=len(df), desc=\"Progreso\"):\n",
    "    audio_path = os.path.join(DATASET_PATH, row[\"filename\"])\n",
    "    categoria = row[\"category\"]\n",
    "\n",
    "    # Crear carpeta destino\n",
    "    output_dir = os.path.join(OUTPUT_PATH, categoria)\n",
    "    os.makedirs(output_dir, exist_ok=True)\n",
    "\n",
    "    # --- Cargar audio ---\n",
    "    try:\n",
    "        y, sr = librosa.load(audio_path, sr=None)\n",
    "    except Exception as e:\n",
    "        print(f\"Error al cargar {audio_path}: {e}\")\n",
    "        continue\n",
    "\n",
    "    # --- AUMENTACIONES INTEGRADAS ---\n",
    "    # 1. Ruido\n",
    "    noise_factor = 0.005\n",
    "    noise = np.random.randn(len(y))\n",
    "    y_noise = y + noise_factor * noise\n",
    "\n",
    "    # 2. Time stretch (variar velocidad)\n",
    "    rate = np.random.uniform(0.9, 1.1)\n",
    "    try:\n",
    "        y_stretch = librosa.effects.time_stretch(y, rate=rate)\n",
    "    except TypeError:\n",
    "        y_stretch = librosa.effects.time_stretch(y=y, rate=rate)\n",
    "\n",
    "    # 3. Pitch shift (variar tono)\n",
    "    n_steps = np.random.randint(-2, 3)\n",
    "    try:\n",
    "        y_pitch = librosa.effects.pitch_shift(y, sr=sr, n_steps=n_steps)\n",
    "    except TypeError:\n",
    "        y_pitch = librosa.effects.pitch_shift(y=y, sr=sr, n_steps=n_steps)\n",
    "\n",
    "    # --- CONJUNTO DE VERSIONES ---\n",
    "    augmentations = {\n",
    "        \"noise\": y_noise,\n",
    "        \"stretch\": y_stretch,\n",
    "        \"pitch\": y_pitch\n",
    "    }\n",
    "\n",
    "    # =====================================================\n",
    "    # GENERAR ESPECTROGRAMAS PARA CADA VERSIÓN\n",
    "    # =====================================================\n",
    "    for aug_type, y_aug in augmentations.items():\n",
    "        mel = librosa.feature.melspectrogram(y=y_aug, sr=sr, n_mels=128, fmax=8000)\n",
    "        mel_db = librosa.power_to_db(mel, ref=np.max)\n",
    "\n",
    "        plt.figure(figsize=(2.24, 2.24), dpi=100)\n",
    "        plt.axis('off')\n",
    "        librosa.display.specshow(mel_db, sr=sr, fmax=8000, cmap='gray')  # escala de grises\n",
    "\n",
    "        output_file = os.path.join(output_dir, row[\"filename\"].replace(\".wav\", f\"_{aug_type}.png\"))\n",
    "        plt.savefig(output_file, bbox_inches='tight', pad_inches=0)\n",
    "        plt.close()\n",
    "\n",
    "print(\"\\nProceso finalizado.\")\n"
   ]
  },
  {
   "cell_type": "markdown",
   "id": "e8a64c79",
   "metadata": {},
   "source": [
    "# Configuraciones Globales"
   ]
  },
  {
   "cell_type": "code",
   "execution_count": null,
   "id": "90aeba2e",
   "metadata": {},
   "outputs": [
    {
     "name": "stderr",
     "output_type": "stream",
     "text": [
      "/home/javialroro/miniconda3/envs/ml/lib/python3.13/site-packages/pydantic/_internal/_generate_schema.py:2249: UnsupportedFieldAttributeWarning: The 'repr' attribute with value False was provided to the `Field()` function, which has no effect in the context it was used. 'repr' is field-specific metadata, and can only be attached to a model field using `Annotated` metadata or by assignment. This may have happened because an `Annotated` type alias using the `type` statement was used, or if the `Field()` function was attached to a single member of a union type.\n",
      "  warnings.warn(\n",
      "/home/javialroro/miniconda3/envs/ml/lib/python3.13/site-packages/pydantic/_internal/_generate_schema.py:2249: UnsupportedFieldAttributeWarning: The 'frozen' attribute with value True was provided to the `Field()` function, which has no effect in the context it was used. 'frozen' is field-specific metadata, and can only be attached to a model field using `Annotated` metadata or by assignment. This may have happened because an `Annotated` type alias using the `type` statement was used, or if the `Field()` function was attached to a single member of a union type.\n",
      "  warnings.warn(\n"
     ]
    }
   ],
   "source": [
    "import os, random, csv\n",
    "from glob import glob\n",
    "from PIL import Image\n",
    "import numpy as np\n",
    "import torch\n",
    "import torch.nn as nn\n",
    "from torch.utils.data import Dataset, DataLoader, random_split\n",
    "from torch.optim.lr_scheduler import CosineAnnealingLR\n",
    "from sklearn.metrics import precision_score, recall_score, f1_score\n",
    "import wandb\n",
    "\n",
    "# =====================================================\n",
    "# CONFIGURACIÓN GLOBAL\n",
    "# =====================================================\n",
    "DEVICE = torch.device(\"cuda\" if torch.cuda.is_available() else \"cpu\")\n",
    "SEED = 42\n",
    "random.seed(SEED)\n",
    "np.random.seed(SEED)\n",
    "torch.manual_seed(SEED)\n",
    "torch.cuda.manual_seed_all(SEED)\n",
    "torch.backends.cudnn.deterministic = True\n",
    "torch.backends.cudnn.benchmark = False"
   ]
  },
  {
   "cell_type": "markdown",
   "id": "fde56653",
   "metadata": {},
   "source": [
    "# Tratamiento del dataset"
   ]
  },
  {
   "cell_type": "code",
   "execution_count": 3,
   "id": "6f68c613",
   "metadata": {},
   "outputs": [],
   "source": [
    "class SpectrogramDataset(Dataset):\n",
    "    def __init__(self, root_dirs, img_size=224, grayscale=True):\n",
    "        self.samples = [] \n",
    "        self.class_to_idx, self.idx_to_class = {}, []\n",
    "\n",
    "        classes = set()\n",
    "        for r in root_dirs:\n",
    "            if not os.path.isdir(r): continue\n",
    "            for d in os.listdir(r):\n",
    "                if os.path.isdir(os.path.join(r, d)):\n",
    "                    classes.add(d)\n",
    "        self.idx_to_class = sorted(list(classes))\n",
    "        self.class_to_idx = {c: i for i, c in enumerate(self.idx_to_class)}\n",
    "\n",
    "        for r in root_dirs:\n",
    "            for c in self.idx_to_class:\n",
    "                p = os.path.join(r, c)\n",
    "                if os.path.isdir(p):\n",
    "                    for fp in glob(os.path.join(p, \"*.png\")):\n",
    "                        self.samples.append((fp, self.class_to_idx[c]))\n",
    "\n",
    "        self.img_size = img_size\n",
    "        self.grayscale = grayscale\n",
    "\n",
    "    def __len__(self):\n",
    "        return len(self.samples)\n",
    "\n",
    "    def __getitem__(self, idx):\n",
    "        path, label = self.samples[idx]\n",
    "        img = Image.open(path)\n",
    "        img = img.convert(\"L\") if self.grayscale else img.convert(\"RGB\")\n",
    "        img = img.resize((self.img_size, self.img_size))\n",
    "        arr = np.array(img, dtype=np.float32) / 255.0\n",
    "        if self.grayscale:\n",
    "            arr = arr[None, :, :]\n",
    "        else:\n",
    "            arr = arr.transpose(2, 0, 1)\n",
    "        x = torch.from_numpy(arr)\n",
    "        y = torch.tensor(label, dtype=torch.long)\n",
    "        return x, y"
   ]
  },
  {
   "cell_type": "markdown",
   "id": "7641d8cb",
   "metadata": {},
   "source": [
    "# Modelo A"
   ]
  },
  {
   "cell_type": "code",
   "execution_count": null,
   "id": "46726138",
   "metadata": {},
   "outputs": [],
   "source": [
    "class LeNet5(nn.Module):\n",
    "    def __init__(self, in_channels=1, num_classes=50):\n",
    "        super().__init__()\n",
    "\n",
    "        self.features = nn.Sequential(\n",
    "            nn.Conv2d(in_channels, 6, 5),  \n",
    "            nn.Tanh(),\n",
    "            nn.MaxPool2d(2, 2),            \n",
    "            nn.Conv2d(6, 16, 5),           \n",
    "            nn.Tanh(),\n",
    "            nn.MaxPool2d(2, 2)\n",
    "        )\n",
    "\n",
    "        with torch.no_grad():\n",
    "            dummy = torch.zeros(1, in_channels, 224, 224)\n",
    "            flat_dim = self.features(dummy).numel()\n",
    "\n",
    "        self.classifier = nn.Sequential(\n",
    "            nn.Linear(flat_dim, 120),\n",
    "            nn.Tanh(),\n",
    "            nn.Linear(120, 84),\n",
    "            nn.Tanh(),\n",
    "            nn.Linear(84, num_classes)\n",
    "        )\n",
    "\n",
    "    def forward(self, x):\n",
    "        x = self.features(x)\n",
    "        x = x.view(x.size(0), -1)  \n",
    "        return self.classifier(x)"
   ]
  },
  {
   "cell_type": "markdown",
   "id": "939d73da",
   "metadata": {},
   "source": [
    "## Entrenamiento"
   ]
  },
  {
   "cell_type": "code",
   "execution_count": null,
   "id": "189821ac",
   "metadata": {},
   "outputs": [],
   "source": [
    "def run_experiment(dataset_name, data_dirs, hparams):\n",
    "    print(f\"\\n=== Dataset: {dataset_name} ===\")\n",
    "\n",
    "    for i, hp in enumerate(hparams, 1):\n",
    "        print(f\"\\nEjecutando experimento {i}/{len(hparams)} ...\")\n",
    "\n",
    "        # Inicializa experimento en Weights & Biases\n",
    "        wandb.init(project=\"Proyecto1_IA\", name=f\"{dataset_name}_run{i}\")\n",
    "        wandb.config.update(hp)\n",
    "\n",
    "        # Carga dataset y divide en Train / Val / Test\n",
    "        full = SpectrogramDataset(data_dirs, img_size=224, grayscale=True)\n",
    "        num_classes = len(full.idx_to_class)\n",
    "        N = len(full)\n",
    "        n_test = int(0.1 * N)\n",
    "        n_val = int(0.1 * N)\n",
    "        n_train = N - n_val - n_test\n",
    "        train, val, test = random_split(full, [n_train, n_val, n_test],\n",
    "                                        generator=torch.Generator().manual_seed(SEED))\n",
    "        train_loader = DataLoader(train, batch_size=hp[\"batch\"], shuffle=True)\n",
    "        val_loader = DataLoader(val, batch_size=hp[\"batch\"], shuffle=False)\n",
    "        test_loader = DataLoader(test, batch_size=hp[\"batch\"], shuffle=False)\n",
    "\n",
    "        # Instancia modelo, pérdida, optimizador y scheduler\n",
    "        model = LeNet5(in_channels=1, num_classes=num_classes).to(DEVICE)\n",
    "        criterion = nn.CrossEntropyLoss()\n",
    "        optimizer = torch.optim.Adam(model.parameters(),\n",
    "                                     lr=hp[\"lr\"], weight_decay=hp[\"wd\"])\n",
    "        scheduler = CosineAnnealingLR(optimizer, T_max=hp[\"epochs\"])\n",
    "\n",
    "        # Entrenamiento con early saving del mejor modelo\n",
    "        best_val, best_weights = 0, None\n",
    "\n",
    "        for epoch in range(1, hp[\"epochs\"] + 1):\n",
    "            # ---------------- ENTRENAMIENTO ----------------\n",
    "            model.train()\n",
    "            total_loss, total_acc, n = 0, 0, 0\n",
    "            for x, y in train_loader:\n",
    "                x, y = x.to(DEVICE), y.to(DEVICE)\n",
    "                optimizer.zero_grad()\n",
    "                out = model(x)\n",
    "                loss = criterion(out, y)\n",
    "                loss.backward()\n",
    "                optimizer.step()\n",
    "\n",
    "                # Calcular accuracy directamente\n",
    "                preds = out.argmax(1)\n",
    "                acc = (preds == y).float().mean().item()\n",
    "\n",
    "                bs = y.size(0)\n",
    "                total_loss += loss.item() * bs\n",
    "                total_acc += acc * bs\n",
    "                n += bs\n",
    "\n",
    "            train_loss = total_loss / n\n",
    "            train_acc = total_acc / n\n",
    "\n",
    "            # ---------------- VALIDACIÓN ----------------\n",
    "            model.eval()\n",
    "            val_total_loss, val_total_acc, n_val_batches = 0, 0, 0\n",
    "            preds_all, labels_all = [], []\n",
    "            with torch.no_grad():\n",
    "                for x, y in val_loader:\n",
    "                    x, y = x.to(DEVICE), y.to(DEVICE)\n",
    "                    out = model(x)\n",
    "                    loss = criterion(out, y)\n",
    "\n",
    "                    preds = out.argmax(1)\n",
    "                    acc = (preds == y).float().mean().item()\n",
    "\n",
    "                    bs = y.size(0)\n",
    "                    val_total_loss += loss.item() * bs\n",
    "                    val_total_acc += acc * bs\n",
    "                    preds_all.extend(preds.cpu().numpy())\n",
    "                    labels_all.extend(y.cpu().numpy())\n",
    "                    n_val_batches += bs\n",
    "\n",
    "            val_loss = val_total_loss / n_val_batches\n",
    "            val_acc = val_total_acc / n_val_batches\n",
    "\n",
    "            scheduler.step()\n",
    "\n",
    "            f1 = f1_score(labels_all, preds_all, average=\"macro\", zero_division=0)\n",
    "            prec = precision_score(labels_all, preds_all, average=\"macro\", zero_division=0)\n",
    "            rec = recall_score(labels_all, preds_all, average=\"macro\", zero_division=0)\n",
    "\n",
    "            # Registro en WandB\n",
    "            wandb.log({\n",
    "                \"epoch\": epoch,\n",
    "                \"train_loss\": train_loss,\n",
    "                \"val_loss\": val_loss,\n",
    "                \"train_acc\": train_acc,\n",
    "                \"val_acc\": val_acc,\n",
    "                \"f1\": f1,\n",
    "                \"precision\": prec,\n",
    "                \"recall\": rec\n",
    "            })\n",
    "\n",
    "            print(f\"[{epoch:02d}/{hp['epochs']}] Training Loss={train_loss:.4f} Training Acc={train_acc:.4f} | Validation Loss={val_loss:.4f} Validation Acc={val_acc:.4f} | F1={f1:.4f} Precision={prec:.4f} Recall={rec:.4f}\")\n",
    "\n",
    "            if val_acc > best_val:\n",
    "                best_val = val_acc\n",
    "                best_weights = model.state_dict().copy()\n",
    "\n",
    "        # ---------------- TEST FINAL ----------------\n",
    "        model.load_state_dict(best_weights)\n",
    "        model.eval()\n",
    "        test_total_loss, test_total_acc, n_test_batches = 0, 0, 0\n",
    "        preds_all, labels_all = [], []\n",
    "\n",
    "        with torch.no_grad():\n",
    "            for x, y in test_loader:\n",
    "                x, y = x.to(DEVICE), y.to(DEVICE)\n",
    "                out = model(x)\n",
    "                loss = criterion(out, y)\n",
    "\n",
    "                preds = out.argmax(1)\n",
    "                acc = (preds == y).float().mean().item()\n",
    "\n",
    "                bs = y.size(0)\n",
    "                test_total_loss += loss.item() * bs\n",
    "                test_total_acc += acc * bs\n",
    "                preds_all.extend(preds.cpu().numpy())\n",
    "                labels_all.extend(y.cpu().numpy())\n",
    "                n_test_batches += bs\n",
    "\n",
    "        test_loss = test_total_loss / n_test_batches\n",
    "        test_acc = test_total_acc / n_test_batches\n",
    "\n",
    "\n",
    "        print(f\"→ Mejor val_acc={best_val:.4f} | Test_acc={test_acc:.4f} | F1={f1:.4f}\")\n",
    "\n",
    "        wandb.log({\n",
    "            \"test_acc\": test_acc,\n",
    "            \"f1\": f1,\n",
    "            \"precision\": prec,\n",
    "            \"recall\": rec\n",
    "        })\n",
    "        wandb.finish()"
   ]
  },
  {
   "cell_type": "code",
   "execution_count": 5,
   "id": "8d0a3295",
   "metadata": {},
   "outputs": [
    {
     "name": "stdout",
     "output_type": "stream",
     "text": [
      "Usando dispositivo: cuda\n",
      "\n",
      "=== Dataset: base ===\n",
      "\n",
      "Ejecutando experimento 1/5 ...\n"
     ]
    },
    {
     "name": "stderr",
     "output_type": "stream",
     "text": [
      "\u001b[34m\u001b[1mwandb\u001b[0m: Currently logged in as: \u001b[33mjavialroro\u001b[0m (\u001b[33mjavialroro-tecnologico-de-costa-rica\u001b[0m) to \u001b[32mhttps://api.wandb.ai\u001b[0m. Use \u001b[1m`wandb login --relogin`\u001b[0m to force relogin\n"
     ]
    },
    {
     "data": {
      "text/html": [],
      "text/plain": [
       "<IPython.core.display.HTML object>"
      ]
     },
     "metadata": {},
     "output_type": "display_data"
    },
    {
     "data": {
      "text/html": [
       "Tracking run with wandb version 0.22.2"
      ],
      "text/plain": [
       "<IPython.core.display.HTML object>"
      ]
     },
     "metadata": {},
     "output_type": "display_data"
    },
    {
     "data": {
      "text/html": [
       "Run data is saved locally in <code>/home/javialroro/TEC/2025 II/IA/CNNVoiceRecognition/wandb/run-20251031_084814-iv3yp2jz</code>"
      ],
      "text/plain": [
       "<IPython.core.display.HTML object>"
      ]
     },
     "metadata": {},
     "output_type": "display_data"
    },
    {
     "data": {
      "text/html": [
       "Syncing run <strong><a href='https://wandb.ai/javialroro-tecnologico-de-costa-rica/Proyecto1_IA/runs/iv3yp2jz' target=\"_blank\">base_run1</a></strong> to <a href='https://wandb.ai/javialroro-tecnologico-de-costa-rica/Proyecto1_IA' target=\"_blank\">Weights & Biases</a> (<a href='https://wandb.me/developer-guide' target=\"_blank\">docs</a>)<br>"
      ],
      "text/plain": [
       "<IPython.core.display.HTML object>"
      ]
     },
     "metadata": {},
     "output_type": "display_data"
    },
    {
     "data": {
      "text/html": [
       " View project at <a href='https://wandb.ai/javialroro-tecnologico-de-costa-rica/Proyecto1_IA' target=\"_blank\">https://wandb.ai/javialroro-tecnologico-de-costa-rica/Proyecto1_IA</a>"
      ],
      "text/plain": [
       "<IPython.core.display.HTML object>"
      ]
     },
     "metadata": {},
     "output_type": "display_data"
    },
    {
     "data": {
      "text/html": [
       " View run at <a href='https://wandb.ai/javialroro-tecnologico-de-costa-rica/Proyecto1_IA/runs/iv3yp2jz' target=\"_blank\">https://wandb.ai/javialroro-tecnologico-de-costa-rica/Proyecto1_IA/runs/iv3yp2jz</a>"
      ],
      "text/plain": [
       "<IPython.core.display.HTML object>"
      ]
     },
     "metadata": {},
     "output_type": "display_data"
    },
    {
     "name": "stdout",
     "output_type": "stream",
     "text": [
      "[01/15] Training Loss=3.7872 Training Acc=0.0488 | Validation Loss=3.6646 Validation Acc=0.0650 | F1=0.0292 Precision=0.0196 Recall=0.0777\n",
      "[02/15] Training Loss=3.5576 Training Acc=0.0781 | Validation Loss=3.5791 Validation Acc=0.1050 | F1=0.0677 Precision=0.0842 Recall=0.1260\n",
      "[03/15] Training Loss=3.3990 Training Acc=0.1125 | Validation Loss=3.4219 Validation Acc=0.1200 | F1=0.0851 Precision=0.0883 Recall=0.1463\n",
      "[04/15] Training Loss=3.2593 Training Acc=0.1487 | Validation Loss=3.3879 Validation Acc=0.1400 | F1=0.1049 Precision=0.0962 Recall=0.1729\n",
      "[05/15] Training Loss=3.1570 Training Acc=0.1500 | Validation Loss=3.2397 Validation Acc=0.1650 | F1=0.1163 Precision=0.1045 Recall=0.1787\n",
      "[06/15] Training Loss=3.0392 Training Acc=0.1975 | Validation Loss=3.1816 Validation Acc=0.1350 | F1=0.1038 Precision=0.0960 Recall=0.1721\n",
      "[07/15] Training Loss=2.9688 Training Acc=0.2025 | Validation Loss=3.1435 Validation Acc=0.2150 | F1=0.1652 Precision=0.1621 Recall=0.2349\n",
      "[08/15] Training Loss=2.8704 Training Acc=0.2244 | Validation Loss=3.0583 Validation Acc=0.1850 | F1=0.1322 Precision=0.1155 Recall=0.2111\n",
      "[09/15] Training Loss=2.7713 Training Acc=0.2669 | Validation Loss=2.9756 Validation Acc=0.2300 | F1=0.1715 Precision=0.1635 Recall=0.2330\n",
      "[10/15] Training Loss=2.6906 Training Acc=0.2812 | Validation Loss=2.9309 Validation Acc=0.2350 | F1=0.1776 Precision=0.1718 Recall=0.2528\n",
      "[11/15] Training Loss=2.6149 Training Acc=0.2900 | Validation Loss=2.9032 Validation Acc=0.2600 | F1=0.2035 Precision=0.1985 Recall=0.2565\n",
      "[12/15] Training Loss=2.5437 Training Acc=0.3375 | Validation Loss=2.8870 Validation Acc=0.2600 | F1=0.1939 Precision=0.1890 Recall=0.2513\n",
      "[13/15] Training Loss=2.4913 Training Acc=0.3387 | Validation Loss=2.8498 Validation Acc=0.2700 | F1=0.2005 Precision=0.1881 Recall=0.2555\n",
      "[14/15] Training Loss=2.4525 Training Acc=0.3675 | Validation Loss=2.8407 Validation Acc=0.2700 | F1=0.2012 Precision=0.1838 Recall=0.2593\n",
      "[15/15] Training Loss=2.4315 Training Acc=0.3694 | Validation Loss=2.8357 Validation Acc=0.2700 | F1=0.2010 Precision=0.1849 Recall=0.2603\n",
      "→ Mejor val_acc=0.2700 | Test_acc=0.2300 | F1=0.2010\n"
     ]
    },
    {
     "data": {
      "text/html": [],
      "text/plain": [
       "<IPython.core.display.HTML object>"
      ]
     },
     "metadata": {},
     "output_type": "display_data"
    },
    {
     "data": {
      "text/html": [
       "<br>    <style><br>        .wandb-row {<br>            display: flex;<br>            flex-direction: row;<br>            flex-wrap: wrap;<br>            justify-content: flex-start;<br>            width: 100%;<br>        }<br>        .wandb-col {<br>            display: flex;<br>            flex-direction: column;<br>            flex-basis: 100%;<br>            flex: 1;<br>            padding: 10px;<br>        }<br>    </style><br><div class=\"wandb-row\"><div class=\"wandb-col\"><h3>Run history:</h3><br/><table class=\"wandb\"><tr><td>epoch</td><td>▁▁▂▃▃▃▄▅▅▅▆▇▇▇█</td></tr><tr><td>f1</td><td>▁▃▃▄▄▄▆▅▇▇██████</td></tr><tr><td>precision</td><td>▁▄▄▄▄▄▇▅▇▇███▇▇▇</td></tr><tr><td>recall</td><td>▁▃▄▅▅▅▇▆▇███████</td></tr><tr><td>test_acc</td><td>▁</td></tr><tr><td>train_acc</td><td>▁▂▂▃▃▄▄▅▆▆▆▇▇██</td></tr><tr><td>train_loss</td><td>█▇▆▅▅▄▄▃▃▂▂▂▁▁▁</td></tr><tr><td>val_acc</td><td>▁▂▃▄▄▃▆▅▇▇█████</td></tr><tr><td>val_loss</td><td>█▇▆▆▄▄▄▃▂▂▂▁▁▁▁</td></tr></table><br/></div><div class=\"wandb-col\"><h3>Run summary:</h3><br/><table class=\"wandb\"><tr><td>epoch</td><td>15</td></tr><tr><td>f1</td><td>0.20096</td></tr><tr><td>precision</td><td>0.18489</td></tr><tr><td>recall</td><td>0.26033</td></tr><tr><td>test_acc</td><td>0.23</td></tr><tr><td>train_acc</td><td>0.36938</td></tr><tr><td>train_loss</td><td>2.43154</td></tr><tr><td>val_acc</td><td>0.27</td></tr><tr><td>val_loss</td><td>2.83572</td></tr></table><br/></div></div>"
      ],
      "text/plain": [
       "<IPython.core.display.HTML object>"
      ]
     },
     "metadata": {},
     "output_type": "display_data"
    },
    {
     "data": {
      "text/html": [
       " View run <strong style=\"color:#cdcd00\">base_run1</strong> at: <a href='https://wandb.ai/javialroro-tecnologico-de-costa-rica/Proyecto1_IA/runs/iv3yp2jz' target=\"_blank\">https://wandb.ai/javialroro-tecnologico-de-costa-rica/Proyecto1_IA/runs/iv3yp2jz</a><br> View project at: <a href='https://wandb.ai/javialroro-tecnologico-de-costa-rica/Proyecto1_IA' target=\"_blank\">https://wandb.ai/javialroro-tecnologico-de-costa-rica/Proyecto1_IA</a><br>Synced 5 W&B file(s), 0 media file(s), 0 artifact file(s) and 0 other file(s)"
      ],
      "text/plain": [
       "<IPython.core.display.HTML object>"
      ]
     },
     "metadata": {},
     "output_type": "display_data"
    },
    {
     "data": {
      "text/html": [
       "Find logs at: <code>./wandb/run-20251031_084814-iv3yp2jz/logs</code>"
      ],
      "text/plain": [
       "<IPython.core.display.HTML object>"
      ]
     },
     "metadata": {},
     "output_type": "display_data"
    },
    {
     "name": "stdout",
     "output_type": "stream",
     "text": [
      "\n",
      "Ejecutando experimento 2/5 ...\n"
     ]
    },
    {
     "data": {
      "text/html": [],
      "text/plain": [
       "<IPython.core.display.HTML object>"
      ]
     },
     "metadata": {},
     "output_type": "display_data"
    },
    {
     "data": {
      "text/html": [
       "Tracking run with wandb version 0.22.2"
      ],
      "text/plain": [
       "<IPython.core.display.HTML object>"
      ]
     },
     "metadata": {},
     "output_type": "display_data"
    },
    {
     "data": {
      "text/html": [
       "Run data is saved locally in <code>/home/javialroro/TEC/2025 II/IA/CNNVoiceRecognition/wandb/run-20251031_084903-f285mejf</code>"
      ],
      "text/plain": [
       "<IPython.core.display.HTML object>"
      ]
     },
     "metadata": {},
     "output_type": "display_data"
    },
    {
     "data": {
      "text/html": [
       "Syncing run <strong><a href='https://wandb.ai/javialroro-tecnologico-de-costa-rica/Proyecto1_IA/runs/f285mejf' target=\"_blank\">base_run2</a></strong> to <a href='https://wandb.ai/javialroro-tecnologico-de-costa-rica/Proyecto1_IA' target=\"_blank\">Weights & Biases</a> (<a href='https://wandb.me/developer-guide' target=\"_blank\">docs</a>)<br>"
      ],
      "text/plain": [
       "<IPython.core.display.HTML object>"
      ]
     },
     "metadata": {},
     "output_type": "display_data"
    },
    {
     "data": {
      "text/html": [
       " View project at <a href='https://wandb.ai/javialroro-tecnologico-de-costa-rica/Proyecto1_IA' target=\"_blank\">https://wandb.ai/javialroro-tecnologico-de-costa-rica/Proyecto1_IA</a>"
      ],
      "text/plain": [
       "<IPython.core.display.HTML object>"
      ]
     },
     "metadata": {},
     "output_type": "display_data"
    },
    {
     "data": {
      "text/html": [
       " View run at <a href='https://wandb.ai/javialroro-tecnologico-de-costa-rica/Proyecto1_IA/runs/f285mejf' target=\"_blank\">https://wandb.ai/javialroro-tecnologico-de-costa-rica/Proyecto1_IA/runs/f285mejf</a>"
      ],
      "text/plain": [
       "<IPython.core.display.HTML object>"
      ]
     },
     "metadata": {},
     "output_type": "display_data"
    },
    {
     "name": "stdout",
     "output_type": "stream",
     "text": [
      "[01/15] Training Loss=3.7790 Training Acc=0.0525 | Validation Loss=3.6761 Validation Acc=0.0850 | F1=0.0349 Precision=0.0260 Recall=0.0962\n",
      "[02/15] Training Loss=3.5434 Training Acc=0.0988 | Validation Loss=3.5602 Validation Acc=0.1200 | F1=0.0740 Precision=0.1015 Recall=0.1120\n",
      "[03/15] Training Loss=3.3826 Training Acc=0.1556 | Validation Loss=3.4424 Validation Acc=0.1900 | F1=0.1330 Precision=0.1394 Recall=0.1761\n",
      "[04/15] Training Loss=3.2269 Training Acc=0.1981 | Validation Loss=3.3374 Validation Acc=0.1900 | F1=0.1299 Precision=0.1279 Recall=0.1831\n",
      "[05/15] Training Loss=3.0875 Training Acc=0.2556 | Validation Loss=3.2134 Validation Acc=0.2300 | F1=0.1713 Precision=0.1947 Recall=0.2184\n",
      "[06/15] Training Loss=2.9371 Training Acc=0.3137 | Validation Loss=3.1234 Validation Acc=0.2400 | F1=0.1711 Precision=0.1828 Recall=0.2360\n",
      "[07/15] Training Loss=2.8065 Training Acc=0.3538 | Validation Loss=3.0629 Validation Acc=0.2300 | F1=0.1818 Precision=0.2175 Recall=0.2234\n",
      "[08/15] Training Loss=2.7012 Training Acc=0.3962 | Validation Loss=3.0063 Validation Acc=0.2550 | F1=0.1857 Precision=0.1939 Recall=0.2534\n",
      "[09/15] Training Loss=2.5867 Training Acc=0.4344 | Validation Loss=2.9516 Validation Acc=0.2800 | F1=0.2093 Precision=0.2099 Recall=0.2765\n",
      "[10/15] Training Loss=2.4977 Training Acc=0.4819 | Validation Loss=2.9046 Validation Acc=0.3000 | F1=0.2392 Precision=0.2369 Recall=0.3046\n",
      "[11/15] Training Loss=2.4270 Training Acc=0.5006 | Validation Loss=2.8815 Validation Acc=0.3150 | F1=0.2505 Precision=0.2445 Recall=0.3240\n",
      "[12/15] Training Loss=2.3720 Training Acc=0.5256 | Validation Loss=2.8613 Validation Acc=0.3100 | F1=0.2552 Precision=0.2638 Recall=0.3384\n",
      "[13/15] Training Loss=2.3350 Training Acc=0.5375 | Validation Loss=2.8489 Validation Acc=0.3200 | F1=0.2602 Precision=0.2448 Recall=0.3347\n",
      "[14/15] Training Loss=2.3132 Training Acc=0.5481 | Validation Loss=2.8560 Validation Acc=0.3300 | F1=0.2727 Precision=0.2740 Recall=0.3462\n",
      "[15/15] Training Loss=2.3028 Training Acc=0.5537 | Validation Loss=2.8507 Validation Acc=0.3300 | F1=0.2750 Precision=0.2764 Recall=0.3462\n",
      "→ Mejor val_acc=0.3300 | Test_acc=0.3250 | F1=0.2750\n"
     ]
    },
    {
     "data": {
      "text/html": [],
      "text/plain": [
       "<IPython.core.display.HTML object>"
      ]
     },
     "metadata": {},
     "output_type": "display_data"
    },
    {
     "data": {
      "text/html": [
       "<br>    <style><br>        .wandb-row {<br>            display: flex;<br>            flex-direction: row;<br>            flex-wrap: wrap;<br>            justify-content: flex-start;<br>            width: 100%;<br>        }<br>        .wandb-col {<br>            display: flex;<br>            flex-direction: column;<br>            flex-basis: 100%;<br>            flex: 1;<br>            padding: 10px;<br>        }<br>    </style><br><div class=\"wandb-row\"><div class=\"wandb-col\"><h3>Run history:</h3><br/><table class=\"wandb\"><tr><td>epoch</td><td>▁▁▂▃▃▃▄▅▅▅▆▇▇▇█</td></tr><tr><td>f1</td><td>▁▂▄▄▅▅▅▅▆▇▇▇████</td></tr><tr><td>precision</td><td>▁▃▄▄▆▅▆▆▆▇▇█▇███</td></tr><tr><td>recall</td><td>▁▁▃▃▄▅▅▅▆▇▇█████</td></tr><tr><td>test_acc</td><td>▁</td></tr><tr><td>train_acc</td><td>▁▂▂▃▄▅▅▆▆▇▇████</td></tr><tr><td>train_loss</td><td>█▇▆▅▅▄▃▃▂▂▂▁▁▁▁</td></tr><tr><td>val_acc</td><td>▁▂▄▄▅▅▅▆▇▇█▇███</td></tr><tr><td>val_loss</td><td>█▇▆▅▄▃▃▂▂▁▁▁▁▁▁</td></tr></table><br/></div><div class=\"wandb-col\"><h3>Run summary:</h3><br/><table class=\"wandb\"><tr><td>epoch</td><td>15</td></tr><tr><td>f1</td><td>0.27498</td></tr><tr><td>precision</td><td>0.27635</td></tr><tr><td>recall</td><td>0.34624</td></tr><tr><td>test_acc</td><td>0.325</td></tr><tr><td>train_acc</td><td>0.55375</td></tr><tr><td>train_loss</td><td>2.30285</td></tr><tr><td>val_acc</td><td>0.33</td></tr><tr><td>val_loss</td><td>2.85072</td></tr></table><br/></div></div>"
      ],
      "text/plain": [
       "<IPython.core.display.HTML object>"
      ]
     },
     "metadata": {},
     "output_type": "display_data"
    },
    {
     "data": {
      "text/html": [
       " View run <strong style=\"color:#cdcd00\">base_run2</strong> at: <a href='https://wandb.ai/javialroro-tecnologico-de-costa-rica/Proyecto1_IA/runs/f285mejf' target=\"_blank\">https://wandb.ai/javialroro-tecnologico-de-costa-rica/Proyecto1_IA/runs/f285mejf</a><br> View project at: <a href='https://wandb.ai/javialroro-tecnologico-de-costa-rica/Proyecto1_IA' target=\"_blank\">https://wandb.ai/javialroro-tecnologico-de-costa-rica/Proyecto1_IA</a><br>Synced 5 W&B file(s), 0 media file(s), 0 artifact file(s) and 0 other file(s)"
      ],
      "text/plain": [
       "<IPython.core.display.HTML object>"
      ]
     },
     "metadata": {},
     "output_type": "display_data"
    },
    {
     "data": {
      "text/html": [
       "Find logs at: <code>./wandb/run-20251031_084903-f285mejf/logs</code>"
      ],
      "text/plain": [
       "<IPython.core.display.HTML object>"
      ]
     },
     "metadata": {},
     "output_type": "display_data"
    },
    {
     "name": "stdout",
     "output_type": "stream",
     "text": [
      "\n",
      "Ejecutando experimento 3/5 ...\n"
     ]
    },
    {
     "data": {
      "text/html": [],
      "text/plain": [
       "<IPython.core.display.HTML object>"
      ]
     },
     "metadata": {},
     "output_type": "display_data"
    },
    {
     "data": {
      "text/html": [
       "Tracking run with wandb version 0.22.2"
      ],
      "text/plain": [
       "<IPython.core.display.HTML object>"
      ]
     },
     "metadata": {},
     "output_type": "display_data"
    },
    {
     "data": {
      "text/html": [
       "Run data is saved locally in <code>/home/javialroro/TEC/2025 II/IA/CNNVoiceRecognition/wandb/run-20251031_084951-m0mh1i1n</code>"
      ],
      "text/plain": [
       "<IPython.core.display.HTML object>"
      ]
     },
     "metadata": {},
     "output_type": "display_data"
    },
    {
     "data": {
      "text/html": [
       "Syncing run <strong><a href='https://wandb.ai/javialroro-tecnologico-de-costa-rica/Proyecto1_IA/runs/m0mh1i1n' target=\"_blank\">base_run3</a></strong> to <a href='https://wandb.ai/javialroro-tecnologico-de-costa-rica/Proyecto1_IA' target=\"_blank\">Weights & Biases</a> (<a href='https://wandb.me/developer-guide' target=\"_blank\">docs</a>)<br>"
      ],
      "text/plain": [
       "<IPython.core.display.HTML object>"
      ]
     },
     "metadata": {},
     "output_type": "display_data"
    },
    {
     "data": {
      "text/html": [
       " View project at <a href='https://wandb.ai/javialroro-tecnologico-de-costa-rica/Proyecto1_IA' target=\"_blank\">https://wandb.ai/javialroro-tecnologico-de-costa-rica/Proyecto1_IA</a>"
      ],
      "text/plain": [
       "<IPython.core.display.HTML object>"
      ]
     },
     "metadata": {},
     "output_type": "display_data"
    },
    {
     "data": {
      "text/html": [
       " View run at <a href='https://wandb.ai/javialroro-tecnologico-de-costa-rica/Proyecto1_IA/runs/m0mh1i1n' target=\"_blank\">https://wandb.ai/javialroro-tecnologico-de-costa-rica/Proyecto1_IA/runs/m0mh1i1n</a>"
      ],
      "text/plain": [
       "<IPython.core.display.HTML object>"
      ]
     },
     "metadata": {},
     "output_type": "display_data"
    },
    {
     "name": "stdout",
     "output_type": "stream",
     "text": [
      "[01/20] Training Loss=3.8166 Training Acc=0.0406 | Validation Loss=3.7040 Validation Acc=0.0450 | F1=0.0260 Precision=0.0202 Recall=0.0770\n",
      "[02/20] Training Loss=3.4997 Training Acc=0.1062 | Validation Loss=3.5066 Validation Acc=0.1050 | F1=0.0617 Precision=0.0652 Recall=0.1182\n",
      "[03/20] Training Loss=3.2600 Training Acc=0.1750 | Validation Loss=3.2898 Validation Acc=0.2250 | F1=0.1453 Precision=0.1365 Recall=0.2088\n",
      "[04/20] Training Loss=3.0306 Training Acc=0.2350 | Validation Loss=3.1700 Validation Acc=0.2350 | F1=0.1740 Precision=0.1787 Recall=0.2450\n",
      "[05/20] Training Loss=2.7899 Training Acc=0.2981 | Validation Loss=3.0390 Validation Acc=0.2600 | F1=0.2194 Precision=0.2355 Recall=0.3046\n",
      "[06/20] Training Loss=2.5548 Training Acc=0.3862 | Validation Loss=2.9418 Validation Acc=0.2350 | F1=0.1812 Precision=0.1733 Recall=0.2540\n",
      "[07/20] Training Loss=2.2897 Training Acc=0.5094 | Validation Loss=2.8114 Validation Acc=0.3000 | F1=0.2392 Precision=0.2303 Recall=0.3361\n",
      "[08/20] Training Loss=2.0293 Training Acc=0.5931 | Validation Loss=2.7354 Validation Acc=0.2900 | F1=0.2349 Precision=0.2243 Recall=0.3226\n",
      "[09/20] Training Loss=1.7798 Training Acc=0.6725 | Validation Loss=2.7017 Validation Acc=0.2850 | F1=0.2377 Precision=0.2135 Recall=0.3263\n",
      "[10/20] Training Loss=1.5469 Training Acc=0.7638 | Validation Loss=2.6457 Validation Acc=0.3000 | F1=0.2793 Precision=0.3220 Recall=0.3391\n",
      "[11/20] Training Loss=1.3200 Training Acc=0.8294 | Validation Loss=2.6238 Validation Acc=0.3450 | F1=0.3108 Precision=0.3504 Recall=0.3736\n",
      "[12/20] Training Loss=1.1389 Training Acc=0.8712 | Validation Loss=2.5723 Validation Acc=0.3200 | F1=0.2952 Precision=0.3168 Recall=0.3585\n",
      "[13/20] Training Loss=0.9912 Training Acc=0.9019 | Validation Loss=2.5434 Validation Acc=0.3200 | F1=0.3006 Precision=0.3164 Recall=0.3590\n",
      "[14/20] Training Loss=0.8858 Training Acc=0.9206 | Validation Loss=2.5409 Validation Acc=0.3150 | F1=0.2817 Precision=0.2770 Recall=0.3567\n",
      "[15/20] Training Loss=0.8048 Training Acc=0.9406 | Validation Loss=2.5046 Validation Acc=0.3250 | F1=0.2993 Precision=0.3108 Recall=0.3607\n",
      "[16/20] Training Loss=0.7455 Training Acc=0.9444 | Validation Loss=2.5023 Validation Acc=0.3200 | F1=0.2989 Precision=0.3219 Recall=0.3520\n",
      "[17/20] Training Loss=0.7073 Training Acc=0.9544 | Validation Loss=2.5009 Validation Acc=0.3200 | F1=0.3059 Precision=0.3220 Recall=0.3547\n",
      "[18/20] Training Loss=0.6837 Training Acc=0.9563 | Validation Loss=2.4934 Validation Acc=0.3200 | F1=0.3080 Precision=0.3325 Recall=0.3557\n",
      "[19/20] Training Loss=0.6705 Training Acc=0.9587 | Validation Loss=2.4975 Validation Acc=0.3200 | F1=0.3044 Precision=0.3289 Recall=0.3557\n",
      "[20/20] Training Loss=0.6649 Training Acc=0.9606 | Validation Loss=2.4964 Validation Acc=0.3200 | F1=0.3044 Precision=0.3289 Recall=0.3557\n",
      "→ Mejor val_acc=0.3450 | Test_acc=0.2950 | F1=0.3044\n"
     ]
    },
    {
     "data": {
      "text/html": [],
      "text/plain": [
       "<IPython.core.display.HTML object>"
      ]
     },
     "metadata": {},
     "output_type": "display_data"
    },
    {
     "data": {
      "text/html": [
       "<br>    <style><br>        .wandb-row {<br>            display: flex;<br>            flex-direction: row;<br>            flex-wrap: wrap;<br>            justify-content: flex-start;<br>            width: 100%;<br>        }<br>        .wandb-col {<br>            display: flex;<br>            flex-direction: column;<br>            flex-basis: 100%;<br>            flex: 1;<br>            padding: 10px;<br>        }<br>    </style><br><div class=\"wandb-row\"><div class=\"wandb-col\"><h3>Run history:</h3><br/><table class=\"wandb\"><tr><td>epoch</td><td>▁▁▂▂▂▃▃▄▄▄▅▅▅▆▆▇▇▇██</td></tr><tr><td>f1</td><td>▁▂▄▅▆▅▆▆▆▇███▇███████</td></tr><tr><td>precision</td><td>▁▂▃▄▆▄▅▅▅▇█▇▇▆▇▇▇████</td></tr><tr><td>recall</td><td>▁▂▄▅▆▅▇▇▇▇█████▇█████</td></tr><tr><td>test_acc</td><td>▁</td></tr><tr><td>train_acc</td><td>▁▁▂▂▃▄▅▅▆▇▇▇████████</td></tr><tr><td>train_loss</td><td>█▇▇▆▆▅▅▄▃▃▂▂▂▁▁▁▁▁▁▁</td></tr><tr><td>val_acc</td><td>▁▂▅▅▆▅▇▇▇▇█▇▇▇█▇▇▇▇▇</td></tr><tr><td>val_loss</td><td>█▇▆▅▄▄▃▂▂▂▂▁▁▁▁▁▁▁▁▁</td></tr></table><br/></div><div class=\"wandb-col\"><h3>Run summary:</h3><br/><table class=\"wandb\"><tr><td>epoch</td><td>20</td></tr><tr><td>f1</td><td>0.30444</td></tr><tr><td>precision</td><td>0.32887</td></tr><tr><td>recall</td><td>0.35567</td></tr><tr><td>test_acc</td><td>0.295</td></tr><tr><td>train_acc</td><td>0.96062</td></tr><tr><td>train_loss</td><td>0.66489</td></tr><tr><td>val_acc</td><td>0.32</td></tr><tr><td>val_loss</td><td>2.49635</td></tr></table><br/></div></div>"
      ],
      "text/plain": [
       "<IPython.core.display.HTML object>"
      ]
     },
     "metadata": {},
     "output_type": "display_data"
    },
    {
     "data": {
      "text/html": [
       " View run <strong style=\"color:#cdcd00\">base_run3</strong> at: <a href='https://wandb.ai/javialroro-tecnologico-de-costa-rica/Proyecto1_IA/runs/m0mh1i1n' target=\"_blank\">https://wandb.ai/javialroro-tecnologico-de-costa-rica/Proyecto1_IA/runs/m0mh1i1n</a><br> View project at: <a href='https://wandb.ai/javialroro-tecnologico-de-costa-rica/Proyecto1_IA' target=\"_blank\">https://wandb.ai/javialroro-tecnologico-de-costa-rica/Proyecto1_IA</a><br>Synced 5 W&B file(s), 0 media file(s), 0 artifact file(s) and 0 other file(s)"
      ],
      "text/plain": [
       "<IPython.core.display.HTML object>"
      ]
     },
     "metadata": {},
     "output_type": "display_data"
    },
    {
     "data": {
      "text/html": [
       "Find logs at: <code>./wandb/run-20251031_084951-m0mh1i1n/logs</code>"
      ],
      "text/plain": [
       "<IPython.core.display.HTML object>"
      ]
     },
     "metadata": {},
     "output_type": "display_data"
    },
    {
     "name": "stdout",
     "output_type": "stream",
     "text": [
      "\n",
      "Ejecutando experimento 4/5 ...\n"
     ]
    },
    {
     "data": {
      "text/html": [],
      "text/plain": [
       "<IPython.core.display.HTML object>"
      ]
     },
     "metadata": {},
     "output_type": "display_data"
    },
    {
     "data": {
      "text/html": [
       "Tracking run with wandb version 0.22.2"
      ],
      "text/plain": [
       "<IPython.core.display.HTML object>"
      ]
     },
     "metadata": {},
     "output_type": "display_data"
    },
    {
     "data": {
      "text/html": [
       "Run data is saved locally in <code>/home/javialroro/TEC/2025 II/IA/CNNVoiceRecognition/wandb/run-20251031_085053-rhmm2vs8</code>"
      ],
      "text/plain": [
       "<IPython.core.display.HTML object>"
      ]
     },
     "metadata": {},
     "output_type": "display_data"
    },
    {
     "data": {
      "text/html": [
       "Syncing run <strong><a href='https://wandb.ai/javialroro-tecnologico-de-costa-rica/Proyecto1_IA/runs/rhmm2vs8' target=\"_blank\">base_run4</a></strong> to <a href='https://wandb.ai/javialroro-tecnologico-de-costa-rica/Proyecto1_IA' target=\"_blank\">Weights & Biases</a> (<a href='https://wandb.me/developer-guide' target=\"_blank\">docs</a>)<br>"
      ],
      "text/plain": [
       "<IPython.core.display.HTML object>"
      ]
     },
     "metadata": {},
     "output_type": "display_data"
    },
    {
     "data": {
      "text/html": [
       " View project at <a href='https://wandb.ai/javialroro-tecnologico-de-costa-rica/Proyecto1_IA' target=\"_blank\">https://wandb.ai/javialroro-tecnologico-de-costa-rica/Proyecto1_IA</a>"
      ],
      "text/plain": [
       "<IPython.core.display.HTML object>"
      ]
     },
     "metadata": {},
     "output_type": "display_data"
    },
    {
     "data": {
      "text/html": [
       " View run at <a href='https://wandb.ai/javialroro-tecnologico-de-costa-rica/Proyecto1_IA/runs/rhmm2vs8' target=\"_blank\">https://wandb.ai/javialroro-tecnologico-de-costa-rica/Proyecto1_IA/runs/rhmm2vs8</a>"
      ],
      "text/plain": [
       "<IPython.core.display.HTML object>"
      ]
     },
     "metadata": {},
     "output_type": "display_data"
    },
    {
     "name": "stdout",
     "output_type": "stream",
     "text": [
      "[01/20] Training Loss=3.8171 Training Acc=0.0494 | Validation Loss=3.6902 Validation Acc=0.0650 | F1=0.0367 Precision=0.0278 Recall=0.0893\n",
      "[02/20] Training Loss=3.5265 Training Acc=0.1131 | Validation Loss=3.5122 Validation Acc=0.1050 | F1=0.0605 Precision=0.0582 Recall=0.1370\n",
      "[03/20] Training Loss=3.2845 Training Acc=0.1831 | Validation Loss=3.2806 Validation Acc=0.1900 | F1=0.1363 Precision=0.1566 Recall=0.1815\n",
      "[04/20] Training Loss=3.0594 Training Acc=0.2444 | Validation Loss=3.1352 Validation Acc=0.2100 | F1=0.1697 Precision=0.1645 Recall=0.2440\n",
      "[05/20] Training Loss=2.8415 Training Acc=0.3169 | Validation Loss=3.0163 Validation Acc=0.2800 | F1=0.2143 Precision=0.2173 Recall=0.2833\n",
      "[06/20] Training Loss=2.6480 Training Acc=0.3881 | Validation Loss=2.9042 Validation Acc=0.2800 | F1=0.2396 Precision=0.2555 Recall=0.2990\n",
      "[07/20] Training Loss=2.4365 Training Acc=0.4500 | Validation Loss=2.8976 Validation Acc=0.2850 | F1=0.2399 Precision=0.2433 Recall=0.3171\n",
      "[08/20] Training Loss=2.2274 Training Acc=0.5450 | Validation Loss=2.8219 Validation Acc=0.3050 | F1=0.2425 Precision=0.2288 Recall=0.3254\n",
      "[09/20] Training Loss=2.0032 Training Acc=0.6288 | Validation Loss=2.7097 Validation Acc=0.3550 | F1=0.2969 Precision=0.3025 Recall=0.3640\n",
      "[10/20] Training Loss=1.8167 Training Acc=0.7050 | Validation Loss=2.6588 Validation Acc=0.3400 | F1=0.3013 Precision=0.3125 Recall=0.3769\n",
      "[11/20] Training Loss=1.6261 Training Acc=0.7600 | Validation Loss=2.5973 Validation Acc=0.3850 | F1=0.3255 Precision=0.3355 Recall=0.3935\n",
      "[12/20] Training Loss=1.4549 Training Acc=0.8131 | Validation Loss=2.5598 Validation Acc=0.3850 | F1=0.3256 Precision=0.3315 Recall=0.4027\n",
      "[13/20] Training Loss=1.3187 Training Acc=0.8550 | Validation Loss=2.5282 Validation Acc=0.3850 | F1=0.3534 Precision=0.3847 Recall=0.4098\n",
      "[14/20] Training Loss=1.2049 Training Acc=0.8844 | Validation Loss=2.5031 Validation Acc=0.3650 | F1=0.3286 Precision=0.3607 Recall=0.3929\n",
      "[15/20] Training Loss=1.1167 Training Acc=0.8994 | Validation Loss=2.4918 Validation Acc=0.3900 | F1=0.3443 Precision=0.3814 Recall=0.4198\n",
      "[16/20] Training Loss=1.0541 Training Acc=0.9156 | Validation Loss=2.4910 Validation Acc=0.4000 | F1=0.3560 Precision=0.3593 Recall=0.4258\n",
      "[17/20] Training Loss=1.0073 Training Acc=0.9237 | Validation Loss=2.4678 Validation Acc=0.4050 | F1=0.3629 Precision=0.3787 Recall=0.4260\n",
      "[18/20] Training Loss=0.9772 Training Acc=0.9294 | Validation Loss=2.4785 Validation Acc=0.4050 | F1=0.3648 Precision=0.3783 Recall=0.4320\n",
      "[19/20] Training Loss=0.9590 Training Acc=0.9344 | Validation Loss=2.4711 Validation Acc=0.4050 | F1=0.3652 Precision=0.3874 Recall=0.4260\n",
      "[20/20] Training Loss=0.9503 Training Acc=0.9369 | Validation Loss=2.4705 Validation Acc=0.4050 | F1=0.3648 Precision=0.3822 Recall=0.4260\n",
      "→ Mejor val_acc=0.4050 | Test_acc=0.3950 | F1=0.3648\n"
     ]
    },
    {
     "data": {
      "text/html": [],
      "text/plain": [
       "<IPython.core.display.HTML object>"
      ]
     },
     "metadata": {},
     "output_type": "display_data"
    },
    {
     "data": {
      "text/html": [
       "<br>    <style><br>        .wandb-row {<br>            display: flex;<br>            flex-direction: row;<br>            flex-wrap: wrap;<br>            justify-content: flex-start;<br>            width: 100%;<br>        }<br>        .wandb-col {<br>            display: flex;<br>            flex-direction: column;<br>            flex-basis: 100%;<br>            flex: 1;<br>            padding: 10px;<br>        }<br>    </style><br><div class=\"wandb-row\"><div class=\"wandb-col\"><h3>Run history:</h3><br/><table class=\"wandb\"><tr><td>epoch</td><td>▁▁▂▂▂▃▃▄▄▄▅▅▅▆▆▇▇▇██</td></tr><tr><td>f1</td><td>▁▂▃▄▅▅▅▅▇▇▇▇█▇███████</td></tr><tr><td>precision</td><td>▁▂▄▄▅▅▅▅▆▇▇▇█▇█▇█████</td></tr><tr><td>recall</td><td>▁▂▃▄▅▅▆▆▇▇▇▇█▇███████</td></tr><tr><td>test_acc</td><td>▁</td></tr><tr><td>train_acc</td><td>▁▂▂▃▃▄▄▅▆▆▇▇▇███████</td></tr><tr><td>train_loss</td><td>█▇▇▆▆▅▅▄▄▃▃▂▂▂▁▁▁▁▁▁</td></tr><tr><td>val_acc</td><td>▁▂▄▄▅▅▆▆▇▇███▇██████</td></tr><tr><td>val_loss</td><td>█▇▆▅▄▃▃▃▂▂▂▂▁▁▁▁▁▁▁▁</td></tr></table><br/></div><div class=\"wandb-col\"><h3>Run summary:</h3><br/><table class=\"wandb\"><tr><td>epoch</td><td>20</td></tr><tr><td>f1</td><td>0.36479</td></tr><tr><td>precision</td><td>0.38223</td></tr><tr><td>recall</td><td>0.42595</td></tr><tr><td>test_acc</td><td>0.395</td></tr><tr><td>train_acc</td><td>0.93688</td></tr><tr><td>train_loss</td><td>0.95025</td></tr><tr><td>val_acc</td><td>0.405</td></tr><tr><td>val_loss</td><td>2.47053</td></tr></table><br/></div></div>"
      ],
      "text/plain": [
       "<IPython.core.display.HTML object>"
      ]
     },
     "metadata": {},
     "output_type": "display_data"
    },
    {
     "data": {
      "text/html": [
       " View run <strong style=\"color:#cdcd00\">base_run4</strong> at: <a href='https://wandb.ai/javialroro-tecnologico-de-costa-rica/Proyecto1_IA/runs/rhmm2vs8' target=\"_blank\">https://wandb.ai/javialroro-tecnologico-de-costa-rica/Proyecto1_IA/runs/rhmm2vs8</a><br> View project at: <a href='https://wandb.ai/javialroro-tecnologico-de-costa-rica/Proyecto1_IA' target=\"_blank\">https://wandb.ai/javialroro-tecnologico-de-costa-rica/Proyecto1_IA</a><br>Synced 5 W&B file(s), 0 media file(s), 0 artifact file(s) and 0 other file(s)"
      ],
      "text/plain": [
       "<IPython.core.display.HTML object>"
      ]
     },
     "metadata": {},
     "output_type": "display_data"
    },
    {
     "data": {
      "text/html": [
       "Find logs at: <code>./wandb/run-20251031_085053-rhmm2vs8/logs</code>"
      ],
      "text/plain": [
       "<IPython.core.display.HTML object>"
      ]
     },
     "metadata": {},
     "output_type": "display_data"
    },
    {
     "name": "stdout",
     "output_type": "stream",
     "text": [
      "\n",
      "Ejecutando experimento 5/5 ...\n"
     ]
    },
    {
     "data": {
      "text/html": [],
      "text/plain": [
       "<IPython.core.display.HTML object>"
      ]
     },
     "metadata": {},
     "output_type": "display_data"
    },
    {
     "data": {
      "text/html": [
       "Tracking run with wandb version 0.22.2"
      ],
      "text/plain": [
       "<IPython.core.display.HTML object>"
      ]
     },
     "metadata": {},
     "output_type": "display_data"
    },
    {
     "data": {
      "text/html": [
       "Run data is saved locally in <code>/home/javialroro/TEC/2025 II/IA/CNNVoiceRecognition/wandb/run-20251031_085201-hyme1thw</code>"
      ],
      "text/plain": [
       "<IPython.core.display.HTML object>"
      ]
     },
     "metadata": {},
     "output_type": "display_data"
    },
    {
     "data": {
      "text/html": [
       "Syncing run <strong><a href='https://wandb.ai/javialroro-tecnologico-de-costa-rica/Proyecto1_IA/runs/hyme1thw' target=\"_blank\">base_run5</a></strong> to <a href='https://wandb.ai/javialroro-tecnologico-de-costa-rica/Proyecto1_IA' target=\"_blank\">Weights & Biases</a> (<a href='https://wandb.me/developer-guide' target=\"_blank\">docs</a>)<br>"
      ],
      "text/plain": [
       "<IPython.core.display.HTML object>"
      ]
     },
     "metadata": {},
     "output_type": "display_data"
    },
    {
     "data": {
      "text/html": [
       " View project at <a href='https://wandb.ai/javialroro-tecnologico-de-costa-rica/Proyecto1_IA' target=\"_blank\">https://wandb.ai/javialroro-tecnologico-de-costa-rica/Proyecto1_IA</a>"
      ],
      "text/plain": [
       "<IPython.core.display.HTML object>"
      ]
     },
     "metadata": {},
     "output_type": "display_data"
    },
    {
     "data": {
      "text/html": [
       " View run at <a href='https://wandb.ai/javialroro-tecnologico-de-costa-rica/Proyecto1_IA/runs/hyme1thw' target=\"_blank\">https://wandb.ai/javialroro-tecnologico-de-costa-rica/Proyecto1_IA/runs/hyme1thw</a>"
      ],
      "text/plain": [
       "<IPython.core.display.HTML object>"
      ]
     },
     "metadata": {},
     "output_type": "display_data"
    },
    {
     "name": "stdout",
     "output_type": "stream",
     "text": [
      "[01/25] Training Loss=3.8216 Training Acc=0.0344 | Validation Loss=3.7609 Validation Acc=0.0500 | F1=0.0064 Precision=0.0035 Recall=0.0427\n",
      "[02/25] Training Loss=3.6607 Training Acc=0.0919 | Validation Loss=3.6804 Validation Acc=0.0950 | F1=0.0467 Precision=0.0471 Recall=0.1015\n",
      "[03/25] Training Loss=3.5718 Training Acc=0.1381 | Validation Loss=3.6114 Validation Acc=0.1300 | F1=0.0818 Precision=0.1159 Recall=0.1496\n",
      "[04/25] Training Loss=3.4931 Training Acc=0.1656 | Validation Loss=3.5666 Validation Acc=0.1450 | F1=0.0999 Precision=0.1306 Recall=0.1634\n",
      "[05/25] Training Loss=3.4216 Training Acc=0.2000 | Validation Loss=3.5104 Validation Acc=0.1700 | F1=0.1085 Precision=0.1382 Recall=0.1860\n",
      "[06/25] Training Loss=3.3591 Training Acc=0.2112 | Validation Loss=3.4748 Validation Acc=0.1650 | F1=0.1115 Precision=0.1240 Recall=0.1908\n",
      "[07/25] Training Loss=3.3064 Training Acc=0.2406 | Validation Loss=3.4283 Validation Acc=0.1900 | F1=0.1318 Precision=0.1379 Recall=0.2070\n",
      "[08/25] Training Loss=3.2498 Training Acc=0.2412 | Validation Loss=3.4044 Validation Acc=0.2000 | F1=0.1534 Precision=0.1743 Recall=0.2336\n",
      "[09/25] Training Loss=3.2041 Training Acc=0.2694 | Validation Loss=3.3701 Validation Acc=0.1950 | F1=0.1362 Precision=0.1393 Recall=0.2118\n",
      "[10/25] Training Loss=3.1618 Training Acc=0.2712 | Validation Loss=3.3443 Validation Acc=0.2100 | F1=0.1569 Precision=0.1538 Recall=0.2441\n",
      "[11/25] Training Loss=3.1216 Training Acc=0.2981 | Validation Loss=3.3279 Validation Acc=0.2000 | F1=0.1456 Precision=0.1484 Recall=0.2335\n",
      "[12/25] Training Loss=3.0890 Training Acc=0.3056 | Validation Loss=3.3052 Validation Acc=0.2000 | F1=0.1408 Precision=0.1429 Recall=0.2375\n",
      "[13/25] Training Loss=3.0520 Training Acc=0.3275 | Validation Loss=3.2843 Validation Acc=0.2150 | F1=0.1566 Precision=0.1620 Recall=0.2475\n",
      "[14/25] Training Loss=3.0253 Training Acc=0.3344 | Validation Loss=3.2626 Validation Acc=0.2150 | F1=0.1529 Precision=0.1500 Recall=0.2415\n",
      "[15/25] Training Loss=3.0010 Training Acc=0.3469 | Validation Loss=3.2568 Validation Acc=0.2300 | F1=0.1656 Precision=0.1568 Recall=0.2567\n",
      "[16/25] Training Loss=2.9768 Training Acc=0.3638 | Validation Loss=3.2583 Validation Acc=0.2250 | F1=0.1700 Precision=0.1618 Recall=0.2627\n",
      "[17/25] Training Loss=2.9577 Training Acc=0.3706 | Validation Loss=3.2436 Validation Acc=0.2250 | F1=0.1662 Precision=0.1485 Recall=0.2625\n",
      "[18/25] Training Loss=2.9428 Training Acc=0.3787 | Validation Loss=3.2337 Validation Acc=0.2450 | F1=0.1746 Precision=0.1572 Recall=0.2746\n",
      "[19/25] Training Loss=2.9294 Training Acc=0.3894 | Validation Loss=3.2263 Validation Acc=0.2400 | F1=0.1731 Precision=0.1555 Recall=0.2706\n",
      "[20/25] Training Loss=2.9197 Training Acc=0.3906 | Validation Loss=3.2206 Validation Acc=0.2450 | F1=0.1795 Precision=0.1754 Recall=0.2674\n",
      "[21/25] Training Loss=2.9112 Training Acc=0.3869 | Validation Loss=3.2155 Validation Acc=0.2400 | F1=0.1703 Precision=0.1500 Recall=0.2634\n",
      "[22/25] Training Loss=2.9053 Training Acc=0.3950 | Validation Loss=3.2143 Validation Acc=0.2400 | F1=0.1701 Precision=0.1512 Recall=0.2634\n",
      "[23/25] Training Loss=2.9010 Training Acc=0.3975 | Validation Loss=3.2157 Validation Acc=0.2400 | F1=0.1691 Precision=0.1510 Recall=0.2634\n",
      "[24/25] Training Loss=2.8990 Training Acc=0.3987 | Validation Loss=3.2160 Validation Acc=0.2400 | F1=0.1705 Precision=0.1526 Recall=0.2706\n",
      "[25/25] Training Loss=2.8978 Training Acc=0.3981 | Validation Loss=3.2155 Validation Acc=0.2400 | F1=0.1705 Precision=0.1526 Recall=0.2706\n",
      "→ Mejor val_acc=0.2450 | Test_acc=0.2650 | F1=0.1705\n"
     ]
    },
    {
     "data": {
      "text/html": [],
      "text/plain": [
       "<IPython.core.display.HTML object>"
      ]
     },
     "metadata": {},
     "output_type": "display_data"
    },
    {
     "data": {
      "text/html": [
       "<br>    <style><br>        .wandb-row {<br>            display: flex;<br>            flex-direction: row;<br>            flex-wrap: wrap;<br>            justify-content: flex-start;<br>            width: 100%;<br>        }<br>        .wandb-col {<br>            display: flex;<br>            flex-direction: column;<br>            flex-basis: 100%;<br>            flex: 1;<br>            padding: 10px;<br>        }<br>    </style><br><div class=\"wandb-row\"><div class=\"wandb-col\"><h3>Run history:</h3><br/><table class=\"wandb\"><tr><td>epoch</td><td>▁▁▂▂▂▂▃▃▃▄▄▄▅▅▅▅▆▆▆▇▇▇▇██</td></tr><tr><td>f1</td><td>▁▃▄▅▅▅▆▇▆▇▇▆▇▇▇█▇█████████</td></tr><tr><td>precision</td><td>▁▃▆▆▆▆▆█▇▇▇▇▇▇▇▇▇▇▇█▇▇▇▇▇▇</td></tr><tr><td>recall</td><td>▁▃▄▅▅▅▆▇▆▇▇▇▇▇▇███████████</td></tr><tr><td>test_acc</td><td>▁</td></tr><tr><td>train_acc</td><td>▁▂▃▄▄▄▅▅▆▆▆▆▇▇▇▇▇████████</td></tr><tr><td>train_loss</td><td>█▇▆▆▅▄▄▄▃▃▃▂▂▂▂▂▁▁▁▁▁▁▁▁▁</td></tr><tr><td>val_acc</td><td>▁▃▄▄▅▅▆▆▆▇▆▆▇▇▇▇▇████████</td></tr><tr><td>val_loss</td><td>█▇▆▆▅▄▄▃▃▃▂▂▂▂▂▂▁▁▁▁▁▁▁▁▁</td></tr></table><br/></div><div class=\"wandb-col\"><h3>Run summary:</h3><br/><table class=\"wandb\"><tr><td>epoch</td><td>25</td></tr><tr><td>f1</td><td>0.17047</td></tr><tr><td>precision</td><td>0.15259</td></tr><tr><td>recall</td><td>0.27057</td></tr><tr><td>test_acc</td><td>0.265</td></tr><tr><td>train_acc</td><td>0.39813</td></tr><tr><td>train_loss</td><td>2.89777</td></tr><tr><td>val_acc</td><td>0.24</td></tr><tr><td>val_loss</td><td>3.21552</td></tr></table><br/></div></div>"
      ],
      "text/plain": [
       "<IPython.core.display.HTML object>"
      ]
     },
     "metadata": {},
     "output_type": "display_data"
    },
    {
     "data": {
      "text/html": [
       " View run <strong style=\"color:#cdcd00\">base_run5</strong> at: <a href='https://wandb.ai/javialroro-tecnologico-de-costa-rica/Proyecto1_IA/runs/hyme1thw' target=\"_blank\">https://wandb.ai/javialroro-tecnologico-de-costa-rica/Proyecto1_IA/runs/hyme1thw</a><br> View project at: <a href='https://wandb.ai/javialroro-tecnologico-de-costa-rica/Proyecto1_IA' target=\"_blank\">https://wandb.ai/javialroro-tecnologico-de-costa-rica/Proyecto1_IA</a><br>Synced 5 W&B file(s), 0 media file(s), 0 artifact file(s) and 0 other file(s)"
      ],
      "text/plain": [
       "<IPython.core.display.HTML object>"
      ]
     },
     "metadata": {},
     "output_type": "display_data"
    },
    {
     "data": {
      "text/html": [
       "Find logs at: <code>./wandb/run-20251031_085201-hyme1thw/logs</code>"
      ],
      "text/plain": [
       "<IPython.core.display.HTML object>"
      ]
     },
     "metadata": {},
     "output_type": "display_data"
    },
    {
     "name": "stdout",
     "output_type": "stream",
     "text": [
      "\n",
      "=== Dataset: augmented ===\n",
      "\n",
      "Ejecutando experimento 1/5 ...\n"
     ]
    },
    {
     "data": {
      "text/html": [],
      "text/plain": [
       "<IPython.core.display.HTML object>"
      ]
     },
     "metadata": {},
     "output_type": "display_data"
    },
    {
     "data": {
      "text/html": [
       "Tracking run with wandb version 0.22.2"
      ],
      "text/plain": [
       "<IPython.core.display.HTML object>"
      ]
     },
     "metadata": {},
     "output_type": "display_data"
    },
    {
     "data": {
      "text/html": [
       "Run data is saved locally in <code>/home/javialroro/TEC/2025 II/IA/CNNVoiceRecognition/wandb/run-20251031_085323-lyh91klv</code>"
      ],
      "text/plain": [
       "<IPython.core.display.HTML object>"
      ]
     },
     "metadata": {},
     "output_type": "display_data"
    },
    {
     "data": {
      "text/html": [
       "Syncing run <strong><a href='https://wandb.ai/javialroro-tecnologico-de-costa-rica/Proyecto1_IA/runs/lyh91klv' target=\"_blank\">augmented_run1</a></strong> to <a href='https://wandb.ai/javialroro-tecnologico-de-costa-rica/Proyecto1_IA' target=\"_blank\">Weights & Biases</a> (<a href='https://wandb.me/developer-guide' target=\"_blank\">docs</a>)<br>"
      ],
      "text/plain": [
       "<IPython.core.display.HTML object>"
      ]
     },
     "metadata": {},
     "output_type": "display_data"
    },
    {
     "data": {
      "text/html": [
       " View project at <a href='https://wandb.ai/javialroro-tecnologico-de-costa-rica/Proyecto1_IA' target=\"_blank\">https://wandb.ai/javialroro-tecnologico-de-costa-rica/Proyecto1_IA</a>"
      ],
      "text/plain": [
       "<IPython.core.display.HTML object>"
      ]
     },
     "metadata": {},
     "output_type": "display_data"
    },
    {
     "data": {
      "text/html": [
       " View run at <a href='https://wandb.ai/javialroro-tecnologico-de-costa-rica/Proyecto1_IA/runs/lyh91klv' target=\"_blank\">https://wandb.ai/javialroro-tecnologico-de-costa-rica/Proyecto1_IA/runs/lyh91klv</a>"
      ],
      "text/plain": [
       "<IPython.core.display.HTML object>"
      ]
     },
     "metadata": {},
     "output_type": "display_data"
    },
    {
     "name": "stdout",
     "output_type": "stream",
     "text": [
      "[01/15] Training Loss=3.8013 Training Acc=0.0458 | Validation Loss=3.4854 Validation Acc=0.1117 | F1=0.0555 Precision=0.0610 Recall=0.1040\n",
      "[02/15] Training Loss=3.2476 Training Acc=0.1348 | Validation Loss=3.0672 Validation Acc=0.1733 | F1=0.1210 Precision=0.1742 Recall=0.1668\n",
      "[03/15] Training Loss=2.8537 Training Acc=0.2283 | Validation Loss=2.7948 Validation Acc=0.2333 | F1=0.1899 Precision=0.2263 Recall=0.2332\n",
      "[04/15] Training Loss=2.5652 Training Acc=0.2875 | Validation Loss=2.4868 Validation Acc=0.2950 | F1=0.2453 Precision=0.2757 Recall=0.2983\n",
      "[05/15] Training Loss=2.1003 Training Acc=0.4390 | Validation Loss=2.0111 Validation Acc=0.4800 | F1=0.4464 Precision=0.4648 Recall=0.4796\n",
      "[06/15] Training Loss=1.4898 Training Acc=0.6565 | Validation Loss=1.5652 Validation Acc=0.6333 | F1=0.6191 Precision=0.6444 Recall=0.6379\n",
      "[07/15] Training Loss=0.9379 Training Acc=0.8369 | Validation Loss=1.2230 Validation Acc=0.7417 | F1=0.7312 Precision=0.7410 Recall=0.7427\n",
      "[08/15] Training Loss=0.5497 Training Acc=0.9408 | Validation Loss=0.9826 Validation Acc=0.7983 | F1=0.7889 Precision=0.7984 Recall=0.7980\n",
      "[09/15] Training Loss=0.3283 Training Acc=0.9777 | Validation Loss=0.8518 Validation Acc=0.8267 | F1=0.8222 Precision=0.8307 Recall=0.8273\n",
      "[10/15] Training Loss=0.2159 Training Acc=0.9925 | Validation Loss=0.7656 Validation Acc=0.8433 | F1=0.8379 Precision=0.8462 Recall=0.8431\n",
      "[11/15] Training Loss=0.1596 Training Acc=0.9975 | Validation Loss=0.7307 Validation Acc=0.8400 | F1=0.8326 Precision=0.8377 Recall=0.8390\n",
      "[12/15] Training Loss=0.1305 Training Acc=0.9983 | Validation Loss=0.7092 Validation Acc=0.8483 | F1=0.8423 Precision=0.8501 Recall=0.8483\n",
      "[13/15] Training Loss=0.1152 Training Acc=0.9988 | Validation Loss=0.6971 Validation Acc=0.8533 | F1=0.8482 Precision=0.8558 Recall=0.8535\n",
      "[14/15] Training Loss=0.1074 Training Acc=0.9988 | Validation Loss=0.6929 Validation Acc=0.8517 | F1=0.8460 Precision=0.8538 Recall=0.8511\n",
      "[15/15] Training Loss=0.1040 Training Acc=0.9994 | Validation Loss=0.6913 Validation Acc=0.8517 | F1=0.8460 Precision=0.8539 Recall=0.8511\n",
      "→ Mejor val_acc=0.8533 | Test_acc=0.8500 | F1=0.8460\n"
     ]
    },
    {
     "data": {
      "text/html": [],
      "text/plain": [
       "<IPython.core.display.HTML object>"
      ]
     },
     "metadata": {},
     "output_type": "display_data"
    },
    {
     "data": {
      "text/html": [
       "<br>    <style><br>        .wandb-row {<br>            display: flex;<br>            flex-direction: row;<br>            flex-wrap: wrap;<br>            justify-content: flex-start;<br>            width: 100%;<br>        }<br>        .wandb-col {<br>            display: flex;<br>            flex-direction: column;<br>            flex-basis: 100%;<br>            flex: 1;<br>            padding: 10px;<br>        }<br>    </style><br><div class=\"wandb-row\"><div class=\"wandb-col\"><h3>Run history:</h3><br/><table class=\"wandb\"><tr><td>epoch</td><td>▁▁▂▃▃▃▄▅▅▅▆▇▇▇█</td></tr><tr><td>f1</td><td>▁▂▂▃▄▆▇▇████████</td></tr><tr><td>precision</td><td>▁▂▂▃▅▆▇▇████████</td></tr><tr><td>recall</td><td>▁▂▂▃▅▆▇▇████████</td></tr><tr><td>test_acc</td><td>▁</td></tr><tr><td>train_acc</td><td>▁▂▂▃▄▅▇████████</td></tr><tr><td>train_loss</td><td>█▇▆▆▅▄▃▂▁▁▁▁▁▁▁</td></tr><tr><td>val_acc</td><td>▁▂▂▃▄▆▇▇███████</td></tr><tr><td>val_loss</td><td>█▇▆▅▄▃▂▂▁▁▁▁▁▁▁</td></tr></table><br/></div><div class=\"wandb-col\"><h3>Run summary:</h3><br/><table class=\"wandb\"><tr><td>epoch</td><td>15</td></tr><tr><td>f1</td><td>0.84596</td></tr><tr><td>precision</td><td>0.85385</td></tr><tr><td>recall</td><td>0.85111</td></tr><tr><td>test_acc</td><td>0.85</td></tr><tr><td>train_acc</td><td>0.99938</td></tr><tr><td>train_loss</td><td>0.10403</td></tr><tr><td>val_acc</td><td>0.85167</td></tr><tr><td>val_loss</td><td>0.69134</td></tr></table><br/></div></div>"
      ],
      "text/plain": [
       "<IPython.core.display.HTML object>"
      ]
     },
     "metadata": {},
     "output_type": "display_data"
    },
    {
     "data": {
      "text/html": [
       " View run <strong style=\"color:#cdcd00\">augmented_run1</strong> at: <a href='https://wandb.ai/javialroro-tecnologico-de-costa-rica/Proyecto1_IA/runs/lyh91klv' target=\"_blank\">https://wandb.ai/javialroro-tecnologico-de-costa-rica/Proyecto1_IA/runs/lyh91klv</a><br> View project at: <a href='https://wandb.ai/javialroro-tecnologico-de-costa-rica/Proyecto1_IA' target=\"_blank\">https://wandb.ai/javialroro-tecnologico-de-costa-rica/Proyecto1_IA</a><br>Synced 5 W&B file(s), 0 media file(s), 0 artifact file(s) and 0 other file(s)"
      ],
      "text/plain": [
       "<IPython.core.display.HTML object>"
      ]
     },
     "metadata": {},
     "output_type": "display_data"
    },
    {
     "data": {
      "text/html": [
       "Find logs at: <code>./wandb/run-20251031_085323-lyh91klv/logs</code>"
      ],
      "text/plain": [
       "<IPython.core.display.HTML object>"
      ]
     },
     "metadata": {},
     "output_type": "display_data"
    },
    {
     "name": "stdout",
     "output_type": "stream",
     "text": [
      "\n",
      "Ejecutando experimento 2/5 ...\n"
     ]
    },
    {
     "data": {
      "text/html": [],
      "text/plain": [
       "<IPython.core.display.HTML object>"
      ]
     },
     "metadata": {},
     "output_type": "display_data"
    },
    {
     "data": {
      "text/html": [
       "Tracking run with wandb version 0.22.2"
      ],
      "text/plain": [
       "<IPython.core.display.HTML object>"
      ]
     },
     "metadata": {},
     "output_type": "display_data"
    },
    {
     "data": {
      "text/html": [
       "Run data is saved locally in <code>/home/javialroro/TEC/2025 II/IA/CNNVoiceRecognition/wandb/run-20251031_085559-238mi427</code>"
      ],
      "text/plain": [
       "<IPython.core.display.HTML object>"
      ]
     },
     "metadata": {},
     "output_type": "display_data"
    },
    {
     "data": {
      "text/html": [
       "Syncing run <strong><a href='https://wandb.ai/javialroro-tecnologico-de-costa-rica/Proyecto1_IA/runs/238mi427' target=\"_blank\">augmented_run2</a></strong> to <a href='https://wandb.ai/javialroro-tecnologico-de-costa-rica/Proyecto1_IA' target=\"_blank\">Weights & Biases</a> (<a href='https://wandb.me/developer-guide' target=\"_blank\">docs</a>)<br>"
      ],
      "text/plain": [
       "<IPython.core.display.HTML object>"
      ]
     },
     "metadata": {},
     "output_type": "display_data"
    },
    {
     "data": {
      "text/html": [
       " View project at <a href='https://wandb.ai/javialroro-tecnologico-de-costa-rica/Proyecto1_IA' target=\"_blank\">https://wandb.ai/javialroro-tecnologico-de-costa-rica/Proyecto1_IA</a>"
      ],
      "text/plain": [
       "<IPython.core.display.HTML object>"
      ]
     },
     "metadata": {},
     "output_type": "display_data"
    },
    {
     "data": {
      "text/html": [
       " View run at <a href='https://wandb.ai/javialroro-tecnologico-de-costa-rica/Proyecto1_IA/runs/238mi427' target=\"_blank\">https://wandb.ai/javialroro-tecnologico-de-costa-rica/Proyecto1_IA/runs/238mi427</a>"
      ],
      "text/plain": [
       "<IPython.core.display.HTML object>"
      ]
     },
     "metadata": {},
     "output_type": "display_data"
    },
    {
     "name": "stdout",
     "output_type": "stream",
     "text": [
      "[01/15] Training Loss=3.5649 Training Acc=0.1165 | Validation Loss=3.2559 Validation Acc=0.1733 | F1=0.1135 Precision=0.1370 Recall=0.1796\n",
      "[02/15] Training Loss=3.0217 Training Acc=0.2537 | Validation Loss=2.8903 Validation Acc=0.2917 | F1=0.2354 Precision=0.2531 Recall=0.2914\n",
      "[03/15] Training Loss=2.6646 Training Acc=0.3702 | Validation Loss=2.6018 Validation Acc=0.3783 | F1=0.3264 Precision=0.3571 Recall=0.3739\n",
      "[04/15] Training Loss=2.3265 Training Acc=0.4754 | Validation Loss=2.3070 Validation Acc=0.4533 | F1=0.4080 Precision=0.4280 Recall=0.4523\n",
      "[05/15] Training Loss=1.9537 Training Acc=0.5998 | Validation Loss=2.0178 Validation Acc=0.5433 | F1=0.5118 Precision=0.5359 Recall=0.5427\n",
      "[06/15] Training Loss=1.5624 Training Acc=0.7308 | Validation Loss=1.7269 Validation Acc=0.6483 | F1=0.6281 Precision=0.6474 Recall=0.6478\n",
      "[07/15] Training Loss=1.2249 Training Acc=0.8194 | Validation Loss=1.4886 Validation Acc=0.7250 | F1=0.7093 Precision=0.7265 Recall=0.7230\n",
      "[08/15] Training Loss=0.9479 Training Acc=0.8902 | Validation Loss=1.3123 Validation Acc=0.7500 | F1=0.7327 Precision=0.7478 Recall=0.7468\n",
      "[09/15] Training Loss=0.7447 Training Acc=0.9310 | Validation Loss=1.1669 Validation Acc=0.8017 | F1=0.7877 Precision=0.7982 Recall=0.7946\n",
      "[10/15] Training Loss=0.6034 Training Acc=0.9550 | Validation Loss=1.0705 Validation Acc=0.8217 | F1=0.8151 Precision=0.8305 Recall=0.8179\n",
      "[11/15] Training Loss=0.5082 Training Acc=0.9696 | Validation Loss=1.0112 Validation Acc=0.8417 | F1=0.8311 Precision=0.8414 Recall=0.8346\n",
      "[12/15] Training Loss=0.4495 Training Acc=0.9798 | Validation Loss=0.9728 Validation Acc=0.8483 | F1=0.8413 Precision=0.8505 Recall=0.8424\n",
      "[13/15] Training Loss=0.4138 Training Acc=0.9838 | Validation Loss=0.9490 Validation Acc=0.8533 | F1=0.8465 Precision=0.8563 Recall=0.8474\n",
      "[14/15] Training Loss=0.3947 Training Acc=0.9856 | Validation Loss=0.9387 Validation Acc=0.8567 | F1=0.8490 Precision=0.8590 Recall=0.8501\n",
      "[15/15] Training Loss=0.3862 Training Acc=0.9860 | Validation Loss=0.9359 Validation Acc=0.8550 | F1=0.8470 Precision=0.8570 Recall=0.8483\n",
      "→ Mejor val_acc=0.8567 | Test_acc=0.8600 | F1=0.8470\n"
     ]
    },
    {
     "data": {
      "text/html": [],
      "text/plain": [
       "<IPython.core.display.HTML object>"
      ]
     },
     "metadata": {},
     "output_type": "display_data"
    },
    {
     "data": {
      "text/html": [
       "<br>    <style><br>        .wandb-row {<br>            display: flex;<br>            flex-direction: row;<br>            flex-wrap: wrap;<br>            justify-content: flex-start;<br>            width: 100%;<br>        }<br>        .wandb-col {<br>            display: flex;<br>            flex-direction: column;<br>            flex-basis: 100%;<br>            flex: 1;<br>            padding: 10px;<br>        }<br>    </style><br><div class=\"wandb-row\"><div class=\"wandb-col\"><h3>Run history:</h3><br/><table class=\"wandb\"><tr><td>epoch</td><td>▁▁▂▃▃▃▄▅▅▅▆▇▇▇█</td></tr><tr><td>f1</td><td>▁▂▃▄▅▆▇▇▇███████</td></tr><tr><td>precision</td><td>▁▂▃▄▅▆▇▇▇███████</td></tr><tr><td>recall</td><td>▁▂▃▄▅▆▇▇▇███████</td></tr><tr><td>test_acc</td><td>▁</td></tr><tr><td>train_acc</td><td>▁▂▃▄▅▆▇▇███████</td></tr><tr><td>train_loss</td><td>█▇▆▅▄▄▃▂▂▁▁▁▁▁▁</td></tr><tr><td>val_acc</td><td>▁▂▃▄▅▆▇▇▇██████</td></tr><tr><td>val_loss</td><td>█▇▆▅▄▃▃▂▂▁▁▁▁▁▁</td></tr></table><br/></div><div class=\"wandb-col\"><h3>Run summary:</h3><br/><table class=\"wandb\"><tr><td>epoch</td><td>15</td></tr><tr><td>f1</td><td>0.84697</td></tr><tr><td>precision</td><td>0.85703</td></tr><tr><td>recall</td><td>0.84826</td></tr><tr><td>test_acc</td><td>0.86</td></tr><tr><td>train_acc</td><td>0.98604</td></tr><tr><td>train_loss</td><td>0.38619</td></tr><tr><td>val_acc</td><td>0.855</td></tr><tr><td>val_loss</td><td>0.93593</td></tr></table><br/></div></div>"
      ],
      "text/plain": [
       "<IPython.core.display.HTML object>"
      ]
     },
     "metadata": {},
     "output_type": "display_data"
    },
    {
     "data": {
      "text/html": [
       " View run <strong style=\"color:#cdcd00\">augmented_run2</strong> at: <a href='https://wandb.ai/javialroro-tecnologico-de-costa-rica/Proyecto1_IA/runs/238mi427' target=\"_blank\">https://wandb.ai/javialroro-tecnologico-de-costa-rica/Proyecto1_IA/runs/238mi427</a><br> View project at: <a href='https://wandb.ai/javialroro-tecnologico-de-costa-rica/Proyecto1_IA' target=\"_blank\">https://wandb.ai/javialroro-tecnologico-de-costa-rica/Proyecto1_IA</a><br>Synced 5 W&B file(s), 0 media file(s), 0 artifact file(s) and 0 other file(s)"
      ],
      "text/plain": [
       "<IPython.core.display.HTML object>"
      ]
     },
     "metadata": {},
     "output_type": "display_data"
    },
    {
     "data": {
      "text/html": [
       "Find logs at: <code>./wandb/run-20251031_085559-238mi427/logs</code>"
      ],
      "text/plain": [
       "<IPython.core.display.HTML object>"
      ]
     },
     "metadata": {},
     "output_type": "display_data"
    },
    {
     "name": "stdout",
     "output_type": "stream",
     "text": [
      "\n",
      "Ejecutando experimento 3/5 ...\n"
     ]
    },
    {
     "data": {
      "text/html": [],
      "text/plain": [
       "<IPython.core.display.HTML object>"
      ]
     },
     "metadata": {},
     "output_type": "display_data"
    },
    {
     "data": {
      "text/html": [
       "Tracking run with wandb version 0.22.2"
      ],
      "text/plain": [
       "<IPython.core.display.HTML object>"
      ]
     },
     "metadata": {},
     "output_type": "display_data"
    },
    {
     "data": {
      "text/html": [
       "Run data is saved locally in <code>/home/javialroro/TEC/2025 II/IA/CNNVoiceRecognition/wandb/run-20251031_085835-oou9xd1e</code>"
      ],
      "text/plain": [
       "<IPython.core.display.HTML object>"
      ]
     },
     "metadata": {},
     "output_type": "display_data"
    },
    {
     "data": {
      "text/html": [
       "Syncing run <strong><a href='https://wandb.ai/javialroro-tecnologico-de-costa-rica/Proyecto1_IA/runs/oou9xd1e' target=\"_blank\">augmented_run3</a></strong> to <a href='https://wandb.ai/javialroro-tecnologico-de-costa-rica/Proyecto1_IA' target=\"_blank\">Weights & Biases</a> (<a href='https://wandb.me/developer-guide' target=\"_blank\">docs</a>)<br>"
      ],
      "text/plain": [
       "<IPython.core.display.HTML object>"
      ]
     },
     "metadata": {},
     "output_type": "display_data"
    },
    {
     "data": {
      "text/html": [
       " View project at <a href='https://wandb.ai/javialroro-tecnologico-de-costa-rica/Proyecto1_IA' target=\"_blank\">https://wandb.ai/javialroro-tecnologico-de-costa-rica/Proyecto1_IA</a>"
      ],
      "text/plain": [
       "<IPython.core.display.HTML object>"
      ]
     },
     "metadata": {},
     "output_type": "display_data"
    },
    {
     "data": {
      "text/html": [
       " View run at <a href='https://wandb.ai/javialroro-tecnologico-de-costa-rica/Proyecto1_IA/runs/oou9xd1e' target=\"_blank\">https://wandb.ai/javialroro-tecnologico-de-costa-rica/Proyecto1_IA/runs/oou9xd1e</a>"
      ],
      "text/plain": [
       "<IPython.core.display.HTML object>"
      ]
     },
     "metadata": {},
     "output_type": "display_data"
    },
    {
     "name": "stdout",
     "output_type": "stream",
     "text": [
      "[01/20] Training Loss=3.5861 Training Acc=0.0813 | Validation Loss=3.2813 Validation Acc=0.1617 | F1=0.0939 Precision=0.1000 Recall=0.1532\n",
      "[02/20] Training Loss=3.1231 Training Acc=0.1794 | Validation Loss=3.0379 Validation Acc=0.2017 | F1=0.1442 Precision=0.1504 Recall=0.1955\n",
      "[03/20] Training Loss=2.9519 Training Acc=0.2031 | Validation Loss=2.9409 Validation Acc=0.1967 | F1=0.1464 Precision=0.1612 Recall=0.1934\n",
      "[04/20] Training Loss=2.7875 Training Acc=0.2292 | Validation Loss=2.8092 Validation Acc=0.2350 | F1=0.1971 Precision=0.2186 Recall=0.2338\n",
      "[05/20] Training Loss=2.6881 Training Acc=0.2612 | Validation Loss=2.7350 Validation Acc=0.2583 | F1=0.2126 Precision=0.2049 Recall=0.2619\n",
      "[06/20] Training Loss=2.5778 Training Acc=0.2902 | Validation Loss=2.6511 Validation Acc=0.2600 | F1=0.2237 Precision=0.2345 Recall=0.2592\n",
      "[07/20] Training Loss=2.4377 Training Acc=0.3271 | Validation Loss=2.5283 Validation Acc=0.2917 | F1=0.2606 Precision=0.2714 Recall=0.2885\n",
      "[08/20] Training Loss=2.2659 Training Acc=0.3771 | Validation Loss=2.3398 Validation Acc=0.3683 | F1=0.3372 Precision=0.3401 Recall=0.3696\n",
      "[09/20] Training Loss=2.0268 Training Acc=0.4600 | Validation Loss=2.1601 Validation Acc=0.4083 | F1=0.3705 Precision=0.3862 Recall=0.4027\n",
      "[10/20] Training Loss=1.7507 Training Acc=0.5563 | Validation Loss=1.9329 Validation Acc=0.5083 | F1=0.4773 Precision=0.4910 Recall=0.5055\n",
      "[11/20] Training Loss=1.4424 Training Acc=0.6748 | Validation Loss=1.6972 Validation Acc=0.5800 | F1=0.5496 Precision=0.5659 Recall=0.5739\n",
      "[12/20] Training Loss=1.1685 Training Acc=0.7760 | Validation Loss=1.4947 Validation Acc=0.6517 | F1=0.6300 Precision=0.6528 Recall=0.6480\n",
      "[13/20] Training Loss=0.9512 Training Acc=0.8423 | Validation Loss=1.3374 Validation Acc=0.6967 | F1=0.6772 Precision=0.6915 Recall=0.6930\n",
      "[14/20] Training Loss=0.7864 Training Acc=0.8879 | Validation Loss=1.2330 Validation Acc=0.7267 | F1=0.7130 Precision=0.7211 Recall=0.7268\n",
      "[15/20] Training Loss=0.6680 Training Acc=0.9133 | Validation Loss=1.1699 Validation Acc=0.7483 | F1=0.7385 Precision=0.7500 Recall=0.7502\n",
      "[16/20] Training Loss=0.5891 Training Acc=0.9367 | Validation Loss=1.1189 Validation Acc=0.7667 | F1=0.7548 Precision=0.7615 Recall=0.7656\n",
      "[17/20] Training Loss=0.5384 Training Acc=0.9481 | Validation Loss=1.0866 Validation Acc=0.7700 | F1=0.7573 Precision=0.7645 Recall=0.7681\n",
      "[18/20] Training Loss=0.5076 Training Acc=0.9525 | Validation Loss=1.0695 Validation Acc=0.7750 | F1=0.7639 Precision=0.7715 Recall=0.7732\n",
      "[19/20] Training Loss=0.4910 Training Acc=0.9563 | Validation Loss=1.0642 Validation Acc=0.7800 | F1=0.7689 Precision=0.7783 Recall=0.7779\n",
      "[20/20] Training Loss=0.4837 Training Acc=0.9583 | Validation Loss=1.0610 Validation Acc=0.7817 | F1=0.7705 Precision=0.7791 Recall=0.7796\n",
      "→ Mejor val_acc=0.7817 | Test_acc=0.7750 | F1=0.7705\n"
     ]
    },
    {
     "data": {
      "text/html": [],
      "text/plain": [
       "<IPython.core.display.HTML object>"
      ]
     },
     "metadata": {},
     "output_type": "display_data"
    },
    {
     "data": {
      "text/html": [
       "<br>    <style><br>        .wandb-row {<br>            display: flex;<br>            flex-direction: row;<br>            flex-wrap: wrap;<br>            justify-content: flex-start;<br>            width: 100%;<br>        }<br>        .wandb-col {<br>            display: flex;<br>            flex-direction: column;<br>            flex-basis: 100%;<br>            flex: 1;<br>            padding: 10px;<br>        }<br>    </style><br><div class=\"wandb-row\"><div class=\"wandb-col\"><h3>Run history:</h3><br/><table class=\"wandb\"><tr><td>epoch</td><td>▁▁▂▂▂▃▃▄▄▄▅▅▅▆▆▇▇▇██</td></tr><tr><td>f1</td><td>▁▂▂▂▂▂▃▄▄▅▆▇▇▇███████</td></tr><tr><td>precision</td><td>▁▂▂▂▂▂▃▃▄▅▆▇▇▇███████</td></tr><tr><td>recall</td><td>▁▁▁▂▂▂▃▃▄▅▆▇▇▇███████</td></tr><tr><td>test_acc</td><td>▁</td></tr><tr><td>train_acc</td><td>▁▂▂▂▂▃▃▃▄▅▆▇▇▇██████</td></tr><tr><td>train_loss</td><td>█▇▇▆▆▆▅▅▄▄▃▃▂▂▁▁▁▁▁▁</td></tr><tr><td>val_acc</td><td>▁▁▁▂▂▂▂▃▄▅▆▇▇▇██████</td></tr><tr><td>val_loss</td><td>█▇▇▇▆▆▆▅▄▄▃▂▂▂▁▁▁▁▁▁</td></tr></table><br/></div><div class=\"wandb-col\"><h3>Run summary:</h3><br/><table class=\"wandb\"><tr><td>epoch</td><td>20</td></tr><tr><td>f1</td><td>0.77049</td></tr><tr><td>precision</td><td>0.77906</td></tr><tr><td>recall</td><td>0.77961</td></tr><tr><td>test_acc</td><td>0.775</td></tr><tr><td>train_acc</td><td>0.95833</td></tr><tr><td>train_loss</td><td>0.48366</td></tr><tr><td>val_acc</td><td>0.78167</td></tr><tr><td>val_loss</td><td>1.06095</td></tr></table><br/></div></div>"
      ],
      "text/plain": [
       "<IPython.core.display.HTML object>"
      ]
     },
     "metadata": {},
     "output_type": "display_data"
    },
    {
     "data": {
      "text/html": [
       " View run <strong style=\"color:#cdcd00\">augmented_run3</strong> at: <a href='https://wandb.ai/javialroro-tecnologico-de-costa-rica/Proyecto1_IA/runs/oou9xd1e' target=\"_blank\">https://wandb.ai/javialroro-tecnologico-de-costa-rica/Proyecto1_IA/runs/oou9xd1e</a><br> View project at: <a href='https://wandb.ai/javialroro-tecnologico-de-costa-rica/Proyecto1_IA' target=\"_blank\">https://wandb.ai/javialroro-tecnologico-de-costa-rica/Proyecto1_IA</a><br>Synced 5 W&B file(s), 0 media file(s), 0 artifact file(s) and 0 other file(s)"
      ],
      "text/plain": [
       "<IPython.core.display.HTML object>"
      ]
     },
     "metadata": {},
     "output_type": "display_data"
    },
    {
     "data": {
      "text/html": [
       "Find logs at: <code>./wandb/run-20251031_085835-oou9xd1e/logs</code>"
      ],
      "text/plain": [
       "<IPython.core.display.HTML object>"
      ]
     },
     "metadata": {},
     "output_type": "display_data"
    },
    {
     "name": "stdout",
     "output_type": "stream",
     "text": [
      "\n",
      "Ejecutando experimento 4/5 ...\n"
     ]
    },
    {
     "data": {
      "text/html": [],
      "text/plain": [
       "<IPython.core.display.HTML object>"
      ]
     },
     "metadata": {},
     "output_type": "display_data"
    },
    {
     "data": {
      "text/html": [
       "Tracking run with wandb version 0.22.2"
      ],
      "text/plain": [
       "<IPython.core.display.HTML object>"
      ]
     },
     "metadata": {},
     "output_type": "display_data"
    },
    {
     "data": {
      "text/html": [
       "Run data is saved locally in <code>/home/javialroro/TEC/2025 II/IA/CNNVoiceRecognition/wandb/run-20251031_090200-agz01f56</code>"
      ],
      "text/plain": [
       "<IPython.core.display.HTML object>"
      ]
     },
     "metadata": {},
     "output_type": "display_data"
    },
    {
     "data": {
      "text/html": [
       "Syncing run <strong><a href='https://wandb.ai/javialroro-tecnologico-de-costa-rica/Proyecto1_IA/runs/agz01f56' target=\"_blank\">augmented_run4</a></strong> to <a href='https://wandb.ai/javialroro-tecnologico-de-costa-rica/Proyecto1_IA' target=\"_blank\">Weights & Biases</a> (<a href='https://wandb.me/developer-guide' target=\"_blank\">docs</a>)<br>"
      ],
      "text/plain": [
       "<IPython.core.display.HTML object>"
      ]
     },
     "metadata": {},
     "output_type": "display_data"
    },
    {
     "data": {
      "text/html": [
       " View project at <a href='https://wandb.ai/javialroro-tecnologico-de-costa-rica/Proyecto1_IA' target=\"_blank\">https://wandb.ai/javialroro-tecnologico-de-costa-rica/Proyecto1_IA</a>"
      ],
      "text/plain": [
       "<IPython.core.display.HTML object>"
      ]
     },
     "metadata": {},
     "output_type": "display_data"
    },
    {
     "data": {
      "text/html": [
       " View run at <a href='https://wandb.ai/javialroro-tecnologico-de-costa-rica/Proyecto1_IA/runs/agz01f56' target=\"_blank\">https://wandb.ai/javialroro-tecnologico-de-costa-rica/Proyecto1_IA/runs/agz01f56</a>"
      ],
      "text/plain": [
       "<IPython.core.display.HTML object>"
      ]
     },
     "metadata": {},
     "output_type": "display_data"
    },
    {
     "name": "stdout",
     "output_type": "stream",
     "text": [
      "[01/20] Training Loss=3.6274 Training Acc=0.0875 | Validation Loss=3.3139 Validation Acc=0.1733 | F1=0.1067 Precision=0.1358 Recall=0.1709\n",
      "[02/20] Training Loss=3.0654 Training Acc=0.2240 | Validation Loss=2.9423 Validation Acc=0.2583 | F1=0.2056 Precision=0.2772 Recall=0.2529\n",
      "[03/20] Training Loss=2.6922 Training Acc=0.3219 | Validation Loss=2.6209 Validation Acc=0.3567 | F1=0.3171 Precision=0.3604 Recall=0.3551\n",
      "[04/20] Training Loss=2.3321 Training Acc=0.4304 | Validation Loss=2.2798 Validation Acc=0.4450 | F1=0.4065 Precision=0.4358 Recall=0.4379\n",
      "[05/20] Training Loss=1.8933 Training Acc=0.5740 | Validation Loss=1.9300 Validation Acc=0.5533 | F1=0.5265 Precision=0.5518 Recall=0.5533\n",
      "[06/20] Training Loss=1.4908 Training Acc=0.7013 | Validation Loss=1.6561 Validation Acc=0.6367 | F1=0.6098 Precision=0.6454 Recall=0.6338\n",
      "[07/20] Training Loss=1.1065 Training Acc=0.8129 | Validation Loss=1.3801 Validation Acc=0.7150 | F1=0.6946 Precision=0.7315 Recall=0.7089\n",
      "[08/20] Training Loss=0.7877 Training Acc=0.9040 | Validation Loss=1.1694 Validation Acc=0.7750 | F1=0.7673 Precision=0.7860 Recall=0.7731\n",
      "[09/20] Training Loss=0.5432 Training Acc=0.9529 | Validation Loss=1.0273 Validation Acc=0.8000 | F1=0.7844 Precision=0.8095 Recall=0.7972\n",
      "[10/20] Training Loss=0.3796 Training Acc=0.9788 | Validation Loss=0.8979 Validation Acc=0.8200 | F1=0.8083 Precision=0.8303 Recall=0.8113\n",
      "[11/20] Training Loss=0.2745 Training Acc=0.9917 | Validation Loss=0.8164 Validation Acc=0.8350 | F1=0.8256 Precision=0.8399 Recall=0.8286\n",
      "[12/20] Training Loss=0.2079 Training Acc=0.9967 | Validation Loss=0.7785 Validation Acc=0.8667 | F1=0.8593 Precision=0.8706 Recall=0.8608\n",
      "[13/20] Training Loss=0.1688 Training Acc=0.9990 | Validation Loss=0.7396 Validation Acc=0.8550 | F1=0.8465 Precision=0.8558 Recall=0.8496\n",
      "[14/20] Training Loss=0.1447 Training Acc=0.9988 | Validation Loss=0.7155 Validation Acc=0.8717 | F1=0.8635 Precision=0.8746 Recall=0.8657\n",
      "[15/20] Training Loss=0.1274 Training Acc=0.9994 | Validation Loss=0.7105 Validation Acc=0.8717 | F1=0.8632 Precision=0.8728 Recall=0.8661\n",
      "[16/20] Training Loss=0.1168 Training Acc=0.9996 | Validation Loss=0.7004 Validation Acc=0.8750 | F1=0.8677 Precision=0.8748 Recall=0.8714\n",
      "[17/20] Training Loss=0.1093 Training Acc=0.9996 | Validation Loss=0.6992 Validation Acc=0.8617 | F1=0.8554 Precision=0.8683 Recall=0.8572\n",
      "[18/20] Training Loss=0.1045 Training Acc=0.9996 | Validation Loss=0.6921 Validation Acc=0.8650 | F1=0.8580 Precision=0.8696 Recall=0.8599\n",
      "[19/20] Training Loss=0.1013 Training Acc=0.9996 | Validation Loss=0.6908 Validation Acc=0.8617 | F1=0.8544 Precision=0.8667 Recall=0.8562\n",
      "[20/20] Training Loss=0.0997 Training Acc=0.9996 | Validation Loss=0.6902 Validation Acc=0.8667 | F1=0.8593 Precision=0.8695 Recall=0.8619\n",
      "→ Mejor val_acc=0.8750 | Test_acc=0.8650 | F1=0.8593\n"
     ]
    },
    {
     "data": {
      "text/html": [],
      "text/plain": [
       "<IPython.core.display.HTML object>"
      ]
     },
     "metadata": {},
     "output_type": "display_data"
    },
    {
     "data": {
      "text/html": [
       "<br>    <style><br>        .wandb-row {<br>            display: flex;<br>            flex-direction: row;<br>            flex-wrap: wrap;<br>            justify-content: flex-start;<br>            width: 100%;<br>        }<br>        .wandb-col {<br>            display: flex;<br>            flex-direction: column;<br>            flex-basis: 100%;<br>            flex: 1;<br>            padding: 10px;<br>        }<br>    </style><br><div class=\"wandb-row\"><div class=\"wandb-col\"><h3>Run history:</h3><br/><table class=\"wandb\"><tr><td>epoch</td><td>▁▁▂▂▂▃▃▄▄▄▅▅▅▆▆▇▇▇██</td></tr><tr><td>f1</td><td>▁▂▃▄▅▆▆▇▇▇███████████</td></tr><tr><td>precision</td><td>▁▂▃▄▅▆▇▇▇████████████</td></tr><tr><td>recall</td><td>▁▂▃▄▅▆▆▇▇▇███████████</td></tr><tr><td>test_acc</td><td>▁</td></tr><tr><td>train_acc</td><td>▁▂▃▄▅▆▇▇████████████</td></tr><tr><td>train_loss</td><td>█▇▆▅▅▄▃▂▂▂▁▁▁▁▁▁▁▁▁▁</td></tr><tr><td>val_acc</td><td>▁▂▃▄▅▆▆▇▇▇██████████</td></tr><tr><td>val_loss</td><td>█▇▆▅▄▄▃▂▂▂▁▁▁▁▁▁▁▁▁▁</td></tr></table><br/></div><div class=\"wandb-col\"><h3>Run summary:</h3><br/><table class=\"wandb\"><tr><td>epoch</td><td>20</td></tr><tr><td>f1</td><td>0.85926</td></tr><tr><td>precision</td><td>0.86953</td></tr><tr><td>recall</td><td>0.86189</td></tr><tr><td>test_acc</td><td>0.865</td></tr><tr><td>train_acc</td><td>0.99958</td></tr><tr><td>train_loss</td><td>0.09965</td></tr><tr><td>val_acc</td><td>0.86667</td></tr><tr><td>val_loss</td><td>0.69022</td></tr></table><br/></div></div>"
      ],
      "text/plain": [
       "<IPython.core.display.HTML object>"
      ]
     },
     "metadata": {},
     "output_type": "display_data"
    },
    {
     "data": {
      "text/html": [
       " View run <strong style=\"color:#cdcd00\">augmented_run4</strong> at: <a href='https://wandb.ai/javialroro-tecnologico-de-costa-rica/Proyecto1_IA/runs/agz01f56' target=\"_blank\">https://wandb.ai/javialroro-tecnologico-de-costa-rica/Proyecto1_IA/runs/agz01f56</a><br> View project at: <a href='https://wandb.ai/javialroro-tecnologico-de-costa-rica/Proyecto1_IA' target=\"_blank\">https://wandb.ai/javialroro-tecnologico-de-costa-rica/Proyecto1_IA</a><br>Synced 5 W&B file(s), 0 media file(s), 0 artifact file(s) and 0 other file(s)"
      ],
      "text/plain": [
       "<IPython.core.display.HTML object>"
      ]
     },
     "metadata": {},
     "output_type": "display_data"
    },
    {
     "data": {
      "text/html": [
       "Find logs at: <code>./wandb/run-20251031_090200-agz01f56/logs</code>"
      ],
      "text/plain": [
       "<IPython.core.display.HTML object>"
      ]
     },
     "metadata": {},
     "output_type": "display_data"
    },
    {
     "name": "stdout",
     "output_type": "stream",
     "text": [
      "\n",
      "Ejecutando experimento 5/5 ...\n"
     ]
    },
    {
     "data": {
      "text/html": [],
      "text/plain": [
       "<IPython.core.display.HTML object>"
      ]
     },
     "metadata": {},
     "output_type": "display_data"
    },
    {
     "data": {
      "text/html": [
       "Tracking run with wandb version 0.22.2"
      ],
      "text/plain": [
       "<IPython.core.display.HTML object>"
      ]
     },
     "metadata": {},
     "output_type": "display_data"
    },
    {
     "data": {
      "text/html": [
       "Run data is saved locally in <code>/home/javialroro/TEC/2025 II/IA/CNNVoiceRecognition/wandb/run-20251031_090532-ciu6gvmi</code>"
      ],
      "text/plain": [
       "<IPython.core.display.HTML object>"
      ]
     },
     "metadata": {},
     "output_type": "display_data"
    },
    {
     "data": {
      "text/html": [
       "Syncing run <strong><a href='https://wandb.ai/javialroro-tecnologico-de-costa-rica/Proyecto1_IA/runs/ciu6gvmi' target=\"_blank\">augmented_run5</a></strong> to <a href='https://wandb.ai/javialroro-tecnologico-de-costa-rica/Proyecto1_IA' target=\"_blank\">Weights & Biases</a> (<a href='https://wandb.me/developer-guide' target=\"_blank\">docs</a>)<br>"
      ],
      "text/plain": [
       "<IPython.core.display.HTML object>"
      ]
     },
     "metadata": {},
     "output_type": "display_data"
    },
    {
     "data": {
      "text/html": [
       " View project at <a href='https://wandb.ai/javialroro-tecnologico-de-costa-rica/Proyecto1_IA' target=\"_blank\">https://wandb.ai/javialroro-tecnologico-de-costa-rica/Proyecto1_IA</a>"
      ],
      "text/plain": [
       "<IPython.core.display.HTML object>"
      ]
     },
     "metadata": {},
     "output_type": "display_data"
    },
    {
     "data": {
      "text/html": [
       " View run at <a href='https://wandb.ai/javialroro-tecnologico-de-costa-rica/Proyecto1_IA/runs/ciu6gvmi' target=\"_blank\">https://wandb.ai/javialroro-tecnologico-de-costa-rica/Proyecto1_IA/runs/ciu6gvmi</a>"
      ],
      "text/plain": [
       "<IPython.core.display.HTML object>"
      ]
     },
     "metadata": {},
     "output_type": "display_data"
    },
    {
     "name": "stdout",
     "output_type": "stream",
     "text": [
      "[01/25] Training Loss=3.7605 Training Acc=0.0729 | Validation Loss=3.5908 Validation Acc=0.1317 | F1=0.0734 Precision=0.0721 Recall=0.1289\n",
      "[02/25] Training Loss=3.4852 Training Acc=0.1704 | Validation Loss=3.4051 Validation Acc=0.1883 | F1=0.1261 Precision=0.1680 Recall=0.1782\n",
      "[03/25] Training Loss=3.3006 Training Acc=0.2283 | Validation Loss=3.2583 Validation Acc=0.2633 | F1=0.2137 Precision=0.2615 Recall=0.2552\n",
      "[04/25] Training Loss=3.1389 Training Acc=0.2921 | Validation Loss=3.1324 Validation Acc=0.2800 | F1=0.2229 Precision=0.3040 Recall=0.2716\n",
      "[05/25] Training Loss=2.9931 Training Acc=0.3471 | Validation Loss=3.0139 Validation Acc=0.3333 | F1=0.2853 Precision=0.3426 Recall=0.3317\n",
      "[06/25] Training Loss=2.8652 Training Acc=0.3940 | Validation Loss=2.9129 Validation Acc=0.3667 | F1=0.3132 Precision=0.3596 Recall=0.3675\n",
      "[07/25] Training Loss=2.7402 Training Acc=0.4375 | Validation Loss=2.8122 Validation Acc=0.3933 | F1=0.3412 Precision=0.4282 Recall=0.3905\n",
      "[08/25] Training Loss=2.6286 Training Acc=0.4698 | Validation Loss=2.7246 Validation Acc=0.4150 | F1=0.3572 Precision=0.4425 Recall=0.4152\n",
      "[09/25] Training Loss=2.5229 Training Acc=0.5038 | Validation Loss=2.6481 Validation Acc=0.4317 | F1=0.3767 Precision=0.4222 Recall=0.4324\n",
      "[10/25] Training Loss=2.4267 Training Acc=0.5358 | Validation Loss=2.5796 Validation Acc=0.4450 | F1=0.3975 Precision=0.4465 Recall=0.4485\n",
      "[11/25] Training Loss=2.3393 Training Acc=0.5575 | Validation Loss=2.5057 Validation Acc=0.4600 | F1=0.4111 Precision=0.4604 Recall=0.4629\n",
      "[12/25] Training Loss=2.2617 Training Acc=0.5765 | Validation Loss=2.4559 Validation Acc=0.4583 | F1=0.4092 Precision=0.4594 Recall=0.4565\n",
      "[13/25] Training Loss=2.1900 Training Acc=0.6033 | Validation Loss=2.4184 Validation Acc=0.4633 | F1=0.4152 Precision=0.4737 Recall=0.4657\n",
      "[14/25] Training Loss=2.1270 Training Acc=0.6217 | Validation Loss=2.3623 Validation Acc=0.4817 | F1=0.4366 Precision=0.4838 Recall=0.4809\n",
      "[15/25] Training Loss=2.0679 Training Acc=0.6367 | Validation Loss=2.3247 Validation Acc=0.4917 | F1=0.4496 Precision=0.5024 Recall=0.4921\n",
      "[16/25] Training Loss=2.0204 Training Acc=0.6546 | Validation Loss=2.2951 Validation Acc=0.5167 | F1=0.4775 Precision=0.5294 Recall=0.5182\n",
      "[17/25] Training Loss=1.9787 Training Acc=0.6637 | Validation Loss=2.2655 Validation Acc=0.5233 | F1=0.4833 Precision=0.5425 Recall=0.5244\n",
      "[18/25] Training Loss=1.9457 Training Acc=0.6723 | Validation Loss=2.2386 Validation Acc=0.5300 | F1=0.4941 Precision=0.5605 Recall=0.5329\n",
      "[19/25] Training Loss=1.9163 Training Acc=0.6798 | Validation Loss=2.2245 Validation Acc=0.5300 | F1=0.4906 Precision=0.5441 Recall=0.5321\n",
      "[20/25] Training Loss=1.8957 Training Acc=0.6852 | Validation Loss=2.2073 Validation Acc=0.5333 | F1=0.4935 Precision=0.5364 Recall=0.5363\n",
      "[21/25] Training Loss=1.8786 Training Acc=0.6902 | Validation Loss=2.1996 Validation Acc=0.5317 | F1=0.4943 Precision=0.5513 Recall=0.5309\n",
      "[22/25] Training Loss=1.8674 Training Acc=0.6967 | Validation Loss=2.1928 Validation Acc=0.5367 | F1=0.5005 Precision=0.5591 Recall=0.5379\n",
      "[23/25] Training Loss=1.8593 Training Acc=0.6987 | Validation Loss=2.1898 Validation Acc=0.5333 | F1=0.4962 Precision=0.5479 Recall=0.5331\n",
      "[24/25] Training Loss=1.8549 Training Acc=0.7008 | Validation Loss=2.1879 Validation Acc=0.5333 | F1=0.4973 Precision=0.5470 Recall=0.5343\n",
      "[25/25] Training Loss=1.8527 Training Acc=0.7010 | Validation Loss=2.1873 Validation Acc=0.5350 | F1=0.4980 Precision=0.5498 Recall=0.5359\n",
      "→ Mejor val_acc=0.5367 | Test_acc=0.5683 | F1=0.4980\n"
     ]
    },
    {
     "data": {
      "text/html": [],
      "text/plain": [
       "<IPython.core.display.HTML object>"
      ]
     },
     "metadata": {},
     "output_type": "display_data"
    },
    {
     "data": {
      "text/html": [
       "<br>    <style><br>        .wandb-row {<br>            display: flex;<br>            flex-direction: row;<br>            flex-wrap: wrap;<br>            justify-content: flex-start;<br>            width: 100%;<br>        }<br>        .wandb-col {<br>            display: flex;<br>            flex-direction: column;<br>            flex-basis: 100%;<br>            flex: 1;<br>            padding: 10px;<br>        }<br>    </style><br><div class=\"wandb-row\"><div class=\"wandb-col\"><h3>Run history:</h3><br/><table class=\"wandb\"><tr><td>epoch</td><td>▁▁▂▂▂▂▃▃▃▄▄▄▅▅▅▅▆▆▆▇▇▇▇██</td></tr><tr><td>f1</td><td>▁▂▃▃▄▅▅▆▆▆▇▇▇▇▇███████████</td></tr><tr><td>precision</td><td>▁▂▄▄▅▅▆▆▆▆▇▇▇▇▇███████████</td></tr><tr><td>recall</td><td>▁▂▃▃▄▅▅▆▆▆▇▇▇▇▇███████████</td></tr><tr><td>test_acc</td><td>▁</td></tr><tr><td>train_acc</td><td>▁▂▃▃▄▅▅▅▆▆▆▇▇▇▇▇█████████</td></tr><tr><td>train_loss</td><td>█▇▆▆▅▅▄▄▃▃▃▃▂▂▂▂▁▁▁▁▁▁▁▁▁</td></tr><tr><td>val_acc</td><td>▁▂▃▄▄▅▆▆▆▆▇▇▇▇▇██████████</td></tr><tr><td>val_loss</td><td>█▇▆▆▅▅▄▄▃▃▃▂▂▂▂▂▁▁▁▁▁▁▁▁▁</td></tr></table><br/></div><div class=\"wandb-col\"><h3>Run summary:</h3><br/><table class=\"wandb\"><tr><td>epoch</td><td>25</td></tr><tr><td>f1</td><td>0.49803</td></tr><tr><td>precision</td><td>0.54981</td></tr><tr><td>recall</td><td>0.53593</td></tr><tr><td>test_acc</td><td>0.56833</td></tr><tr><td>train_acc</td><td>0.70104</td></tr><tr><td>train_loss</td><td>1.85268</td></tr><tr><td>val_acc</td><td>0.535</td></tr><tr><td>val_loss</td><td>2.1873</td></tr></table><br/></div></div>"
      ],
      "text/plain": [
       "<IPython.core.display.HTML object>"
      ]
     },
     "metadata": {},
     "output_type": "display_data"
    },
    {
     "data": {
      "text/html": [
       " View run <strong style=\"color:#cdcd00\">augmented_run5</strong> at: <a href='https://wandb.ai/javialroro-tecnologico-de-costa-rica/Proyecto1_IA/runs/ciu6gvmi' target=\"_blank\">https://wandb.ai/javialroro-tecnologico-de-costa-rica/Proyecto1_IA/runs/ciu6gvmi</a><br> View project at: <a href='https://wandb.ai/javialroro-tecnologico-de-costa-rica/Proyecto1_IA' target=\"_blank\">https://wandb.ai/javialroro-tecnologico-de-costa-rica/Proyecto1_IA</a><br>Synced 5 W&B file(s), 0 media file(s), 0 artifact file(s) and 0 other file(s)"
      ],
      "text/plain": [
       "<IPython.core.display.HTML object>"
      ]
     },
     "metadata": {},
     "output_type": "display_data"
    },
    {
     "data": {
      "text/html": [
       "Find logs at: <code>./wandb/run-20251031_090532-ciu6gvmi/logs</code>"
      ],
      "text/plain": [
       "<IPython.core.display.HTML object>"
      ]
     },
     "metadata": {},
     "output_type": "display_data"
    }
   ],
   "source": [
    "print(f\"Usando dispositivo: {DEVICE}\")\n",
    "\n",
    "experimentos = [\n",
    "    {\"lr\":1e-3, \"wd\":1e-4, \"batch\":32, \"epochs\":15},\n",
    "    {\"lr\":5e-4, \"wd\":1e-4, \"batch\":64, \"epochs\":15},\n",
    "    {\"lr\":1e-3, \"wd\":1e-5, \"batch\":64, \"epochs\":20},\n",
    "    {\"lr\":5e-4, \"wd\":1e-3, \"batch\":32, \"epochs\":20},\n",
    "    {\"lr\":1e-4, \"wd\":1e-4, \"batch\":64, \"epochs\":25},\n",
    "]\n",
    "\n",
    "# Entrenamientos: dataset base y dataset aumentado\n",
    "run_experiment(\"base\", [\"spectrograms\"], experimentos)\n",
    "run_experiment(\"augmented\", [\"spectrograms_augmented\"], experimentos)\n"
   ]
  },
  {
   "cell_type": "markdown",
   "id": "ee749260",
   "metadata": {},
   "source": [
    "# Modelo A con Dropout"
   ]
  },
  {
   "cell_type": "code",
   "execution_count": 4,
   "id": "e088d0fd",
   "metadata": {},
   "outputs": [],
   "source": [
    "class LeNet5_Dropout(nn.Module):\n",
    "    def __init__(self, in_channels=1, num_classes=50):\n",
    "        super().__init__()\n",
    "\n",
    "        # Bloques convolucionales: extracción de características\n",
    "        self.features = nn.Sequential(\n",
    "            nn.Conv2d(in_channels, 6, 5),  \n",
    "            nn.Tanh(),\n",
    "            nn.MaxPool2d(2, 2),            \n",
    "            nn.Conv2d(6, 16, 5),           \n",
    "            nn.Tanh(),\n",
    "            nn.MaxPool2d(2, 2)\n",
    "        )\n",
    "\n",
    "        # Calcula automáticamente el tamaño plano de salida\n",
    "        with torch.no_grad():\n",
    "            dummy = torch.zeros(1, in_channels, 224, 224)\n",
    "            flat_dim = self.features(dummy).numel()\n",
    "\n",
    "        # Capas completamente conectadas (clasificador)\n",
    "        self.classifier = nn.Sequential(\n",
    "            nn.Dropout(p=0.2),\n",
    "            nn.Linear(flat_dim, 120),\n",
    "            nn.Tanh(),\n",
    "            nn.Linear(120, 84),\n",
    "            nn.Dropout(p=0.2),\n",
    "            nn.Tanh(),\n",
    "            nn.Linear(84, num_classes)\n",
    "        )\n",
    "\n",
    "    def forward(self, x):\n",
    "        x = self.features(x)\n",
    "        x = x.view(x.size(0), -1)  \n",
    "        return self.classifier(x)"
   ]
  },
  {
   "cell_type": "markdown",
   "id": "a160fc39",
   "metadata": {},
   "source": [
    "## Entrenamiento"
   ]
  },
  {
   "cell_type": "code",
   "execution_count": 7,
   "id": "d80fef49",
   "metadata": {},
   "outputs": [],
   "source": [
    "def run_experimentAD(dataset_name, data_dirs, hparams):\n",
    "    print(f\"\\n=== Dataset: {dataset_name} ===\")\n",
    "\n",
    "    for i, hp in enumerate(hparams, 1):\n",
    "        print(f\"\\nEjecutando experimento {i}/{len(hparams)} ...\")\n",
    "\n",
    "        # Inicializa experimento en Weights & Biases\n",
    "        wandb.init(project=\"Proyecto1_IA_Dropout\", name=f\"{dataset_name}_run{i}\")\n",
    "        wandb.config.update(hp)\n",
    "\n",
    "        # Carga dataset y divide en Train / Val / Test\n",
    "        full = SpectrogramDataset(data_dirs, img_size=224, grayscale=True)\n",
    "        num_classes = len(full.idx_to_class)\n",
    "        N = len(full)\n",
    "        n_test = int(0.1 * N)\n",
    "        n_val = int(0.1 * N)\n",
    "        n_train = N - n_val - n_test\n",
    "        train, val, test = random_split(full, [n_train, n_val, n_test],\n",
    "                                        generator=torch.Generator().manual_seed(SEED))\n",
    "        train_loader = DataLoader(train, batch_size=hp[\"batch\"], shuffle=True)\n",
    "        val_loader = DataLoader(val, batch_size=hp[\"batch\"], shuffle=False)\n",
    "        test_loader = DataLoader(test, batch_size=hp[\"batch\"], shuffle=False)\n",
    "\n",
    "        # Instancia modelo, pérdida, optimizador y scheduler\n",
    "        model = LeNet5_Dropout(in_channels=1, num_classes=num_classes).to(DEVICE)\n",
    "        criterion = nn.CrossEntropyLoss()\n",
    "        optimizer = torch.optim.Adam(model.parameters(),\n",
    "                                     lr=hp[\"lr\"], weight_decay=hp[\"wd\"])\n",
    "        scheduler = CosineAnnealingLR(optimizer, T_max=hp[\"epochs\"])\n",
    "\n",
    "        # Entrenamiento con early saving del mejor modelo\n",
    "        best_val, best_weights = 0, None\n",
    "\n",
    "        for epoch in range(1, hp[\"epochs\"] + 1):\n",
    "            # ---------------- ENTRENAMIENTO ----------------\n",
    "            model.train()\n",
    "            total_loss, total_acc, n = 0, 0, 0\n",
    "            for x, y in train_loader:\n",
    "                x, y = x.to(DEVICE), y.to(DEVICE)\n",
    "                optimizer.zero_grad()\n",
    "                out = model(x)\n",
    "                loss = criterion(out, y)\n",
    "                loss.backward()\n",
    "                optimizer.step()\n",
    "\n",
    "                # Calcular accuracy directamente\n",
    "                preds = out.argmax(1)\n",
    "                acc = (preds == y).float().mean().item()\n",
    "\n",
    "                bs = y.size(0)\n",
    "                total_loss += loss.item() * bs\n",
    "                total_acc += acc * bs\n",
    "                n += bs\n",
    "\n",
    "            train_loss = total_loss / n\n",
    "            train_acc = total_acc / n\n",
    "\n",
    "            # ---------------- VALIDACIÓN ----------------\n",
    "            model.eval()\n",
    "            val_total_loss, val_total_acc, n_val_batches = 0, 0, 0\n",
    "            preds_all, labels_all = [], []\n",
    "            with torch.no_grad():\n",
    "                for x, y in val_loader:\n",
    "                    x, y = x.to(DEVICE), y.to(DEVICE)\n",
    "                    out = model(x)\n",
    "                    loss = criterion(out, y)\n",
    "\n",
    "                    preds = out.argmax(1)\n",
    "                    acc = (preds == y).float().mean().item()\n",
    "\n",
    "                    bs = y.size(0)\n",
    "                    val_total_loss += loss.item() * bs\n",
    "                    val_total_acc += acc * bs\n",
    "                    preds_all.extend(preds.cpu().numpy())\n",
    "                    labels_all.extend(y.cpu().numpy())\n",
    "                    n_val_batches += bs\n",
    "\n",
    "            val_loss = val_total_loss / n_val_batches\n",
    "            val_acc = val_total_acc / n_val_batches\n",
    "\n",
    "            scheduler.step()\n",
    "\n",
    "            f1 = f1_score(labels_all, preds_all, average=\"macro\", zero_division=0)\n",
    "            prec = precision_score(labels_all, preds_all, average=\"macro\", zero_division=0)\n",
    "            rec = recall_score(labels_all, preds_all, average=\"macro\", zero_division=0)\n",
    "\n",
    "            # Registro en WandB\n",
    "            wandb.log({\n",
    "                \"epoch\": epoch,\n",
    "                \"train_loss\": train_loss,\n",
    "                \"val_loss\": val_loss,\n",
    "                \"train_acc\": train_acc,\n",
    "                \"val_acc\": val_acc,\n",
    "                \"f1\": f1,\n",
    "                \"precision\": prec,\n",
    "                \"recall\": rec\n",
    "            })\n",
    "\n",
    "            print(f\"[{epoch:02d}/{hp['epochs']}] Training Loss={train_loss:.4f} Training Acc={train_acc:.4f} | Validation Loss={val_loss:.4f} Validation Acc={val_acc:.4f} | F1={f1:.4f} Precision={prec:.4f} Recall={rec:.4f}\")\n",
    "\n",
    "            if val_acc > best_val:\n",
    "                best_val = val_acc\n",
    "                best_weights = model.state_dict().copy()\n",
    "\n",
    "        # ---------------- TEST FINAL ----------------\n",
    "        model.load_state_dict(best_weights)\n",
    "        model.eval()\n",
    "        test_total_loss, test_total_acc, n_test_batches = 0, 0, 0\n",
    "        preds_all, labels_all = [], []\n",
    "\n",
    "        with torch.no_grad():\n",
    "            for x, y in test_loader:\n",
    "                x, y = x.to(DEVICE), y.to(DEVICE)\n",
    "                out = model(x)\n",
    "                loss = criterion(out, y)\n",
    "\n",
    "                preds = out.argmax(1)\n",
    "                acc = (preds == y).float().mean().item()\n",
    "\n",
    "                bs = y.size(0)\n",
    "                test_total_loss += loss.item() * bs\n",
    "                test_total_acc += acc * bs\n",
    "                preds_all.extend(preds.cpu().numpy())\n",
    "                labels_all.extend(y.cpu().numpy())\n",
    "                n_test_batches += bs\n",
    "\n",
    "        test_loss = test_total_loss / n_test_batches\n",
    "        test_acc = test_total_acc / n_test_batches\n",
    "\n",
    "\n",
    "        print(f\"→ Mejor val_acc={best_val:.4f} | Test_acc={test_acc:.4f} | F1={f1:.4f}\")\n",
    "\n",
    "        wandb.log({\n",
    "            \"test_acc\": test_acc,\n",
    "            \"f1\": f1,\n",
    "            \"precision\": prec,\n",
    "            \"recall\": rec\n",
    "        })\n",
    "        wandb.finish()"
   ]
  },
  {
   "cell_type": "code",
   "execution_count": 8,
   "id": "fcd2d975",
   "metadata": {},
   "outputs": [
    {
     "name": "stdout",
     "output_type": "stream",
     "text": [
      "Usando dispositivo: cuda\n",
      "\n",
      "=== Dataset: base ===\n",
      "\n",
      "Ejecutando experimento 1/5 ...\n"
     ]
    },
    {
     "name": "stderr",
     "output_type": "stream",
     "text": [
      "\u001b[34m\u001b[1mwandb\u001b[0m: Currently logged in as: \u001b[33mjavialroro\u001b[0m (\u001b[33mjavialroro-tecnologico-de-costa-rica\u001b[0m) to \u001b[32mhttps://api.wandb.ai\u001b[0m. Use \u001b[1m`wandb login --relogin`\u001b[0m to force relogin\n"
     ]
    },
    {
     "data": {
      "text/html": [],
      "text/plain": [
       "<IPython.core.display.HTML object>"
      ]
     },
     "metadata": {},
     "output_type": "display_data"
    },
    {
     "data": {
      "text/html": [
       "Tracking run with wandb version 0.22.2"
      ],
      "text/plain": [
       "<IPython.core.display.HTML object>"
      ]
     },
     "metadata": {},
     "output_type": "display_data"
    },
    {
     "data": {
      "text/html": [
       "Run data is saved locally in <code>/home/javialroro/TEC/2025 II/IA/CNNVoiceRecognition/wandb/run-20251031_095658-1getr9cg</code>"
      ],
      "text/plain": [
       "<IPython.core.display.HTML object>"
      ]
     },
     "metadata": {},
     "output_type": "display_data"
    },
    {
     "data": {
      "text/html": [
       "Syncing run <strong><a href='https://wandb.ai/javialroro-tecnologico-de-costa-rica/Proyecto1_IA_Dropout/runs/1getr9cg' target=\"_blank\">base_run1</a></strong> to <a href='https://wandb.ai/javialroro-tecnologico-de-costa-rica/Proyecto1_IA_Dropout' target=\"_blank\">Weights & Biases</a> (<a href='https://wandb.me/developer-guide' target=\"_blank\">docs</a>)<br>"
      ],
      "text/plain": [
       "<IPython.core.display.HTML object>"
      ]
     },
     "metadata": {},
     "output_type": "display_data"
    },
    {
     "data": {
      "text/html": [
       " View project at <a href='https://wandb.ai/javialroro-tecnologico-de-costa-rica/Proyecto1_IA_Dropout' target=\"_blank\">https://wandb.ai/javialroro-tecnologico-de-costa-rica/Proyecto1_IA_Dropout</a>"
      ],
      "text/plain": [
       "<IPython.core.display.HTML object>"
      ]
     },
     "metadata": {},
     "output_type": "display_data"
    },
    {
     "data": {
      "text/html": [
       " View run at <a href='https://wandb.ai/javialroro-tecnologico-de-costa-rica/Proyecto1_IA_Dropout/runs/1getr9cg' target=\"_blank\">https://wandb.ai/javialroro-tecnologico-de-costa-rica/Proyecto1_IA_Dropout/runs/1getr9cg</a>"
      ],
      "text/plain": [
       "<IPython.core.display.HTML object>"
      ]
     },
     "metadata": {},
     "output_type": "display_data"
    },
    {
     "name": "stdout",
     "output_type": "stream",
     "text": [
      "[01/15] Training Loss=3.8796 Training Acc=0.0325 | Validation Loss=3.7689 Validation Acc=0.0500 | F1=0.0210 Precision=0.0205 Recall=0.0690\n",
      "[02/15] Training Loss=3.6759 Training Acc=0.0606 | Validation Loss=3.6530 Validation Acc=0.1000 | F1=0.0493 Precision=0.0639 Recall=0.1257\n",
      "[03/15] Training Loss=3.5573 Training Acc=0.0781 | Validation Loss=3.5824 Validation Acc=0.1100 | F1=0.0580 Precision=0.0695 Recall=0.1457\n",
      "[04/15] Training Loss=3.4681 Training Acc=0.1006 | Validation Loss=3.5579 Validation Acc=0.0850 | F1=0.0652 Precision=0.0864 Recall=0.1140\n",
      "[05/15] Training Loss=3.3992 Training Acc=0.1094 | Validation Loss=3.4779 Validation Acc=0.0900 | F1=0.0479 Precision=0.0384 Recall=0.1167\n",
      "[06/15] Training Loss=3.3197 Training Acc=0.1200 | Validation Loss=3.4290 Validation Acc=0.1150 | F1=0.0844 Precision=0.0867 Recall=0.1392\n",
      "[07/15] Training Loss=3.2604 Training Acc=0.1356 | Validation Loss=3.3618 Validation Acc=0.1250 | F1=0.0869 Precision=0.1042 Recall=0.1564\n",
      "[08/15] Training Loss=3.1410 Training Acc=0.1638 | Validation Loss=3.2940 Validation Acc=0.1550 | F1=0.1103 Precision=0.1331 Recall=0.1713\n",
      "[09/15] Training Loss=3.0553 Training Acc=0.1931 | Validation Loss=3.1743 Validation Acc=0.1800 | F1=0.1298 Precision=0.1267 Recall=0.1870\n",
      "[10/15] Training Loss=2.9742 Training Acc=0.2250 | Validation Loss=3.1837 Validation Acc=0.1850 | F1=0.1300 Precision=0.1348 Recall=0.1998\n",
      "[11/15] Training Loss=2.9129 Training Acc=0.2338 | Validation Loss=3.1586 Validation Acc=0.1900 | F1=0.1387 Precision=0.1280 Recall=0.2038\n",
      "[12/15] Training Loss=2.8487 Training Acc=0.2575 | Validation Loss=3.0970 Validation Acc=0.2250 | F1=0.1581 Precision=0.1383 Recall=0.2414\n",
      "[13/15] Training Loss=2.7937 Training Acc=0.2756 | Validation Loss=3.0829 Validation Acc=0.2250 | F1=0.1555 Precision=0.1310 Recall=0.2516\n",
      "[14/15] Training Loss=2.7613 Training Acc=0.2906 | Validation Loss=3.0832 Validation Acc=0.2250 | F1=0.1539 Precision=0.1398 Recall=0.2354\n",
      "[15/15] Training Loss=2.7540 Training Acc=0.2781 | Validation Loss=3.0775 Validation Acc=0.2250 | F1=0.1545 Precision=0.1390 Recall=0.2354\n",
      "→ Mejor val_acc=0.2250 | Test_acc=0.2200 | F1=0.1545\n"
     ]
    },
    {
     "data": {
      "text/html": [],
      "text/plain": [
       "<IPython.core.display.HTML object>"
      ]
     },
     "metadata": {},
     "output_type": "display_data"
    },
    {
     "data": {
      "text/html": [
       "<br>    <style><br>        .wandb-row {<br>            display: flex;<br>            flex-direction: row;<br>            flex-wrap: wrap;<br>            justify-content: flex-start;<br>            width: 100%;<br>        }<br>        .wandb-col {<br>            display: flex;<br>            flex-direction: column;<br>            flex-basis: 100%;<br>            flex: 1;<br>            padding: 10px;<br>        }<br>    </style><br><div class=\"wandb-row\"><div class=\"wandb-col\"><h3>Run history:</h3><br/><table class=\"wandb\"><tr><td>epoch</td><td>▁▁▂▃▃▃▄▅▅▅▆▇▇▇█</td></tr><tr><td>f1</td><td>▁▂▃▃▂▄▄▆▇▇▇█████</td></tr><tr><td>precision</td><td>▁▄▄▅▂▅▆█▇█▇█▇███</td></tr><tr><td>recall</td><td>▁▃▄▃▃▄▄▅▆▆▆██▇▇▇</td></tr><tr><td>test_acc</td><td>▁</td></tr><tr><td>train_acc</td><td>▁▂▂▃▃▃▄▅▅▆▆▇███</td></tr><tr><td>train_loss</td><td>█▇▆▅▅▅▄▃▃▂▂▂▁▁▁</td></tr><tr><td>val_acc</td><td>▁▃▃▂▃▄▄▅▆▆▇████</td></tr><tr><td>val_loss</td><td>█▇▆▆▅▅▄▃▂▂▂▁▁▁▁</td></tr></table><br/></div><div class=\"wandb-col\"><h3>Run summary:</h3><br/><table class=\"wandb\"><tr><td>epoch</td><td>15</td></tr><tr><td>f1</td><td>0.15453</td></tr><tr><td>precision</td><td>0.13899</td></tr><tr><td>recall</td><td>0.23543</td></tr><tr><td>test_acc</td><td>0.22</td></tr><tr><td>train_acc</td><td>0.27813</td></tr><tr><td>train_loss</td><td>2.75395</td></tr><tr><td>val_acc</td><td>0.225</td></tr><tr><td>val_loss</td><td>3.07755</td></tr></table><br/></div></div>"
      ],
      "text/plain": [
       "<IPython.core.display.HTML object>"
      ]
     },
     "metadata": {},
     "output_type": "display_data"
    },
    {
     "data": {
      "text/html": [
       " View run <strong style=\"color:#cdcd00\">base_run1</strong> at: <a href='https://wandb.ai/javialroro-tecnologico-de-costa-rica/Proyecto1_IA_Dropout/runs/1getr9cg' target=\"_blank\">https://wandb.ai/javialroro-tecnologico-de-costa-rica/Proyecto1_IA_Dropout/runs/1getr9cg</a><br> View project at: <a href='https://wandb.ai/javialroro-tecnologico-de-costa-rica/Proyecto1_IA_Dropout' target=\"_blank\">https://wandb.ai/javialroro-tecnologico-de-costa-rica/Proyecto1_IA_Dropout</a><br>Synced 5 W&B file(s), 0 media file(s), 0 artifact file(s) and 0 other file(s)"
      ],
      "text/plain": [
       "<IPython.core.display.HTML object>"
      ]
     },
     "metadata": {},
     "output_type": "display_data"
    },
    {
     "data": {
      "text/html": [
       "Find logs at: <code>./wandb/run-20251031_095658-1getr9cg/logs</code>"
      ],
      "text/plain": [
       "<IPython.core.display.HTML object>"
      ]
     },
     "metadata": {},
     "output_type": "display_data"
    },
    {
     "name": "stdout",
     "output_type": "stream",
     "text": [
      "\n",
      "Ejecutando experimento 2/5 ...\n"
     ]
    },
    {
     "data": {
      "text/html": [],
      "text/plain": [
       "<IPython.core.display.HTML object>"
      ]
     },
     "metadata": {},
     "output_type": "display_data"
    },
    {
     "data": {
      "text/html": [
       "Tracking run with wandb version 0.22.2"
      ],
      "text/plain": [
       "<IPython.core.display.HTML object>"
      ]
     },
     "metadata": {},
     "output_type": "display_data"
    },
    {
     "data": {
      "text/html": [
       "Run data is saved locally in <code>/home/javialroro/TEC/2025 II/IA/CNNVoiceRecognition/wandb/run-20251031_095745-zqsntbnb</code>"
      ],
      "text/plain": [
       "<IPython.core.display.HTML object>"
      ]
     },
     "metadata": {},
     "output_type": "display_data"
    },
    {
     "data": {
      "text/html": [
       "Syncing run <strong><a href='https://wandb.ai/javialroro-tecnologico-de-costa-rica/Proyecto1_IA_Dropout/runs/zqsntbnb' target=\"_blank\">base_run2</a></strong> to <a href='https://wandb.ai/javialroro-tecnologico-de-costa-rica/Proyecto1_IA_Dropout' target=\"_blank\">Weights & Biases</a> (<a href='https://wandb.me/developer-guide' target=\"_blank\">docs</a>)<br>"
      ],
      "text/plain": [
       "<IPython.core.display.HTML object>"
      ]
     },
     "metadata": {},
     "output_type": "display_data"
    },
    {
     "data": {
      "text/html": [
       " View project at <a href='https://wandb.ai/javialroro-tecnologico-de-costa-rica/Proyecto1_IA_Dropout' target=\"_blank\">https://wandb.ai/javialroro-tecnologico-de-costa-rica/Proyecto1_IA_Dropout</a>"
      ],
      "text/plain": [
       "<IPython.core.display.HTML object>"
      ]
     },
     "metadata": {},
     "output_type": "display_data"
    },
    {
     "data": {
      "text/html": [
       " View run at <a href='https://wandb.ai/javialroro-tecnologico-de-costa-rica/Proyecto1_IA_Dropout/runs/zqsntbnb' target=\"_blank\">https://wandb.ai/javialroro-tecnologico-de-costa-rica/Proyecto1_IA_Dropout/runs/zqsntbnb</a>"
      ],
      "text/plain": [
       "<IPython.core.display.HTML object>"
      ]
     },
     "metadata": {},
     "output_type": "display_data"
    },
    {
     "name": "stdout",
     "output_type": "stream",
     "text": [
      "[01/15] Training Loss=3.8035 Training Acc=0.0450 | Validation Loss=3.6817 Validation Acc=0.0700 | F1=0.0300 Precision=0.0284 Recall=0.0804\n",
      "[02/15] Training Loss=3.5871 Training Acc=0.0887 | Validation Loss=3.5519 Validation Acc=0.1100 | F1=0.0774 Precision=0.0707 Recall=0.1260\n",
      "[03/15] Training Loss=3.4398 Training Acc=0.1512 | Validation Loss=3.4513 Validation Acc=0.1650 | F1=0.1147 Precision=0.1174 Recall=0.1584\n",
      "[04/15] Training Loss=3.3036 Training Acc=0.1888 | Validation Loss=3.3448 Validation Acc=0.2050 | F1=0.1429 Precision=0.1407 Recall=0.2073\n",
      "[05/15] Training Loss=3.1759 Training Acc=0.2256 | Validation Loss=3.2180 Validation Acc=0.2700 | F1=0.1955 Precision=0.1936 Recall=0.2748\n",
      "[06/15] Training Loss=3.0405 Training Acc=0.2931 | Validation Loss=3.1373 Validation Acc=0.2650 | F1=0.1706 Precision=0.1701 Recall=0.2378\n",
      "[07/15] Training Loss=2.9273 Training Acc=0.3387 | Validation Loss=3.0607 Validation Acc=0.3000 | F1=0.2245 Precision=0.2288 Recall=0.2882\n",
      "[08/15] Training Loss=2.8389 Training Acc=0.3681 | Validation Loss=3.0356 Validation Acc=0.2850 | F1=0.2054 Precision=0.2133 Recall=0.2769\n",
      "[09/15] Training Loss=2.7564 Training Acc=0.3862 | Validation Loss=2.9771 Validation Acc=0.3200 | F1=0.2404 Precision=0.2286 Recall=0.3056\n",
      "[10/15] Training Loss=2.6734 Training Acc=0.4163 | Validation Loss=2.9287 Validation Acc=0.3000 | F1=0.2339 Precision=0.2177 Recall=0.2964\n",
      "[11/15] Training Loss=2.6141 Training Acc=0.4500 | Validation Loss=2.9065 Validation Acc=0.3150 | F1=0.2359 Precision=0.2195 Recall=0.3137\n",
      "[12/15] Training Loss=2.5569 Training Acc=0.4763 | Validation Loss=2.8891 Validation Acc=0.3050 | F1=0.2435 Precision=0.2218 Recall=0.3190\n",
      "[13/15] Training Loss=2.5280 Training Acc=0.4881 | Validation Loss=2.8736 Validation Acc=0.3200 | F1=0.2468 Precision=0.2276 Recall=0.3176\n",
      "[14/15] Training Loss=2.5057 Training Acc=0.4950 | Validation Loss=2.8757 Validation Acc=0.3150 | F1=0.2506 Precision=0.2276 Recall=0.3258\n",
      "[15/15] Training Loss=2.4908 Training Acc=0.5131 | Validation Loss=2.8736 Validation Acc=0.3050 | F1=0.2320 Precision=0.2107 Recall=0.3019\n",
      "→ Mejor val_acc=0.3200 | Test_acc=0.2950 | F1=0.2320\n"
     ]
    },
    {
     "data": {
      "text/html": [],
      "text/plain": [
       "<IPython.core.display.HTML object>"
      ]
     },
     "metadata": {},
     "output_type": "display_data"
    },
    {
     "data": {
      "text/html": [
       "<br>    <style><br>        .wandb-row {<br>            display: flex;<br>            flex-direction: row;<br>            flex-wrap: wrap;<br>            justify-content: flex-start;<br>            width: 100%;<br>        }<br>        .wandb-col {<br>            display: flex;<br>            flex-direction: column;<br>            flex-basis: 100%;<br>            flex: 1;<br>            padding: 10px;<br>        }<br>    </style><br><div class=\"wandb-row\"><div class=\"wandb-col\"><h3>Run history:</h3><br/><table class=\"wandb\"><tr><td>epoch</td><td>▁▁▂▃▃▃▄▅▅▅▆▇▇▇█</td></tr><tr><td>f1</td><td>▁▃▄▅▆▅▇▇█▇████▇▇</td></tr><tr><td>precision</td><td>▁▂▄▅▇▆█▇██████▇▇</td></tr><tr><td>recall</td><td>▁▂▃▅▇▅▇▇▇▇████▇▇</td></tr><tr><td>test_acc</td><td>▁</td></tr><tr><td>train_acc</td><td>▁▂▃▃▄▅▅▆▆▇▇▇███</td></tr><tr><td>train_loss</td><td>█▇▆▅▅▄▃▃▂▂▂▁▁▁▁</td></tr><tr><td>val_acc</td><td>▁▂▄▅▇▆▇▇█▇█████</td></tr><tr><td>val_loss</td><td>█▇▆▅▄▃▃▂▂▁▁▁▁▁▁</td></tr></table><br/></div><div class=\"wandb-col\"><h3>Run summary:</h3><br/><table class=\"wandb\"><tr><td>epoch</td><td>15</td></tr><tr><td>f1</td><td>0.23197</td></tr><tr><td>precision</td><td>0.21065</td></tr><tr><td>recall</td><td>0.3019</td></tr><tr><td>test_acc</td><td>0.295</td></tr><tr><td>train_acc</td><td>0.51313</td></tr><tr><td>train_loss</td><td>2.49083</td></tr><tr><td>val_acc</td><td>0.305</td></tr><tr><td>val_loss</td><td>2.87361</td></tr></table><br/></div></div>"
      ],
      "text/plain": [
       "<IPython.core.display.HTML object>"
      ]
     },
     "metadata": {},
     "output_type": "display_data"
    },
    {
     "data": {
      "text/html": [
       " View run <strong style=\"color:#cdcd00\">base_run2</strong> at: <a href='https://wandb.ai/javialroro-tecnologico-de-costa-rica/Proyecto1_IA_Dropout/runs/zqsntbnb' target=\"_blank\">https://wandb.ai/javialroro-tecnologico-de-costa-rica/Proyecto1_IA_Dropout/runs/zqsntbnb</a><br> View project at: <a href='https://wandb.ai/javialroro-tecnologico-de-costa-rica/Proyecto1_IA_Dropout' target=\"_blank\">https://wandb.ai/javialroro-tecnologico-de-costa-rica/Proyecto1_IA_Dropout</a><br>Synced 5 W&B file(s), 0 media file(s), 0 artifact file(s) and 0 other file(s)"
      ],
      "text/plain": [
       "<IPython.core.display.HTML object>"
      ]
     },
     "metadata": {},
     "output_type": "display_data"
    },
    {
     "data": {
      "text/html": [
       "Find logs at: <code>./wandb/run-20251031_095745-zqsntbnb/logs</code>"
      ],
      "text/plain": [
       "<IPython.core.display.HTML object>"
      ]
     },
     "metadata": {},
     "output_type": "display_data"
    },
    {
     "name": "stdout",
     "output_type": "stream",
     "text": [
      "\n",
      "Ejecutando experimento 3/5 ...\n"
     ]
    },
    {
     "data": {
      "text/html": [],
      "text/plain": [
       "<IPython.core.display.HTML object>"
      ]
     },
     "metadata": {},
     "output_type": "display_data"
    },
    {
     "data": {
      "text/html": [
       "Tracking run with wandb version 0.22.2"
      ],
      "text/plain": [
       "<IPython.core.display.HTML object>"
      ]
     },
     "metadata": {},
     "output_type": "display_data"
    },
    {
     "data": {
      "text/html": [
       "Run data is saved locally in <code>/home/javialroro/TEC/2025 II/IA/CNNVoiceRecognition/wandb/run-20251031_095831-tu7vcatb</code>"
      ],
      "text/plain": [
       "<IPython.core.display.HTML object>"
      ]
     },
     "metadata": {},
     "output_type": "display_data"
    },
    {
     "data": {
      "text/html": [
       "Syncing run <strong><a href='https://wandb.ai/javialroro-tecnologico-de-costa-rica/Proyecto1_IA_Dropout/runs/tu7vcatb' target=\"_blank\">base_run3</a></strong> to <a href='https://wandb.ai/javialroro-tecnologico-de-costa-rica/Proyecto1_IA_Dropout' target=\"_blank\">Weights & Biases</a> (<a href='https://wandb.me/developer-guide' target=\"_blank\">docs</a>)<br>"
      ],
      "text/plain": [
       "<IPython.core.display.HTML object>"
      ]
     },
     "metadata": {},
     "output_type": "display_data"
    },
    {
     "data": {
      "text/html": [
       " View project at <a href='https://wandb.ai/javialroro-tecnologico-de-costa-rica/Proyecto1_IA_Dropout' target=\"_blank\">https://wandb.ai/javialroro-tecnologico-de-costa-rica/Proyecto1_IA_Dropout</a>"
      ],
      "text/plain": [
       "<IPython.core.display.HTML object>"
      ]
     },
     "metadata": {},
     "output_type": "display_data"
    },
    {
     "data": {
      "text/html": [
       " View run at <a href='https://wandb.ai/javialroro-tecnologico-de-costa-rica/Proyecto1_IA_Dropout/runs/tu7vcatb' target=\"_blank\">https://wandb.ai/javialroro-tecnologico-de-costa-rica/Proyecto1_IA_Dropout/runs/tu7vcatb</a>"
      ],
      "text/plain": [
       "<IPython.core.display.HTML object>"
      ]
     },
     "metadata": {},
     "output_type": "display_data"
    },
    {
     "name": "stdout",
     "output_type": "stream",
     "text": [
      "[01/20] Training Loss=3.8326 Training Acc=0.0381 | Validation Loss=3.7306 Validation Acc=0.0600 | F1=0.0316 Precision=0.0520 Recall=0.0840\n",
      "[02/20] Training Loss=3.5642 Training Acc=0.0944 | Validation Loss=3.5051 Validation Acc=0.1050 | F1=0.0573 Precision=0.0691 Recall=0.1091\n",
      "[03/20] Training Loss=3.3475 Training Acc=0.1406 | Validation Loss=3.3696 Validation Acc=0.1600 | F1=0.0994 Precision=0.1165 Recall=0.1501\n",
      "[04/20] Training Loss=3.1806 Training Acc=0.1831 | Validation Loss=3.1978 Validation Acc=0.2150 | F1=0.1404 Precision=0.1295 Recall=0.2074\n",
      "[05/20] Training Loss=2.9773 Training Acc=0.2575 | Validation Loss=3.0874 Validation Acc=0.2400 | F1=0.1802 Precision=0.1977 Recall=0.2425\n",
      "[06/20] Training Loss=2.7537 Training Acc=0.3244 | Validation Loss=3.0451 Validation Acc=0.2350 | F1=0.1859 Precision=0.2096 Recall=0.2359\n",
      "[07/20] Training Loss=2.5561 Training Acc=0.3931 | Validation Loss=2.9182 Validation Acc=0.2600 | F1=0.1988 Precision=0.1900 Recall=0.2741\n",
      "[08/20] Training Loss=2.3343 Training Acc=0.4756 | Validation Loss=2.8135 Validation Acc=0.3100 | F1=0.2533 Precision=0.2465 Recall=0.3424\n",
      "[09/20] Training Loss=2.1344 Training Acc=0.5475 | Validation Loss=2.7567 Validation Acc=0.2800 | F1=0.2287 Precision=0.2230 Recall=0.2885\n",
      "[10/20] Training Loss=1.9258 Training Acc=0.6288 | Validation Loss=2.7313 Validation Acc=0.2850 | F1=0.2394 Precision=0.2476 Recall=0.3097\n",
      "[11/20] Training Loss=1.7086 Training Acc=0.7131 | Validation Loss=2.7213 Validation Acc=0.3100 | F1=0.2664 Precision=0.2780 Recall=0.3399\n",
      "[12/20] Training Loss=1.5422 Training Acc=0.7681 | Validation Loss=2.6597 Validation Acc=0.3050 | F1=0.2655 Precision=0.2940 Recall=0.3535\n",
      "[13/20] Training Loss=1.4029 Training Acc=0.8200 | Validation Loss=2.6194 Validation Acc=0.3200 | F1=0.2891 Precision=0.2791 Recall=0.3713\n",
      "[14/20] Training Loss=1.2832 Training Acc=0.8556 | Validation Loss=2.6446 Validation Acc=0.3000 | F1=0.2700 Precision=0.2938 Recall=0.3402\n",
      "[15/20] Training Loss=1.1962 Training Acc=0.8744 | Validation Loss=2.5925 Validation Acc=0.3150 | F1=0.2855 Precision=0.2909 Recall=0.3569\n",
      "[16/20] Training Loss=1.1315 Training Acc=0.8931 | Validation Loss=2.6027 Validation Acc=0.3250 | F1=0.2946 Precision=0.3009 Recall=0.3647\n",
      "[17/20] Training Loss=1.0875 Training Acc=0.9050 | Validation Loss=2.6062 Validation Acc=0.3350 | F1=0.3038 Precision=0.3141 Recall=0.3754\n",
      "[18/20] Training Loss=1.0654 Training Acc=0.9069 | Validation Loss=2.5981 Validation Acc=0.3200 | F1=0.2926 Precision=0.3013 Recall=0.3655\n",
      "[19/20] Training Loss=1.0401 Training Acc=0.9194 | Validation Loss=2.6013 Validation Acc=0.3300 | F1=0.3010 Precision=0.3100 Recall=0.3724\n",
      "[20/20] Training Loss=1.0381 Training Acc=0.9169 | Validation Loss=2.6003 Validation Acc=0.3300 | F1=0.3009 Precision=0.3097 Recall=0.3724\n",
      "→ Mejor val_acc=0.3350 | Test_acc=0.3100 | F1=0.3009\n"
     ]
    },
    {
     "data": {
      "text/html": [],
      "text/plain": [
       "<IPython.core.display.HTML object>"
      ]
     },
     "metadata": {},
     "output_type": "display_data"
    },
    {
     "data": {
      "text/html": [
       "<br>    <style><br>        .wandb-row {<br>            display: flex;<br>            flex-direction: row;<br>            flex-wrap: wrap;<br>            justify-content: flex-start;<br>            width: 100%;<br>        }<br>        .wandb-col {<br>            display: flex;<br>            flex-direction: column;<br>            flex-basis: 100%;<br>            flex: 1;<br>            padding: 10px;<br>        }<br>    </style><br><div class=\"wandb-row\"><div class=\"wandb-col\"><h3>Run history:</h3><br/><table class=\"wandb\"><tr><td>epoch</td><td>▁▁▂▂▂▃▃▄▄▄▅▅▅▆▆▇▇▇██</td></tr><tr><td>f1</td><td>▁▂▃▄▅▅▅▇▆▆▇▇█▇███████</td></tr><tr><td>precision</td><td>▁▁▃▃▅▅▅▆▆▆▇▇▇▇▇██████</td></tr><tr><td>recall</td><td>▁▂▃▄▅▅▆▇▆▆▇▇█▇███████</td></tr><tr><td>test_acc</td><td>▁</td></tr><tr><td>train_acc</td><td>▁▁▂▂▃▃▄▄▅▆▆▇▇▇██████</td></tr><tr><td>train_loss</td><td>█▇▇▆▆▅▅▄▄▃▃▂▂▂▁▁▁▁▁▁</td></tr><tr><td>val_acc</td><td>▁▂▄▅▆▅▆▇▇▇▇▇█▇▇█████</td></tr><tr><td>val_loss</td><td>█▇▆▅▄▄▃▂▂▂▂▁▁▁▁▁▁▁▁▁</td></tr></table><br/></div><div class=\"wandb-col\"><h3>Run summary:</h3><br/><table class=\"wandb\"><tr><td>epoch</td><td>20</td></tr><tr><td>f1</td><td>0.30094</td></tr><tr><td>precision</td><td>0.30968</td></tr><tr><td>recall</td><td>0.37238</td></tr><tr><td>test_acc</td><td>0.31</td></tr><tr><td>train_acc</td><td>0.91687</td></tr><tr><td>train_loss</td><td>1.03814</td></tr><tr><td>val_acc</td><td>0.33</td></tr><tr><td>val_loss</td><td>2.60035</td></tr></table><br/></div></div>"
      ],
      "text/plain": [
       "<IPython.core.display.HTML object>"
      ]
     },
     "metadata": {},
     "output_type": "display_data"
    },
    {
     "data": {
      "text/html": [
       " View run <strong style=\"color:#cdcd00\">base_run3</strong> at: <a href='https://wandb.ai/javialroro-tecnologico-de-costa-rica/Proyecto1_IA_Dropout/runs/tu7vcatb' target=\"_blank\">https://wandb.ai/javialroro-tecnologico-de-costa-rica/Proyecto1_IA_Dropout/runs/tu7vcatb</a><br> View project at: <a href='https://wandb.ai/javialroro-tecnologico-de-costa-rica/Proyecto1_IA_Dropout' target=\"_blank\">https://wandb.ai/javialroro-tecnologico-de-costa-rica/Proyecto1_IA_Dropout</a><br>Synced 5 W&B file(s), 0 media file(s), 0 artifact file(s) and 0 other file(s)"
      ],
      "text/plain": [
       "<IPython.core.display.HTML object>"
      ]
     },
     "metadata": {},
     "output_type": "display_data"
    },
    {
     "data": {
      "text/html": [
       "Find logs at: <code>./wandb/run-20251031_095831-tu7vcatb/logs</code>"
      ],
      "text/plain": [
       "<IPython.core.display.HTML object>"
      ]
     },
     "metadata": {},
     "output_type": "display_data"
    },
    {
     "name": "stdout",
     "output_type": "stream",
     "text": [
      "\n",
      "Ejecutando experimento 4/5 ...\n"
     ]
    },
    {
     "data": {
      "text/html": [],
      "text/plain": [
       "<IPython.core.display.HTML object>"
      ]
     },
     "metadata": {},
     "output_type": "display_data"
    },
    {
     "data": {
      "text/html": [
       "Tracking run with wandb version 0.22.2"
      ],
      "text/plain": [
       "<IPython.core.display.HTML object>"
      ]
     },
     "metadata": {},
     "output_type": "display_data"
    },
    {
     "data": {
      "text/html": [
       "Run data is saved locally in <code>/home/javialroro/TEC/2025 II/IA/CNNVoiceRecognition/wandb/run-20251031_095935-csl1x4l7</code>"
      ],
      "text/plain": [
       "<IPython.core.display.HTML object>"
      ]
     },
     "metadata": {},
     "output_type": "display_data"
    },
    {
     "data": {
      "text/html": [
       "Syncing run <strong><a href='https://wandb.ai/javialroro-tecnologico-de-costa-rica/Proyecto1_IA_Dropout/runs/csl1x4l7' target=\"_blank\">base_run4</a></strong> to <a href='https://wandb.ai/javialroro-tecnologico-de-costa-rica/Proyecto1_IA_Dropout' target=\"_blank\">Weights & Biases</a> (<a href='https://wandb.me/developer-guide' target=\"_blank\">docs</a>)<br>"
      ],
      "text/plain": [
       "<IPython.core.display.HTML object>"
      ]
     },
     "metadata": {},
     "output_type": "display_data"
    },
    {
     "data": {
      "text/html": [
       " View project at <a href='https://wandb.ai/javialroro-tecnologico-de-costa-rica/Proyecto1_IA_Dropout' target=\"_blank\">https://wandb.ai/javialroro-tecnologico-de-costa-rica/Proyecto1_IA_Dropout</a>"
      ],
      "text/plain": [
       "<IPython.core.display.HTML object>"
      ]
     },
     "metadata": {},
     "output_type": "display_data"
    },
    {
     "data": {
      "text/html": [
       " View run at <a href='https://wandb.ai/javialroro-tecnologico-de-costa-rica/Proyecto1_IA_Dropout/runs/csl1x4l7' target=\"_blank\">https://wandb.ai/javialroro-tecnologico-de-costa-rica/Proyecto1_IA_Dropout/runs/csl1x4l7</a>"
      ],
      "text/plain": [
       "<IPython.core.display.HTML object>"
      ]
     },
     "metadata": {},
     "output_type": "display_data"
    },
    {
     "name": "stdout",
     "output_type": "stream",
     "text": [
      "[01/20] Training Loss=3.8122 Training Acc=0.0488 | Validation Loss=3.7008 Validation Acc=0.0750 | F1=0.0387 Precision=0.0615 Recall=0.0869\n",
      "[02/20] Training Loss=3.5459 Training Acc=0.1056 | Validation Loss=3.5087 Validation Acc=0.1050 | F1=0.0616 Precision=0.0740 Recall=0.1049\n",
      "[03/20] Training Loss=3.3256 Training Acc=0.1706 | Validation Loss=3.3082 Validation Acc=0.1950 | F1=0.1262 Precision=0.1519 Recall=0.1852\n",
      "[04/20] Training Loss=3.1325 Training Acc=0.2581 | Validation Loss=3.2014 Validation Acc=0.1550 | F1=0.1023 Precision=0.0912 Recall=0.1517\n",
      "[05/20] Training Loss=2.9481 Training Acc=0.2956 | Validation Loss=3.0460 Validation Acc=0.2300 | F1=0.1674 Precision=0.1742 Recall=0.2250\n",
      "[06/20] Training Loss=2.7506 Training Acc=0.3762 | Validation Loss=2.9527 Validation Acc=0.2900 | F1=0.2313 Precision=0.2395 Recall=0.3173\n",
      "[07/20] Training Loss=2.5678 Training Acc=0.4369 | Validation Loss=2.9231 Validation Acc=0.2450 | F1=0.1936 Precision=0.1914 Recall=0.2562\n",
      "[08/20] Training Loss=2.3862 Training Acc=0.5288 | Validation Loss=2.8367 Validation Acc=0.2750 | F1=0.2204 Precision=0.1995 Recall=0.3034\n",
      "[09/20] Training Loss=2.1861 Training Acc=0.6000 | Validation Loss=2.7446 Validation Acc=0.3050 | F1=0.2496 Precision=0.2480 Recall=0.3190\n",
      "[10/20] Training Loss=2.0438 Training Acc=0.6344 | Validation Loss=2.6898 Validation Acc=0.3400 | F1=0.2976 Precision=0.3078 Recall=0.3820\n",
      "[11/20] Training Loss=1.8710 Training Acc=0.7163 | Validation Loss=2.6262 Validation Acc=0.3650 | F1=0.3274 Precision=0.3264 Recall=0.4100\n",
      "[12/20] Training Loss=1.7207 Training Acc=0.7575 | Validation Loss=2.5849 Validation Acc=0.3650 | F1=0.3110 Precision=0.2884 Recall=0.3998\n",
      "[13/20] Training Loss=1.5965 Training Acc=0.7925 | Validation Loss=2.5640 Validation Acc=0.3750 | F1=0.3313 Precision=0.3387 Recall=0.4103\n",
      "[14/20] Training Loss=1.4891 Training Acc=0.8225 | Validation Loss=2.5401 Validation Acc=0.3650 | F1=0.3275 Precision=0.3146 Recall=0.4070\n",
      "[15/20] Training Loss=1.4100 Training Acc=0.8525 | Validation Loss=2.5292 Validation Acc=0.3500 | F1=0.3112 Precision=0.3040 Recall=0.3865\n",
      "[16/20] Training Loss=1.3504 Training Acc=0.8675 | Validation Loss=2.5339 Validation Acc=0.3500 | F1=0.3118 Precision=0.3181 Recall=0.3859\n",
      "[17/20] Training Loss=1.3096 Training Acc=0.8694 | Validation Loss=2.4998 Validation Acc=0.3550 | F1=0.3209 Precision=0.3379 Recall=0.3899\n",
      "[18/20] Training Loss=1.2739 Training Acc=0.8850 | Validation Loss=2.5086 Validation Acc=0.3600 | F1=0.3297 Precision=0.3590 Recall=0.3944\n",
      "[19/20] Training Loss=1.2537 Training Acc=0.8844 | Validation Loss=2.5040 Validation Acc=0.3550 | F1=0.3240 Precision=0.3267 Recall=0.3932\n",
      "[20/20] Training Loss=1.2444 Training Acc=0.8875 | Validation Loss=2.5033 Validation Acc=0.3500 | F1=0.3219 Precision=0.3344 Recall=0.3865\n",
      "→ Mejor val_acc=0.3750 | Test_acc=0.3400 | F1=0.3219\n"
     ]
    },
    {
     "data": {
      "text/html": [],
      "text/plain": [
       "<IPython.core.display.HTML object>"
      ]
     },
     "metadata": {},
     "output_type": "display_data"
    },
    {
     "data": {
      "text/html": [
       "<br>    <style><br>        .wandb-row {<br>            display: flex;<br>            flex-direction: row;<br>            flex-wrap: wrap;<br>            justify-content: flex-start;<br>            width: 100%;<br>        }<br>        .wandb-col {<br>            display: flex;<br>            flex-direction: column;<br>            flex-basis: 100%;<br>            flex: 1;<br>            padding: 10px;<br>        }<br>    </style><br><div class=\"wandb-row\"><div class=\"wandb-col\"><h3>Run history:</h3><br/><table class=\"wandb\"><tr><td>epoch</td><td>▁▁▂▂▂▃▃▄▄▄▅▅▅▆▆▇▇▇██</td></tr><tr><td>f1</td><td>▁▂▃▃▄▆▅▅▆▇███████████</td></tr><tr><td>precision</td><td>▁▁▃▂▄▅▄▄▅▇▇▆█▇▇▇██▇▇▇</td></tr><tr><td>recall</td><td>▁▁▃▂▄▆▅▆▆▇████▇▇███▇▇</td></tr><tr><td>test_acc</td><td>▁</td></tr><tr><td>train_acc</td><td>▁▁▂▃▃▄▄▅▆▆▇▇▇▇██████</td></tr><tr><td>train_loss</td><td>█▇▇▆▆▅▅▄▄▃▃▂▂▂▁▁▁▁▁▁</td></tr><tr><td>val_acc</td><td>▁▂▄▃▅▆▅▆▆▇████▇▇███▇</td></tr><tr><td>val_loss</td><td>█▇▆▅▄▄▃▃▂▂▂▁▁▁▁▁▁▁▁▁</td></tr></table><br/></div><div class=\"wandb-col\"><h3>Run summary:</h3><br/><table class=\"wandb\"><tr><td>epoch</td><td>20</td></tr><tr><td>f1</td><td>0.32191</td></tr><tr><td>precision</td><td>0.33442</td></tr><tr><td>recall</td><td>0.38652</td></tr><tr><td>test_acc</td><td>0.34</td></tr><tr><td>train_acc</td><td>0.8875</td></tr><tr><td>train_loss</td><td>1.24442</td></tr><tr><td>val_acc</td><td>0.35</td></tr><tr><td>val_loss</td><td>2.50325</td></tr></table><br/></div></div>"
      ],
      "text/plain": [
       "<IPython.core.display.HTML object>"
      ]
     },
     "metadata": {},
     "output_type": "display_data"
    },
    {
     "data": {
      "text/html": [
       " View run <strong style=\"color:#cdcd00\">base_run4</strong> at: <a href='https://wandb.ai/javialroro-tecnologico-de-costa-rica/Proyecto1_IA_Dropout/runs/csl1x4l7' target=\"_blank\">https://wandb.ai/javialroro-tecnologico-de-costa-rica/Proyecto1_IA_Dropout/runs/csl1x4l7</a><br> View project at: <a href='https://wandb.ai/javialroro-tecnologico-de-costa-rica/Proyecto1_IA_Dropout' target=\"_blank\">https://wandb.ai/javialroro-tecnologico-de-costa-rica/Proyecto1_IA_Dropout</a><br>Synced 5 W&B file(s), 0 media file(s), 0 artifact file(s) and 0 other file(s)"
      ],
      "text/plain": [
       "<IPython.core.display.HTML object>"
      ]
     },
     "metadata": {},
     "output_type": "display_data"
    },
    {
     "data": {
      "text/html": [
       "Find logs at: <code>./wandb/run-20251031_095935-csl1x4l7/logs</code>"
      ],
      "text/plain": [
       "<IPython.core.display.HTML object>"
      ]
     },
     "metadata": {},
     "output_type": "display_data"
    },
    {
     "name": "stdout",
     "output_type": "stream",
     "text": [
      "\n",
      "Ejecutando experimento 5/5 ...\n"
     ]
    },
    {
     "data": {
      "text/html": [],
      "text/plain": [
       "<IPython.core.display.HTML object>"
      ]
     },
     "metadata": {},
     "output_type": "display_data"
    },
    {
     "data": {
      "text/html": [
       "Tracking run with wandb version 0.22.2"
      ],
      "text/plain": [
       "<IPython.core.display.HTML object>"
      ]
     },
     "metadata": {},
     "output_type": "display_data"
    },
    {
     "data": {
      "text/html": [
       "Run data is saved locally in <code>/home/javialroro/TEC/2025 II/IA/CNNVoiceRecognition/wandb/run-20251031_100039-9f1om4gn</code>"
      ],
      "text/plain": [
       "<IPython.core.display.HTML object>"
      ]
     },
     "metadata": {},
     "output_type": "display_data"
    },
    {
     "data": {
      "text/html": [
       "Syncing run <strong><a href='https://wandb.ai/javialroro-tecnologico-de-costa-rica/Proyecto1_IA_Dropout/runs/9f1om4gn' target=\"_blank\">base_run5</a></strong> to <a href='https://wandb.ai/javialroro-tecnologico-de-costa-rica/Proyecto1_IA_Dropout' target=\"_blank\">Weights & Biases</a> (<a href='https://wandb.me/developer-guide' target=\"_blank\">docs</a>)<br>"
      ],
      "text/plain": [
       "<IPython.core.display.HTML object>"
      ]
     },
     "metadata": {},
     "output_type": "display_data"
    },
    {
     "data": {
      "text/html": [
       " View project at <a href='https://wandb.ai/javialroro-tecnologico-de-costa-rica/Proyecto1_IA_Dropout' target=\"_blank\">https://wandb.ai/javialroro-tecnologico-de-costa-rica/Proyecto1_IA_Dropout</a>"
      ],
      "text/plain": [
       "<IPython.core.display.HTML object>"
      ]
     },
     "metadata": {},
     "output_type": "display_data"
    },
    {
     "data": {
      "text/html": [
       " View run at <a href='https://wandb.ai/javialroro-tecnologico-de-costa-rica/Proyecto1_IA_Dropout/runs/9f1om4gn' target=\"_blank\">https://wandb.ai/javialroro-tecnologico-de-costa-rica/Proyecto1_IA_Dropout/runs/9f1om4gn</a>"
      ],
      "text/plain": [
       "<IPython.core.display.HTML object>"
      ]
     },
     "metadata": {},
     "output_type": "display_data"
    },
    {
     "name": "stdout",
     "output_type": "stream",
     "text": [
      "[01/25] Training Loss=3.8493 Training Acc=0.0306 | Validation Loss=3.7803 Validation Acc=0.0500 | F1=0.0071 Precision=0.0040 Recall=0.0427\n",
      "[02/25] Training Loss=3.7049 Training Acc=0.0825 | Validation Loss=3.7080 Validation Acc=0.0800 | F1=0.0333 Precision=0.0241 Recall=0.0913\n",
      "[03/25] Training Loss=3.6305 Training Acc=0.1075 | Validation Loss=3.6369 Validation Acc=0.1100 | F1=0.0530 Precision=0.0551 Recall=0.1261\n",
      "[04/25] Training Loss=3.5584 Training Acc=0.1525 | Validation Loss=3.5918 Validation Acc=0.1100 | F1=0.0731 Precision=0.0975 Recall=0.1342\n",
      "[05/25] Training Loss=3.4990 Training Acc=0.1594 | Validation Loss=3.5397 Validation Acc=0.1650 | F1=0.1155 Precision=0.1399 Recall=0.1838\n",
      "[06/25] Training Loss=3.4478 Training Acc=0.1737 | Validation Loss=3.5067 Validation Acc=0.1550 | F1=0.1106 Precision=0.1163 Recall=0.1811\n",
      "[07/25] Training Loss=3.4075 Training Acc=0.1956 | Validation Loss=3.4584 Validation Acc=0.1850 | F1=0.1276 Precision=0.1344 Recall=0.2030\n",
      "[08/25] Training Loss=3.3580 Training Acc=0.2025 | Validation Loss=3.4447 Validation Acc=0.2000 | F1=0.1414 Precision=0.1665 Recall=0.2246\n",
      "[09/25] Training Loss=3.3154 Training Acc=0.2306 | Validation Loss=3.4147 Validation Acc=0.1700 | F1=0.1119 Precision=0.1215 Recall=0.1771\n",
      "[10/25] Training Loss=3.2813 Training Acc=0.2306 | Validation Loss=3.3939 Validation Acc=0.1900 | F1=0.1258 Precision=0.1192 Recall=0.2108\n",
      "[11/25] Training Loss=3.2442 Training Acc=0.2444 | Validation Loss=3.3675 Validation Acc=0.2000 | F1=0.1476 Precision=0.1709 Recall=0.2223\n",
      "[12/25] Training Loss=3.2269 Training Acc=0.2612 | Validation Loss=3.3457 Validation Acc=0.1900 | F1=0.1330 Precision=0.1479 Recall=0.2130\n",
      "[13/25] Training Loss=3.1909 Training Acc=0.2650 | Validation Loss=3.3308 Validation Acc=0.1950 | F1=0.1407 Precision=0.1565 Recall=0.2376\n",
      "[14/25] Training Loss=3.1668 Training Acc=0.2787 | Validation Loss=3.3163 Validation Acc=0.2100 | F1=0.1591 Precision=0.1713 Recall=0.2491\n",
      "[15/25] Training Loss=3.1510 Training Acc=0.2919 | Validation Loss=3.3037 Validation Acc=0.2200 | F1=0.1619 Precision=0.1684 Recall=0.2560\n",
      "[16/25] Training Loss=3.1286 Training Acc=0.3162 | Validation Loss=3.3046 Validation Acc=0.2000 | F1=0.1498 Precision=0.1666 Recall=0.2401\n",
      "[17/25] Training Loss=3.1072 Training Acc=0.3050 | Validation Loss=3.2876 Validation Acc=0.2050 | F1=0.1541 Precision=0.1581 Recall=0.2461\n",
      "[18/25] Training Loss=3.1041 Training Acc=0.3025 | Validation Loss=3.2814 Validation Acc=0.2100 | F1=0.1558 Precision=0.1663 Recall=0.2480\n",
      "[19/25] Training Loss=3.0802 Training Acc=0.3206 | Validation Loss=3.2719 Validation Acc=0.2200 | F1=0.1604 Precision=0.1643 Recall=0.2559\n",
      "[20/25] Training Loss=3.0762 Training Acc=0.3269 | Validation Loss=3.2700 Validation Acc=0.2200 | F1=0.1659 Precision=0.1855 Recall=0.2559\n",
      "[21/25] Training Loss=3.0633 Training Acc=0.3362 | Validation Loss=3.2667 Validation Acc=0.2100 | F1=0.1558 Precision=0.1616 Recall=0.2469\n",
      "[22/25] Training Loss=3.0613 Training Acc=0.3394 | Validation Loss=3.2631 Validation Acc=0.2150 | F1=0.1628 Precision=0.1742 Recall=0.2519\n",
      "[23/25] Training Loss=3.0658 Training Acc=0.3331 | Validation Loss=3.2633 Validation Acc=0.2150 | F1=0.1602 Precision=0.1606 Recall=0.2509\n",
      "[24/25] Training Loss=3.0564 Training Acc=0.3425 | Validation Loss=3.2636 Validation Acc=0.2150 | F1=0.1603 Precision=0.1617 Recall=0.2509\n",
      "[25/25] Training Loss=3.0592 Training Acc=0.3331 | Validation Loss=3.2633 Validation Acc=0.2150 | F1=0.1603 Precision=0.1617 Recall=0.2509\n",
      "→ Mejor val_acc=0.2200 | Test_acc=0.2500 | F1=0.1603\n"
     ]
    },
    {
     "data": {
      "text/html": [],
      "text/plain": [
       "<IPython.core.display.HTML object>"
      ]
     },
     "metadata": {},
     "output_type": "display_data"
    },
    {
     "data": {
      "text/html": [
       "<br>    <style><br>        .wandb-row {<br>            display: flex;<br>            flex-direction: row;<br>            flex-wrap: wrap;<br>            justify-content: flex-start;<br>            width: 100%;<br>        }<br>        .wandb-col {<br>            display: flex;<br>            flex-direction: column;<br>            flex-basis: 100%;<br>            flex: 1;<br>            padding: 10px;<br>        }<br>    </style><br><div class=\"wandb-row\"><div class=\"wandb-col\"><h3>Run history:</h3><br/><table class=\"wandb\"><tr><td>epoch</td><td>▁▁▂▂▂▂▃▃▃▄▄▄▅▅▅▅▆▆▆▇▇▇▇██</td></tr><tr><td>f1</td><td>▁▂▃▄▆▆▆▇▆▆▇▇▇██▇▇█████████</td></tr><tr><td>precision</td><td>▁▂▃▅▆▅▆▇▆▅▇▇▇▇▇▇▇▇▇█▇█▇▇▇▇</td></tr><tr><td>recall</td><td>▁▃▄▄▆▆▆▇▅▇▇▇▇██▇██████████</td></tr><tr><td>test_acc</td><td>▁</td></tr><tr><td>train_acc</td><td>▁▂▃▄▄▄▅▅▅▅▆▆▆▇▇▇▇▇███████</td></tr><tr><td>train_loss</td><td>█▇▆▅▅▄▄▄▃▃▃▃▂▂▂▂▁▁▁▁▁▁▁▁▁</td></tr><tr><td>val_acc</td><td>▁▂▃▃▆▅▇▇▆▇▇▇▇██▇▇████████</td></tr><tr><td>val_loss</td><td>█▇▆▅▅▄▄▃▃▃▂▂▂▂▂▂▁▁▁▁▁▁▁▁▁</td></tr></table><br/></div><div class=\"wandb-col\"><h3>Run summary:</h3><br/><table class=\"wandb\"><tr><td>epoch</td><td>25</td></tr><tr><td>f1</td><td>0.16033</td></tr><tr><td>precision</td><td>0.16169</td></tr><tr><td>recall</td><td>0.25086</td></tr><tr><td>test_acc</td><td>0.25</td></tr><tr><td>train_acc</td><td>0.33313</td></tr><tr><td>train_loss</td><td>3.05918</td></tr><tr><td>val_acc</td><td>0.215</td></tr><tr><td>val_loss</td><td>3.26335</td></tr></table><br/></div></div>"
      ],
      "text/plain": [
       "<IPython.core.display.HTML object>"
      ]
     },
     "metadata": {},
     "output_type": "display_data"
    },
    {
     "data": {
      "text/html": [
       " View run <strong style=\"color:#cdcd00\">base_run5</strong> at: <a href='https://wandb.ai/javialroro-tecnologico-de-costa-rica/Proyecto1_IA_Dropout/runs/9f1om4gn' target=\"_blank\">https://wandb.ai/javialroro-tecnologico-de-costa-rica/Proyecto1_IA_Dropout/runs/9f1om4gn</a><br> View project at: <a href='https://wandb.ai/javialroro-tecnologico-de-costa-rica/Proyecto1_IA_Dropout' target=\"_blank\">https://wandb.ai/javialroro-tecnologico-de-costa-rica/Proyecto1_IA_Dropout</a><br>Synced 5 W&B file(s), 0 media file(s), 0 artifact file(s) and 0 other file(s)"
      ],
      "text/plain": [
       "<IPython.core.display.HTML object>"
      ]
     },
     "metadata": {},
     "output_type": "display_data"
    },
    {
     "data": {
      "text/html": [
       "Find logs at: <code>./wandb/run-20251031_100039-9f1om4gn/logs</code>"
      ],
      "text/plain": [
       "<IPython.core.display.HTML object>"
      ]
     },
     "metadata": {},
     "output_type": "display_data"
    },
    {
     "name": "stdout",
     "output_type": "stream",
     "text": [
      "\n",
      "=== Dataset: augmented ===\n",
      "\n",
      "Ejecutando experimento 1/5 ...\n"
     ]
    },
    {
     "data": {
      "text/html": [],
      "text/plain": [
       "<IPython.core.display.HTML object>"
      ]
     },
     "metadata": {},
     "output_type": "display_data"
    },
    {
     "data": {
      "text/html": [
       "Tracking run with wandb version 0.22.2"
      ],
      "text/plain": [
       "<IPython.core.display.HTML object>"
      ]
     },
     "metadata": {},
     "output_type": "display_data"
    },
    {
     "data": {
      "text/html": [
       "Run data is saved locally in <code>/home/javialroro/TEC/2025 II/IA/CNNVoiceRecognition/wandb/run-20251031_100159-hh10wpwx</code>"
      ],
      "text/plain": [
       "<IPython.core.display.HTML object>"
      ]
     },
     "metadata": {},
     "output_type": "display_data"
    },
    {
     "data": {
      "text/html": [
       "Syncing run <strong><a href='https://wandb.ai/javialroro-tecnologico-de-costa-rica/Proyecto1_IA_Dropout/runs/hh10wpwx' target=\"_blank\">augmented_run1</a></strong> to <a href='https://wandb.ai/javialroro-tecnologico-de-costa-rica/Proyecto1_IA_Dropout' target=\"_blank\">Weights & Biases</a> (<a href='https://wandb.me/developer-guide' target=\"_blank\">docs</a>)<br>"
      ],
      "text/plain": [
       "<IPython.core.display.HTML object>"
      ]
     },
     "metadata": {},
     "output_type": "display_data"
    },
    {
     "data": {
      "text/html": [
       " View project at <a href='https://wandb.ai/javialroro-tecnologico-de-costa-rica/Proyecto1_IA_Dropout' target=\"_blank\">https://wandb.ai/javialroro-tecnologico-de-costa-rica/Proyecto1_IA_Dropout</a>"
      ],
      "text/plain": [
       "<IPython.core.display.HTML object>"
      ]
     },
     "metadata": {},
     "output_type": "display_data"
    },
    {
     "data": {
      "text/html": [
       " View run at <a href='https://wandb.ai/javialroro-tecnologico-de-costa-rica/Proyecto1_IA_Dropout/runs/hh10wpwx' target=\"_blank\">https://wandb.ai/javialroro-tecnologico-de-costa-rica/Proyecto1_IA_Dropout/runs/hh10wpwx</a>"
      ],
      "text/plain": [
       "<IPython.core.display.HTML object>"
      ]
     },
     "metadata": {},
     "output_type": "display_data"
    },
    {
     "name": "stdout",
     "output_type": "stream",
     "text": [
      "[01/15] Training Loss=3.7939 Training Acc=0.0471 | Validation Loss=3.4572 Validation Acc=0.1383 | F1=0.0786 Precision=0.0962 Recall=0.1297\n",
      "[02/15] Training Loss=3.2381 Training Acc=0.1479 | Validation Loss=3.0172 Validation Acc=0.1850 | F1=0.1356 Precision=0.1766 Recall=0.1815\n",
      "[03/15] Training Loss=2.8698 Training Acc=0.2252 | Validation Loss=2.6888 Validation Acc=0.2717 | F1=0.2300 Precision=0.3112 Recall=0.2744\n",
      "[04/15] Training Loss=2.4247 Training Acc=0.3540 | Validation Loss=2.1226 Validation Acc=0.4433 | F1=0.3930 Precision=0.4390 Recall=0.4432\n",
      "[05/15] Training Loss=1.8134 Training Acc=0.5787 | Validation Loss=1.6620 Validation Acc=0.5967 | F1=0.5731 Precision=0.5898 Recall=0.6045\n",
      "[06/15] Training Loss=1.2308 Training Acc=0.7610 | Validation Loss=1.2851 Validation Acc=0.6983 | F1=0.6881 Precision=0.7023 Recall=0.7015\n",
      "[07/15] Training Loss=0.7692 Training Acc=0.9015 | Validation Loss=0.9692 Validation Acc=0.7900 | F1=0.7789 Precision=0.7971 Recall=0.7891\n",
      "[08/15] Training Loss=0.4757 Training Acc=0.9613 | Validation Loss=0.8097 Validation Acc=0.8300 | F1=0.8210 Precision=0.8426 Recall=0.8266\n",
      "[09/15] Training Loss=0.3153 Training Acc=0.9858 | Validation Loss=0.6949 Validation Acc=0.8433 | F1=0.8352 Precision=0.8420 Recall=0.8415\n",
      "[10/15] Training Loss=0.2232 Training Acc=0.9952 | Validation Loss=0.6374 Validation Acc=0.8517 | F1=0.8439 Precision=0.8500 Recall=0.8495\n",
      "[11/15] Training Loss=0.1766 Training Acc=0.9979 | Validation Loss=0.6070 Validation Acc=0.8667 | F1=0.8582 Precision=0.8625 Recall=0.8658\n",
      "[12/15] Training Loss=0.1490 Training Acc=0.9983 | Validation Loss=0.5911 Validation Acc=0.8600 | F1=0.8516 Precision=0.8584 Recall=0.8581\n",
      "[13/15] Training Loss=0.1360 Training Acc=0.9983 | Validation Loss=0.5826 Validation Acc=0.8633 | F1=0.8549 Precision=0.8644 Recall=0.8606\n",
      "[14/15] Training Loss=0.1274 Training Acc=0.9994 | Validation Loss=0.5763 Validation Acc=0.8633 | F1=0.8543 Precision=0.8618 Recall=0.8604\n",
      "[15/15] Training Loss=0.1256 Training Acc=0.9990 | Validation Loss=0.5760 Validation Acc=0.8633 | F1=0.8547 Precision=0.8636 Recall=0.8604\n",
      "→ Mejor val_acc=0.8667 | Test_acc=0.8483 | F1=0.8547\n"
     ]
    },
    {
     "data": {
      "text/html": [],
      "text/plain": [
       "<IPython.core.display.HTML object>"
      ]
     },
     "metadata": {},
     "output_type": "display_data"
    },
    {
     "data": {
      "text/html": [
       "<br>    <style><br>        .wandb-row {<br>            display: flex;<br>            flex-direction: row;<br>            flex-wrap: wrap;<br>            justify-content: flex-start;<br>            width: 100%;<br>        }<br>        .wandb-col {<br>            display: flex;<br>            flex-direction: column;<br>            flex-basis: 100%;<br>            flex: 1;<br>            padding: 10px;<br>        }<br>    </style><br><div class=\"wandb-row\"><div class=\"wandb-col\"><h3>Run history:</h3><br/><table class=\"wandb\"><tr><td>epoch</td><td>▁▁▂▃▃▃▄▅▅▅▆▇▇▇█</td></tr><tr><td>f1</td><td>▁▂▂▄▅▆▇█████████</td></tr><tr><td>precision</td><td>▁▂▃▄▅▇▇█████████</td></tr><tr><td>recall</td><td>▁▁▂▄▆▆▇█████████</td></tr><tr><td>test_acc</td><td>▁</td></tr><tr><td>train_acc</td><td>▁▂▂▃▅▆▇████████</td></tr><tr><td>train_loss</td><td>█▇▆▅▄▃▂▂▁▁▁▁▁▁▁</td></tr><tr><td>val_acc</td><td>▁▁▂▄▅▆▇████████</td></tr><tr><td>val_loss</td><td>█▇▆▅▄▃▂▂▁▁▁▁▁▁▁</td></tr></table><br/></div><div class=\"wandb-col\"><h3>Run summary:</h3><br/><table class=\"wandb\"><tr><td>epoch</td><td>15</td></tr><tr><td>f1</td><td>0.85466</td></tr><tr><td>precision</td><td>0.86356</td></tr><tr><td>recall</td><td>0.86035</td></tr><tr><td>test_acc</td><td>0.84833</td></tr><tr><td>train_acc</td><td>0.99896</td></tr><tr><td>train_loss</td><td>0.12556</td></tr><tr><td>val_acc</td><td>0.86333</td></tr><tr><td>val_loss</td><td>0.57598</td></tr></table><br/></div></div>"
      ],
      "text/plain": [
       "<IPython.core.display.HTML object>"
      ]
     },
     "metadata": {},
     "output_type": "display_data"
    },
    {
     "data": {
      "text/html": [
       " View run <strong style=\"color:#cdcd00\">augmented_run1</strong> at: <a href='https://wandb.ai/javialroro-tecnologico-de-costa-rica/Proyecto1_IA_Dropout/runs/hh10wpwx' target=\"_blank\">https://wandb.ai/javialroro-tecnologico-de-costa-rica/Proyecto1_IA_Dropout/runs/hh10wpwx</a><br> View project at: <a href='https://wandb.ai/javialroro-tecnologico-de-costa-rica/Proyecto1_IA_Dropout' target=\"_blank\">https://wandb.ai/javialroro-tecnologico-de-costa-rica/Proyecto1_IA_Dropout</a><br>Synced 5 W&B file(s), 0 media file(s), 0 artifact file(s) and 0 other file(s)"
      ],
      "text/plain": [
       "<IPython.core.display.HTML object>"
      ]
     },
     "metadata": {},
     "output_type": "display_data"
    },
    {
     "data": {
      "text/html": [
       "Find logs at: <code>./wandb/run-20251031_100159-hh10wpwx/logs</code>"
      ],
      "text/plain": [
       "<IPython.core.display.HTML object>"
      ]
     },
     "metadata": {},
     "output_type": "display_data"
    },
    {
     "name": "stdout",
     "output_type": "stream",
     "text": [
      "\n",
      "Ejecutando experimento 2/5 ...\n"
     ]
    },
    {
     "data": {
      "text/html": [],
      "text/plain": [
       "<IPython.core.display.HTML object>"
      ]
     },
     "metadata": {},
     "output_type": "display_data"
    },
    {
     "data": {
      "text/html": [
       "Tracking run with wandb version 0.22.2"
      ],
      "text/plain": [
       "<IPython.core.display.HTML object>"
      ]
     },
     "metadata": {},
     "output_type": "display_data"
    },
    {
     "data": {
      "text/html": [
       "Run data is saved locally in <code>/home/javialroro/TEC/2025 II/IA/CNNVoiceRecognition/wandb/run-20251031_100433-vq3recej</code>"
      ],
      "text/plain": [
       "<IPython.core.display.HTML object>"
      ]
     },
     "metadata": {},
     "output_type": "display_data"
    },
    {
     "data": {
      "text/html": [
       "Syncing run <strong><a href='https://wandb.ai/javialroro-tecnologico-de-costa-rica/Proyecto1_IA_Dropout/runs/vq3recej' target=\"_blank\">augmented_run2</a></strong> to <a href='https://wandb.ai/javialroro-tecnologico-de-costa-rica/Proyecto1_IA_Dropout' target=\"_blank\">Weights & Biases</a> (<a href='https://wandb.me/developer-guide' target=\"_blank\">docs</a>)<br>"
      ],
      "text/plain": [
       "<IPython.core.display.HTML object>"
      ]
     },
     "metadata": {},
     "output_type": "display_data"
    },
    {
     "data": {
      "text/html": [
       " View project at <a href='https://wandb.ai/javialroro-tecnologico-de-costa-rica/Proyecto1_IA_Dropout' target=\"_blank\">https://wandb.ai/javialroro-tecnologico-de-costa-rica/Proyecto1_IA_Dropout</a>"
      ],
      "text/plain": [
       "<IPython.core.display.HTML object>"
      ]
     },
     "metadata": {},
     "output_type": "display_data"
    },
    {
     "data": {
      "text/html": [
       " View run at <a href='https://wandb.ai/javialroro-tecnologico-de-costa-rica/Proyecto1_IA_Dropout/runs/vq3recej' target=\"_blank\">https://wandb.ai/javialroro-tecnologico-de-costa-rica/Proyecto1_IA_Dropout/runs/vq3recej</a>"
      ],
      "text/plain": [
       "<IPython.core.display.HTML object>"
      ]
     },
     "metadata": {},
     "output_type": "display_data"
    },
    {
     "name": "stdout",
     "output_type": "stream",
     "text": [
      "[01/15] Training Loss=3.6148 Training Acc=0.1058 | Validation Loss=3.2893 Validation Acc=0.1617 | F1=0.1153 Precision=0.1585 Recall=0.1721\n",
      "[02/15] Training Loss=3.1487 Training Acc=0.2177 | Validation Loss=2.9339 Validation Acc=0.2850 | F1=0.2142 Precision=0.1970 Recall=0.2818\n",
      "[03/15] Training Loss=2.8313 Training Acc=0.3177 | Validation Loss=2.6754 Validation Acc=0.3633 | F1=0.3137 Precision=0.3183 Recall=0.3623\n",
      "[04/15] Training Loss=2.5544 Training Acc=0.4029 | Validation Loss=2.4349 Validation Acc=0.4133 | F1=0.3649 Precision=0.3876 Recall=0.4122\n",
      "[05/15] Training Loss=2.2624 Training Acc=0.4979 | Validation Loss=2.2030 Validation Acc=0.4733 | F1=0.4331 Precision=0.4615 Recall=0.4702\n",
      "[06/15] Training Loss=1.9466 Training Acc=0.6246 | Validation Loss=1.9245 Validation Acc=0.5800 | F1=0.5476 Precision=0.5885 Recall=0.5859\n",
      "[07/15] Training Loss=1.6515 Training Acc=0.7140 | Validation Loss=1.7268 Validation Acc=0.6383 | F1=0.6143 Precision=0.6525 Recall=0.6382\n",
      "[08/15] Training Loss=1.3867 Training Acc=0.7902 | Validation Loss=1.5281 Validation Acc=0.6917 | F1=0.6679 Precision=0.6880 Recall=0.6908\n",
      "[09/15] Training Loss=1.1728 Training Acc=0.8502 | Validation Loss=1.3643 Validation Acc=0.7483 | F1=0.7274 Precision=0.7480 Recall=0.7419\n",
      "[10/15] Training Loss=1.0153 Training Acc=0.8838 | Validation Loss=1.2556 Validation Acc=0.7600 | F1=0.7442 Precision=0.7606 Recall=0.7542\n",
      "[11/15] Training Loss=0.9008 Training Acc=0.9123 | Validation Loss=1.1872 Validation Acc=0.7917 | F1=0.7739 Precision=0.7827 Recall=0.7855\n",
      "[12/15] Training Loss=0.8215 Training Acc=0.9233 | Validation Loss=1.1367 Validation Acc=0.8050 | F1=0.7917 Precision=0.8010 Recall=0.7996\n",
      "[13/15] Training Loss=0.7710 Training Acc=0.9348 | Validation Loss=1.1122 Validation Acc=0.8133 | F1=0.8014 Precision=0.8085 Recall=0.8091\n",
      "[14/15] Training Loss=0.7458 Training Acc=0.9427 | Validation Loss=1.0984 Validation Acc=0.8117 | F1=0.7998 Precision=0.8082 Recall=0.8063\n",
      "[15/15] Training Loss=0.7361 Training Acc=0.9433 | Validation Loss=1.0951 Validation Acc=0.8150 | F1=0.8026 Precision=0.8104 Recall=0.8094\n",
      "→ Mejor val_acc=0.8150 | Test_acc=0.8100 | F1=0.8026\n"
     ]
    },
    {
     "data": {
      "text/html": [],
      "text/plain": [
       "<IPython.core.display.HTML object>"
      ]
     },
     "metadata": {},
     "output_type": "display_data"
    },
    {
     "data": {
      "text/html": [
       "<br>    <style><br>        .wandb-row {<br>            display: flex;<br>            flex-direction: row;<br>            flex-wrap: wrap;<br>            justify-content: flex-start;<br>            width: 100%;<br>        }<br>        .wandb-col {<br>            display: flex;<br>            flex-direction: column;<br>            flex-basis: 100%;<br>            flex: 1;<br>            padding: 10px;<br>        }<br>    </style><br><div class=\"wandb-row\"><div class=\"wandb-col\"><h3>Run history:</h3><br/><table class=\"wandb\"><tr><td>epoch</td><td>▁▁▂▃▃▃▄▅▅▅▆▇▇▇█</td></tr><tr><td>f1</td><td>▁▂▃▄▄▅▆▇▇▇██████</td></tr><tr><td>precision</td><td>▁▁▃▃▄▆▆▇▇▇██████</td></tr><tr><td>recall</td><td>▁▂▃▄▄▆▆▇▇▇██████</td></tr><tr><td>test_acc</td><td>▁</td></tr><tr><td>train_acc</td><td>▁▂▃▃▄▅▆▇▇██████</td></tr><tr><td>train_loss</td><td>█▇▆▅▅▄▃▃▂▂▁▁▁▁▁</td></tr><tr><td>val_acc</td><td>▁▂▃▄▄▅▆▇▇▇█████</td></tr><tr><td>val_loss</td><td>█▇▆▅▅▄▃▂▂▂▁▁▁▁▁</td></tr></table><br/></div><div class=\"wandb-col\"><h3>Run summary:</h3><br/><table class=\"wandb\"><tr><td>epoch</td><td>15</td></tr><tr><td>f1</td><td>0.80258</td></tr><tr><td>precision</td><td>0.81039</td></tr><tr><td>recall</td><td>0.80942</td></tr><tr><td>test_acc</td><td>0.81</td></tr><tr><td>train_acc</td><td>0.94333</td></tr><tr><td>train_loss</td><td>0.73613</td></tr><tr><td>val_acc</td><td>0.815</td></tr><tr><td>val_loss</td><td>1.09508</td></tr></table><br/></div></div>"
      ],
      "text/plain": [
       "<IPython.core.display.HTML object>"
      ]
     },
     "metadata": {},
     "output_type": "display_data"
    },
    {
     "data": {
      "text/html": [
       " View run <strong style=\"color:#cdcd00\">augmented_run2</strong> at: <a href='https://wandb.ai/javialroro-tecnologico-de-costa-rica/Proyecto1_IA_Dropout/runs/vq3recej' target=\"_blank\">https://wandb.ai/javialroro-tecnologico-de-costa-rica/Proyecto1_IA_Dropout/runs/vq3recej</a><br> View project at: <a href='https://wandb.ai/javialroro-tecnologico-de-costa-rica/Proyecto1_IA_Dropout' target=\"_blank\">https://wandb.ai/javialroro-tecnologico-de-costa-rica/Proyecto1_IA_Dropout</a><br>Synced 5 W&B file(s), 0 media file(s), 0 artifact file(s) and 0 other file(s)"
      ],
      "text/plain": [
       "<IPython.core.display.HTML object>"
      ]
     },
     "metadata": {},
     "output_type": "display_data"
    },
    {
     "data": {
      "text/html": [
       "Find logs at: <code>./wandb/run-20251031_100433-vq3recej/logs</code>"
      ],
      "text/plain": [
       "<IPython.core.display.HTML object>"
      ]
     },
     "metadata": {},
     "output_type": "display_data"
    },
    {
     "name": "stdout",
     "output_type": "stream",
     "text": [
      "\n",
      "Ejecutando experimento 3/5 ...\n"
     ]
    },
    {
     "data": {
      "text/html": [],
      "text/plain": [
       "<IPython.core.display.HTML object>"
      ]
     },
     "metadata": {},
     "output_type": "display_data"
    },
    {
     "data": {
      "text/html": [
       "Tracking run with wandb version 0.22.2"
      ],
      "text/plain": [
       "<IPython.core.display.HTML object>"
      ]
     },
     "metadata": {},
     "output_type": "display_data"
    },
    {
     "data": {
      "text/html": [
       "Run data is saved locally in <code>/home/javialroro/TEC/2025 II/IA/CNNVoiceRecognition/wandb/run-20251031_100701-3rbbo22w</code>"
      ],
      "text/plain": [
       "<IPython.core.display.HTML object>"
      ]
     },
     "metadata": {},
     "output_type": "display_data"
    },
    {
     "data": {
      "text/html": [
       "Syncing run <strong><a href='https://wandb.ai/javialroro-tecnologico-de-costa-rica/Proyecto1_IA_Dropout/runs/3rbbo22w' target=\"_blank\">augmented_run3</a></strong> to <a href='https://wandb.ai/javialroro-tecnologico-de-costa-rica/Proyecto1_IA_Dropout' target=\"_blank\">Weights & Biases</a> (<a href='https://wandb.me/developer-guide' target=\"_blank\">docs</a>)<br>"
      ],
      "text/plain": [
       "<IPython.core.display.HTML object>"
      ]
     },
     "metadata": {},
     "output_type": "display_data"
    },
    {
     "data": {
      "text/html": [
       " View project at <a href='https://wandb.ai/javialroro-tecnologico-de-costa-rica/Proyecto1_IA_Dropout' target=\"_blank\">https://wandb.ai/javialroro-tecnologico-de-costa-rica/Proyecto1_IA_Dropout</a>"
      ],
      "text/plain": [
       "<IPython.core.display.HTML object>"
      ]
     },
     "metadata": {},
     "output_type": "display_data"
    },
    {
     "data": {
      "text/html": [
       " View run at <a href='https://wandb.ai/javialroro-tecnologico-de-costa-rica/Proyecto1_IA_Dropout/runs/3rbbo22w' target=\"_blank\">https://wandb.ai/javialroro-tecnologico-de-costa-rica/Proyecto1_IA_Dropout/runs/3rbbo22w</a>"
      ],
      "text/plain": [
       "<IPython.core.display.HTML object>"
      ]
     },
     "metadata": {},
     "output_type": "display_data"
    },
    {
     "name": "stdout",
     "output_type": "stream",
     "text": [
      "[01/20] Training Loss=3.6446 Training Acc=0.0727 | Validation Loss=3.3620 Validation Acc=0.1367 | F1=0.0789 Precision=0.0865 Recall=0.1308\n",
      "[02/20] Training Loss=3.2801 Training Acc=0.1375 | Validation Loss=3.1064 Validation Acc=0.1867 | F1=0.1247 Precision=0.1317 Recall=0.1769\n",
      "[03/20] Training Loss=3.0272 Training Acc=0.1842 | Validation Loss=2.9836 Validation Acc=0.1867 | F1=0.1344 Precision=0.1167 Recall=0.1869\n",
      "[04/20] Training Loss=2.9240 Training Acc=0.2098 | Validation Loss=2.8536 Validation Acc=0.2467 | F1=0.1943 Precision=0.1799 Recall=0.2437\n",
      "[05/20] Training Loss=2.8059 Training Acc=0.2319 | Validation Loss=2.7561 Validation Acc=0.2517 | F1=0.2067 Precision=0.1994 Recall=0.2563\n",
      "[06/20] Training Loss=2.6875 Training Acc=0.2652 | Validation Loss=2.6903 Validation Acc=0.2467 | F1=0.2100 Precision=0.2086 Recall=0.2446\n",
      "[07/20] Training Loss=2.5639 Training Acc=0.2923 | Validation Loss=2.6040 Validation Acc=0.2667 | F1=0.2212 Precision=0.2370 Recall=0.2653\n",
      "[08/20] Training Loss=2.4104 Training Acc=0.3390 | Validation Loss=2.4204 Validation Acc=0.3017 | F1=0.2643 Precision=0.2780 Recall=0.3028\n",
      "[09/20] Training Loss=2.2082 Training Acc=0.4073 | Validation Loss=2.1765 Validation Acc=0.3983 | F1=0.3679 Precision=0.3810 Recall=0.4088\n",
      "[10/20] Training Loss=1.9448 Training Acc=0.5060 | Validation Loss=1.9940 Validation Acc=0.4783 | F1=0.4464 Precision=0.4574 Recall=0.4854\n",
      "[11/20] Training Loss=1.6921 Training Acc=0.6027 | Validation Loss=1.7749 Validation Acc=0.5367 | F1=0.4994 Precision=0.5241 Recall=0.5381\n",
      "[12/20] Training Loss=1.4443 Training Acc=0.6931 | Validation Loss=1.5831 Validation Acc=0.5933 | F1=0.5683 Precision=0.5931 Recall=0.5989\n",
      "[13/20] Training Loss=1.2421 Training Acc=0.7658 | Validation Loss=1.4521 Validation Acc=0.6400 | F1=0.6213 Precision=0.6493 Recall=0.6439\n",
      "[14/20] Training Loss=1.0792 Training Acc=0.8254 | Validation Loss=1.3359 Validation Acc=0.6750 | F1=0.6552 Precision=0.6698 Recall=0.6754\n",
      "[15/20] Training Loss=0.9510 Training Acc=0.8644 | Validation Loss=1.2538 Validation Acc=0.7017 | F1=0.6848 Precision=0.7033 Recall=0.7017\n",
      "[16/20] Training Loss=0.8594 Training Acc=0.8900 | Validation Loss=1.1971 Validation Acc=0.7200 | F1=0.7057 Precision=0.7198 Recall=0.7211\n",
      "[17/20] Training Loss=0.8025 Training Acc=0.9046 | Validation Loss=1.1606 Validation Acc=0.7283 | F1=0.7155 Precision=0.7276 Recall=0.7299\n",
      "[18/20] Training Loss=0.7676 Training Acc=0.9156 | Validation Loss=1.1378 Validation Acc=0.7317 | F1=0.7187 Precision=0.7302 Recall=0.7327\n",
      "[19/20] Training Loss=0.7408 Training Acc=0.9213 | Validation Loss=1.1306 Validation Acc=0.7417 | F1=0.7292 Precision=0.7396 Recall=0.7431\n",
      "[20/20] Training Loss=0.7343 Training Acc=0.9233 | Validation Loss=1.1275 Validation Acc=0.7400 | F1=0.7271 Precision=0.7385 Recall=0.7408\n",
      "→ Mejor val_acc=0.7417 | Test_acc=0.7567 | F1=0.7271\n"
     ]
    },
    {
     "data": {
      "text/html": [],
      "text/plain": [
       "<IPython.core.display.HTML object>"
      ]
     },
     "metadata": {},
     "output_type": "display_data"
    },
    {
     "data": {
      "text/html": [
       "<br>    <style><br>        .wandb-row {<br>            display: flex;<br>            flex-direction: row;<br>            flex-wrap: wrap;<br>            justify-content: flex-start;<br>            width: 100%;<br>        }<br>        .wandb-col {<br>            display: flex;<br>            flex-direction: column;<br>            flex-basis: 100%;<br>            flex: 1;<br>            padding: 10px;<br>        }<br>    </style><br><div class=\"wandb-row\"><div class=\"wandb-col\"><h3>Run history:</h3><br/><table class=\"wandb\"><tr><td>epoch</td><td>▁▁▂▂▂▃▃▄▄▄▅▅▅▆▆▇▇▇██</td></tr><tr><td>f1</td><td>▁▁▂▂▂▂▃▃▄▅▆▆▇▇███████</td></tr><tr><td>precision</td><td>▁▁▁▂▂▂▃▃▄▅▆▆▇▇███████</td></tr><tr><td>recall</td><td>▁▂▂▂▂▂▃▃▄▅▆▆▇▇███████</td></tr><tr><td>test_acc</td><td>▁</td></tr><tr><td>train_acc</td><td>▁▂▂▂▂▃▃▃▄▅▅▆▇▇██████</td></tr><tr><td>train_loss</td><td>█▇▇▆▆▆▅▅▅▄▃▃▂▂▂▁▁▁▁▁</td></tr><tr><td>val_acc</td><td>▁▂▂▂▂▂▃▃▄▅▆▆▇▇██████</td></tr><tr><td>val_loss</td><td>█▇▇▆▆▆▆▅▄▄▃▂▂▂▁▁▁▁▁▁</td></tr></table><br/></div><div class=\"wandb-col\"><h3>Run summary:</h3><br/><table class=\"wandb\"><tr><td>epoch</td><td>20</td></tr><tr><td>f1</td><td>0.72707</td></tr><tr><td>precision</td><td>0.73849</td></tr><tr><td>recall</td><td>0.74076</td></tr><tr><td>test_acc</td><td>0.75667</td></tr><tr><td>train_acc</td><td>0.92333</td></tr><tr><td>train_loss</td><td>0.73425</td></tr><tr><td>val_acc</td><td>0.74</td></tr><tr><td>val_loss</td><td>1.12754</td></tr></table><br/></div></div>"
      ],
      "text/plain": [
       "<IPython.core.display.HTML object>"
      ]
     },
     "metadata": {},
     "output_type": "display_data"
    },
    {
     "data": {
      "text/html": [
       " View run <strong style=\"color:#cdcd00\">augmented_run3</strong> at: <a href='https://wandb.ai/javialroro-tecnologico-de-costa-rica/Proyecto1_IA_Dropout/runs/3rbbo22w' target=\"_blank\">https://wandb.ai/javialroro-tecnologico-de-costa-rica/Proyecto1_IA_Dropout/runs/3rbbo22w</a><br> View project at: <a href='https://wandb.ai/javialroro-tecnologico-de-costa-rica/Proyecto1_IA_Dropout' target=\"_blank\">https://wandb.ai/javialroro-tecnologico-de-costa-rica/Proyecto1_IA_Dropout</a><br>Synced 5 W&B file(s), 0 media file(s), 0 artifact file(s) and 0 other file(s)"
      ],
      "text/plain": [
       "<IPython.core.display.HTML object>"
      ]
     },
     "metadata": {},
     "output_type": "display_data"
    },
    {
     "data": {
      "text/html": [
       "Find logs at: <code>./wandb/run-20251031_100701-3rbbo22w/logs</code>"
      ],
      "text/plain": [
       "<IPython.core.display.HTML object>"
      ]
     },
     "metadata": {},
     "output_type": "display_data"
    },
    {
     "name": "stdout",
     "output_type": "stream",
     "text": [
      "\n",
      "Ejecutando experimento 4/5 ...\n"
     ]
    },
    {
     "data": {
      "text/html": [],
      "text/plain": [
       "<IPython.core.display.HTML object>"
      ]
     },
     "metadata": {},
     "output_type": "display_data"
    },
    {
     "data": {
      "text/html": [
       "Tracking run with wandb version 0.22.2"
      ],
      "text/plain": [
       "<IPython.core.display.HTML object>"
      ]
     },
     "metadata": {},
     "output_type": "display_data"
    },
    {
     "data": {
      "text/html": [
       "Run data is saved locally in <code>/home/javialroro/TEC/2025 II/IA/CNNVoiceRecognition/wandb/run-20251031_101016-fcxgjbbh</code>"
      ],
      "text/plain": [
       "<IPython.core.display.HTML object>"
      ]
     },
     "metadata": {},
     "output_type": "display_data"
    },
    {
     "data": {
      "text/html": [
       "Syncing run <strong><a href='https://wandb.ai/javialroro-tecnologico-de-costa-rica/Proyecto1_IA_Dropout/runs/fcxgjbbh' target=\"_blank\">augmented_run4</a></strong> to <a href='https://wandb.ai/javialroro-tecnologico-de-costa-rica/Proyecto1_IA_Dropout' target=\"_blank\">Weights & Biases</a> (<a href='https://wandb.me/developer-guide' target=\"_blank\">docs</a>)<br>"
      ],
      "text/plain": [
       "<IPython.core.display.HTML object>"
      ]
     },
     "metadata": {},
     "output_type": "display_data"
    },
    {
     "data": {
      "text/html": [
       " View project at <a href='https://wandb.ai/javialroro-tecnologico-de-costa-rica/Proyecto1_IA_Dropout' target=\"_blank\">https://wandb.ai/javialroro-tecnologico-de-costa-rica/Proyecto1_IA_Dropout</a>"
      ],
      "text/plain": [
       "<IPython.core.display.HTML object>"
      ]
     },
     "metadata": {},
     "output_type": "display_data"
    },
    {
     "data": {
      "text/html": [
       " View run at <a href='https://wandb.ai/javialroro-tecnologico-de-costa-rica/Proyecto1_IA_Dropout/runs/fcxgjbbh' target=\"_blank\">https://wandb.ai/javialroro-tecnologico-de-costa-rica/Proyecto1_IA_Dropout/runs/fcxgjbbh</a>"
      ],
      "text/plain": [
       "<IPython.core.display.HTML object>"
      ]
     },
     "metadata": {},
     "output_type": "display_data"
    },
    {
     "name": "stdout",
     "output_type": "stream",
     "text": [
      "[01/20] Training Loss=3.6800 Training Acc=0.0737 | Validation Loss=3.3620 Validation Acc=0.1750 | F1=0.0996 Precision=0.1142 Recall=0.1642\n",
      "[02/20] Training Loss=3.1944 Training Acc=0.1840 | Validation Loss=3.0703 Validation Acc=0.2150 | F1=0.1731 Precision=0.2600 Recall=0.2112\n",
      "[03/20] Training Loss=2.8752 Training Acc=0.2685 | Validation Loss=2.7262 Validation Acc=0.3017 | F1=0.2414 Precision=0.2734 Recall=0.2960\n",
      "[04/20] Training Loss=2.5695 Training Acc=0.3638 | Validation Loss=2.4313 Validation Acc=0.3850 | F1=0.3416 Precision=0.3879 Recall=0.3860\n",
      "[05/20] Training Loss=2.1985 Training Acc=0.4873 | Validation Loss=2.1097 Validation Acc=0.4833 | F1=0.4505 Precision=0.4776 Recall=0.4869\n",
      "[06/20] Training Loss=1.8473 Training Acc=0.6106 | Validation Loss=1.8221 Validation Acc=0.5650 | F1=0.5326 Precision=0.5548 Recall=0.5635\n",
      "[07/20] Training Loss=1.4990 Training Acc=0.7179 | Validation Loss=1.5976 Validation Acc=0.6267 | F1=0.6021 Precision=0.6279 Recall=0.6181\n",
      "[08/20] Training Loss=1.1986 Training Acc=0.8015 | Validation Loss=1.3614 Validation Acc=0.7083 | F1=0.6903 Precision=0.7175 Recall=0.6996\n",
      "[09/20] Training Loss=0.9273 Training Acc=0.8831 | Validation Loss=1.1719 Validation Acc=0.7767 | F1=0.7556 Precision=0.7822 Recall=0.7674\n",
      "[10/20] Training Loss=0.7117 Training Acc=0.9329 | Validation Loss=1.0115 Validation Acc=0.7917 | F1=0.7766 Precision=0.7977 Recall=0.7850\n",
      "[11/20] Training Loss=0.5616 Training Acc=0.9587 | Validation Loss=0.9337 Validation Acc=0.8167 | F1=0.8055 Precision=0.8218 Recall=0.8095\n",
      "[12/20] Training Loss=0.4363 Training Acc=0.9788 | Validation Loss=0.8581 Validation Acc=0.8267 | F1=0.8173 Precision=0.8357 Recall=0.8217\n",
      "[13/20] Training Loss=0.3558 Training Acc=0.9902 | Validation Loss=0.7823 Validation Acc=0.8483 | F1=0.8420 Precision=0.8533 Recall=0.8452\n",
      "[14/20] Training Loss=0.3065 Training Acc=0.9921 | Validation Loss=0.7485 Validation Acc=0.8567 | F1=0.8491 Precision=0.8573 Recall=0.8533\n",
      "[15/20] Training Loss=0.2639 Training Acc=0.9971 | Validation Loss=0.7259 Validation Acc=0.8533 | F1=0.8452 Precision=0.8545 Recall=0.8497\n",
      "[16/20] Training Loss=0.2380 Training Acc=0.9979 | Validation Loss=0.7111 Validation Acc=0.8667 | F1=0.8585 Precision=0.8670 Recall=0.8622\n",
      "[17/20] Training Loss=0.2228 Training Acc=0.9977 | Validation Loss=0.6999 Validation Acc=0.8567 | F1=0.8504 Precision=0.8615 Recall=0.8522\n",
      "[18/20] Training Loss=0.2120 Training Acc=0.9988 | Validation Loss=0.6913 Validation Acc=0.8667 | F1=0.8602 Precision=0.8703 Recall=0.8626\n",
      "[19/20] Training Loss=0.2066 Training Acc=0.9990 | Validation Loss=0.6872 Validation Acc=0.8633 | F1=0.8573 Precision=0.8673 Recall=0.8595\n",
      "[20/20] Training Loss=0.2040 Training Acc=0.9992 | Validation Loss=0.6868 Validation Acc=0.8650 | F1=0.8589 Precision=0.8693 Recall=0.8613\n",
      "→ Mejor val_acc=0.8667 | Test_acc=0.8600 | F1=0.8589\n"
     ]
    },
    {
     "data": {
      "text/html": [],
      "text/plain": [
       "<IPython.core.display.HTML object>"
      ]
     },
     "metadata": {},
     "output_type": "display_data"
    },
    {
     "data": {
      "text/html": [
       "<br>    <style><br>        .wandb-row {<br>            display: flex;<br>            flex-direction: row;<br>            flex-wrap: wrap;<br>            justify-content: flex-start;<br>            width: 100%;<br>        }<br>        .wandb-col {<br>            display: flex;<br>            flex-direction: column;<br>            flex-basis: 100%;<br>            flex: 1;<br>            padding: 10px;<br>        }<br>    </style><br><div class=\"wandb-row\"><div class=\"wandb-col\"><h3>Run history:</h3><br/><table class=\"wandb\"><tr><td>epoch</td><td>▁▁▂▂▂▃▃▄▄▄▅▅▅▆▆▇▇▇██</td></tr><tr><td>f1</td><td>▁▂▂▃▄▅▆▆▇▇▇██████████</td></tr><tr><td>precision</td><td>▁▂▂▄▄▅▆▇▇▇███████████</td></tr><tr><td>recall</td><td>▁▁▂▃▄▅▆▆▇▇▇██████████</td></tr><tr><td>test_acc</td><td>▁</td></tr><tr><td>train_acc</td><td>▁▂▂▃▄▅▆▇▇▇██████████</td></tr><tr><td>train_loss</td><td>█▇▆▆▅▄▄▃▂▂▂▁▁▁▁▁▁▁▁▁</td></tr><tr><td>val_acc</td><td>▁▁▂▃▄▅▆▆▇▇▇█████████</td></tr><tr><td>val_loss</td><td>█▇▆▆▅▄▃▃▂▂▂▁▁▁▁▁▁▁▁▁</td></tr></table><br/></div><div class=\"wandb-col\"><h3>Run summary:</h3><br/><table class=\"wandb\"><tr><td>epoch</td><td>20</td></tr><tr><td>f1</td><td>0.85887</td></tr><tr><td>precision</td><td>0.86932</td></tr><tr><td>recall</td><td>0.86129</td></tr><tr><td>test_acc</td><td>0.86</td></tr><tr><td>train_acc</td><td>0.99917</td></tr><tr><td>train_loss</td><td>0.20402</td></tr><tr><td>val_acc</td><td>0.865</td></tr><tr><td>val_loss</td><td>0.68678</td></tr></table><br/></div></div>"
      ],
      "text/plain": [
       "<IPython.core.display.HTML object>"
      ]
     },
     "metadata": {},
     "output_type": "display_data"
    },
    {
     "data": {
      "text/html": [
       " View run <strong style=\"color:#cdcd00\">augmented_run4</strong> at: <a href='https://wandb.ai/javialroro-tecnologico-de-costa-rica/Proyecto1_IA_Dropout/runs/fcxgjbbh' target=\"_blank\">https://wandb.ai/javialroro-tecnologico-de-costa-rica/Proyecto1_IA_Dropout/runs/fcxgjbbh</a><br> View project at: <a href='https://wandb.ai/javialroro-tecnologico-de-costa-rica/Proyecto1_IA_Dropout' target=\"_blank\">https://wandb.ai/javialroro-tecnologico-de-costa-rica/Proyecto1_IA_Dropout</a><br>Synced 5 W&B file(s), 0 media file(s), 0 artifact file(s) and 0 other file(s)"
      ],
      "text/plain": [
       "<IPython.core.display.HTML object>"
      ]
     },
     "metadata": {},
     "output_type": "display_data"
    },
    {
     "data": {
      "text/html": [
       "Find logs at: <code>./wandb/run-20251031_101016-fcxgjbbh/logs</code>"
      ],
      "text/plain": [
       "<IPython.core.display.HTML object>"
      ]
     },
     "metadata": {},
     "output_type": "display_data"
    },
    {
     "name": "stdout",
     "output_type": "stream",
     "text": [
      "\n",
      "Ejecutando experimento 5/5 ...\n"
     ]
    },
    {
     "data": {
      "text/html": [],
      "text/plain": [
       "<IPython.core.display.HTML object>"
      ]
     },
     "metadata": {},
     "output_type": "display_data"
    },
    {
     "data": {
      "text/html": [
       "Tracking run with wandb version 0.22.2"
      ],
      "text/plain": [
       "<IPython.core.display.HTML object>"
      ]
     },
     "metadata": {},
     "output_type": "display_data"
    },
    {
     "data": {
      "text/html": [
       "Run data is saved locally in <code>/home/javialroro/TEC/2025 II/IA/CNNVoiceRecognition/wandb/run-20251031_101344-6hh7mavf</code>"
      ],
      "text/plain": [
       "<IPython.core.display.HTML object>"
      ]
     },
     "metadata": {},
     "output_type": "display_data"
    },
    {
     "data": {
      "text/html": [
       "Syncing run <strong><a href='https://wandb.ai/javialroro-tecnologico-de-costa-rica/Proyecto1_IA_Dropout/runs/6hh7mavf' target=\"_blank\">augmented_run5</a></strong> to <a href='https://wandb.ai/javialroro-tecnologico-de-costa-rica/Proyecto1_IA_Dropout' target=\"_blank\">Weights & Biases</a> (<a href='https://wandb.me/developer-guide' target=\"_blank\">docs</a>)<br>"
      ],
      "text/plain": [
       "<IPython.core.display.HTML object>"
      ]
     },
     "metadata": {},
     "output_type": "display_data"
    },
    {
     "data": {
      "text/html": [
       " View project at <a href='https://wandb.ai/javialroro-tecnologico-de-costa-rica/Proyecto1_IA_Dropout' target=\"_blank\">https://wandb.ai/javialroro-tecnologico-de-costa-rica/Proyecto1_IA_Dropout</a>"
      ],
      "text/plain": [
       "<IPython.core.display.HTML object>"
      ]
     },
     "metadata": {},
     "output_type": "display_data"
    },
    {
     "data": {
      "text/html": [
       " View run at <a href='https://wandb.ai/javialroro-tecnologico-de-costa-rica/Proyecto1_IA_Dropout/runs/6hh7mavf' target=\"_blank\">https://wandb.ai/javialroro-tecnologico-de-costa-rica/Proyecto1_IA_Dropout/runs/6hh7mavf</a>"
      ],
      "text/plain": [
       "<IPython.core.display.HTML object>"
      ]
     },
     "metadata": {},
     "output_type": "display_data"
    },
    {
     "name": "stdout",
     "output_type": "stream",
     "text": [
      "[01/25] Training Loss=3.7853 Training Acc=0.0612 | Validation Loss=3.6150 Validation Acc=0.1267 | F1=0.0702 Precision=0.0859 Recall=0.1212\n",
      "[02/25] Training Loss=3.5468 Training Acc=0.1460 | Validation Loss=3.4385 Validation Acc=0.1717 | F1=0.1095 Precision=0.1232 Recall=0.1615\n",
      "[03/25] Training Loss=3.3898 Training Acc=0.2002 | Validation Loss=3.2986 Validation Acc=0.2333 | F1=0.1883 Precision=0.2883 Recall=0.2272\n",
      "[04/25] Training Loss=3.2535 Training Acc=0.2421 | Validation Loss=3.1841 Validation Acc=0.2583 | F1=0.2060 Precision=0.2888 Recall=0.2555\n",
      "[05/25] Training Loss=3.1337 Training Acc=0.2998 | Validation Loss=3.0691 Validation Acc=0.3183 | F1=0.2786 Precision=0.3978 Recall=0.3208\n",
      "[06/25] Training Loss=3.0253 Training Acc=0.3427 | Validation Loss=2.9721 Validation Acc=0.3550 | F1=0.3083 Precision=0.3917 Recall=0.3583\n",
      "[07/25] Training Loss=2.9183 Training Acc=0.3792 | Validation Loss=2.8806 Validation Acc=0.3817 | F1=0.3343 Precision=0.4482 Recall=0.3820\n",
      "[08/25] Training Loss=2.8224 Training Acc=0.4100 | Validation Loss=2.7970 Validation Acc=0.3983 | F1=0.3452 Precision=0.4509 Recall=0.3990\n",
      "[09/25] Training Loss=2.7341 Training Acc=0.4419 | Validation Loss=2.7226 Validation Acc=0.4200 | F1=0.3708 Precision=0.4492 Recall=0.4214\n",
      "[10/25] Training Loss=2.6535 Training Acc=0.4694 | Validation Loss=2.6564 Validation Acc=0.4233 | F1=0.3681 Precision=0.4603 Recall=0.4221\n",
      "[11/25] Training Loss=2.5775 Training Acc=0.4954 | Validation Loss=2.5880 Validation Acc=0.4467 | F1=0.3897 Precision=0.4618 Recall=0.4465\n",
      "[12/25] Training Loss=2.5070 Training Acc=0.5190 | Validation Loss=2.5406 Validation Acc=0.4417 | F1=0.3871 Precision=0.4539 Recall=0.4401\n",
      "[13/25] Training Loss=2.4468 Training Acc=0.5404 | Validation Loss=2.5045 Validation Acc=0.4483 | F1=0.3954 Precision=0.4471 Recall=0.4482\n",
      "[14/25] Training Loss=2.3904 Training Acc=0.5594 | Validation Loss=2.4490 Validation Acc=0.4750 | F1=0.4230 Precision=0.4691 Recall=0.4692\n",
      "[15/25] Training Loss=2.3413 Training Acc=0.5721 | Validation Loss=2.4121 Validation Acc=0.4850 | F1=0.4370 Precision=0.5119 Recall=0.4843\n",
      "[16/25] Training Loss=2.2983 Training Acc=0.5833 | Validation Loss=2.3867 Validation Acc=0.4883 | F1=0.4457 Precision=0.5018 Recall=0.4880\n",
      "[17/25] Training Loss=2.2671 Training Acc=0.5958 | Validation Loss=2.3563 Validation Acc=0.5000 | F1=0.4519 Precision=0.5287 Recall=0.4975\n",
      "[18/25] Training Loss=2.2351 Training Acc=0.6054 | Validation Loss=2.3304 Validation Acc=0.5083 | F1=0.4619 Precision=0.5219 Recall=0.5094\n",
      "[19/25] Training Loss=2.2084 Training Acc=0.6158 | Validation Loss=2.3171 Validation Acc=0.5083 | F1=0.4655 Precision=0.5181 Recall=0.5090\n",
      "[20/25] Training Loss=2.1888 Training Acc=0.6202 | Validation Loss=2.3006 Validation Acc=0.5183 | F1=0.4768 Precision=0.5331 Recall=0.5187\n",
      "[21/25] Training Loss=2.1725 Training Acc=0.6300 | Validation Loss=2.2948 Validation Acc=0.5200 | F1=0.4781 Precision=0.5361 Recall=0.5206\n",
      "[22/25] Training Loss=2.1661 Training Acc=0.6310 | Validation Loss=2.2871 Validation Acc=0.5250 | F1=0.4828 Precision=0.5453 Recall=0.5252\n",
      "[23/25] Training Loss=2.1572 Training Acc=0.6342 | Validation Loss=2.2850 Validation Acc=0.5233 | F1=0.4828 Precision=0.5421 Recall=0.5237\n",
      "[24/25] Training Loss=2.1569 Training Acc=0.6373 | Validation Loss=2.2837 Validation Acc=0.5233 | F1=0.4830 Precision=0.5428 Recall=0.5237\n",
      "[25/25] Training Loss=2.1557 Training Acc=0.6350 | Validation Loss=2.2831 Validation Acc=0.5250 | F1=0.4845 Precision=0.5445 Recall=0.5257\n",
      "→ Mejor val_acc=0.5250 | Test_acc=0.5217 | F1=0.4845\n"
     ]
    },
    {
     "data": {
      "text/html": [],
      "text/plain": [
       "<IPython.core.display.HTML object>"
      ]
     },
     "metadata": {},
     "output_type": "display_data"
    },
    {
     "data": {
      "text/html": [
       "<br>    <style><br>        .wandb-row {<br>            display: flex;<br>            flex-direction: row;<br>            flex-wrap: wrap;<br>            justify-content: flex-start;<br>            width: 100%;<br>        }<br>        .wandb-col {<br>            display: flex;<br>            flex-direction: column;<br>            flex-basis: 100%;<br>            flex: 1;<br>            padding: 10px;<br>        }<br>    </style><br><div class=\"wandb-row\"><div class=\"wandb-col\"><h3>Run history:</h3><br/><table class=\"wandb\"><tr><td>epoch</td><td>▁▁▂▂▂▂▃▃▃▄▄▄▅▅▅▅▆▆▆▇▇▇▇██</td></tr><tr><td>f1</td><td>▁▂▃▃▅▅▅▆▆▆▆▆▆▇▇▇▇█████████</td></tr><tr><td>precision</td><td>▁▂▄▄▆▆▇▇▇▇▇▇▇▇▇▇██████████</td></tr><tr><td>recall</td><td>▁▂▃▃▄▅▆▆▆▆▇▇▇▇▇▇██████████</td></tr><tr><td>test_acc</td><td>▁</td></tr><tr><td>train_acc</td><td>▁▂▃▃▄▄▅▅▆▆▆▇▇▇▇▇▇████████</td></tr><tr><td>train_loss</td><td>█▇▆▆▅▅▄▄▃▃▃▃▂▂▂▂▁▁▁▁▁▁▁▁▁</td></tr><tr><td>val_acc</td><td>▁▂▃▃▄▅▅▆▆▆▇▇▇▇▇▇█████████</td></tr><tr><td>val_loss</td><td>█▇▆▆▅▅▄▄▃▃▃▂▂▂▂▂▁▁▁▁▁▁▁▁▁</td></tr></table><br/></div><div class=\"wandb-col\"><h3>Run summary:</h3><br/><table class=\"wandb\"><tr><td>epoch</td><td>25</td></tr><tr><td>f1</td><td>0.48446</td></tr><tr><td>precision</td><td>0.54446</td></tr><tr><td>recall</td><td>0.52566</td></tr><tr><td>test_acc</td><td>0.52167</td></tr><tr><td>train_acc</td><td>0.635</td></tr><tr><td>train_loss</td><td>2.15569</td></tr><tr><td>val_acc</td><td>0.525</td></tr><tr><td>val_loss</td><td>2.28314</td></tr></table><br/></div></div>"
      ],
      "text/plain": [
       "<IPython.core.display.HTML object>"
      ]
     },
     "metadata": {},
     "output_type": "display_data"
    },
    {
     "data": {
      "text/html": [
       " View run <strong style=\"color:#cdcd00\">augmented_run5</strong> at: <a href='https://wandb.ai/javialroro-tecnologico-de-costa-rica/Proyecto1_IA_Dropout/runs/6hh7mavf' target=\"_blank\">https://wandb.ai/javialroro-tecnologico-de-costa-rica/Proyecto1_IA_Dropout/runs/6hh7mavf</a><br> View project at: <a href='https://wandb.ai/javialroro-tecnologico-de-costa-rica/Proyecto1_IA_Dropout' target=\"_blank\">https://wandb.ai/javialroro-tecnologico-de-costa-rica/Proyecto1_IA_Dropout</a><br>Synced 5 W&B file(s), 0 media file(s), 0 artifact file(s) and 0 other file(s)"
      ],
      "text/plain": [
       "<IPython.core.display.HTML object>"
      ]
     },
     "metadata": {},
     "output_type": "display_data"
    },
    {
     "data": {
      "text/html": [
       "Find logs at: <code>./wandb/run-20251031_101344-6hh7mavf/logs</code>"
      ],
      "text/plain": [
       "<IPython.core.display.HTML object>"
      ]
     },
     "metadata": {},
     "output_type": "display_data"
    }
   ],
   "source": [
    "print(f\"Usando dispositivo: {DEVICE}\")\n",
    "\n",
    "experimentos = [\n",
    "    {\"lr\":1e-3, \"wd\":1e-4, \"batch\":32, \"epochs\":15},\n",
    "    {\"lr\":5e-4, \"wd\":1e-4, \"batch\":64, \"epochs\":15},\n",
    "    {\"lr\":1e-3, \"wd\":1e-5, \"batch\":64, \"epochs\":20},\n",
    "    {\"lr\":5e-4, \"wd\":1e-3, \"batch\":32, \"epochs\":20},\n",
    "    {\"lr\":1e-4, \"wd\":1e-4, \"batch\":64, \"epochs\":25},\n",
    "]\n",
    "\n",
    "# Entrenamientos: dataset base y dataset aumentado\n",
    "run_experimentAD(\"base\", [\"spectrograms\"], experimentos)\n",
    "run_experimentAD(\"augmented\", [\"spectrograms_augmented\"], experimentos)"
   ]
  },
  {
   "cell_type": "markdown",
   "id": "9f479a85",
   "metadata": {},
   "source": [
    "# Modelo B"
   ]
  },
  {
   "cell_type": "code",
   "execution_count": 3,
   "id": "1647f97e",
   "metadata": {},
   "outputs": [],
   "source": [
    "from typing import Callable, Optional, Type, List\n",
    "import torch\n",
    "import torch.nn as nn\n",
    "\n",
    "\n",
    "# -------------------------\n",
    "# Utilidades de convolución\n",
    "# -------------------------\n",
    "def conv3x3(in_planes: int, out_planes: int, stride: int = 1) -> nn.Conv2d:\n",
    "    \"\"\"Conv 3×3 con padding=1, sin bias (BN lo compensa).\"\"\"\n",
    "    return nn.Conv2d(in_planes, out_planes, kernel_size=3, stride=stride, padding=1, bias=False)\n",
    "\n",
    "\n",
    "def conv1x1(in_planes: int, out_planes: int, stride: int = 1) -> nn.Conv2d:\n",
    "    \"\"\"Conv 1×1 para proyección en atajos (ajustar canales/stride).\"\"\"\n",
    "    return nn.Conv2d(in_planes, out_planes, kernel_size=1, stride=stride, bias=False)\n",
    "\n",
    "\n",
    "# -------------------------\n",
    "# Bloque residual \"básico\"\n",
    "# -------------------------\n",
    "class BasicBlock(nn.Module):\n",
    "    \"\"\"\n",
    "    Estructura:\n",
    "        Conv3x3 → BN → ReLU → Conv3x3 → BN → (Suma con atajo) → ReLU\n",
    "    Donde el atajo (identity) puede incluir una proyección 1×1 si cambia\n",
    "    la resolución (stride > 1) o el número de canales.\n",
    "    \"\"\"\n",
    "    expansion: int = 1\n",
    "\n",
    "    def __init__(\n",
    "        self,\n",
    "        inplanes: int,\n",
    "        planes: int,\n",
    "        stride: int = 1,\n",
    "        downsample: Optional[nn.Module] = None,\n",
    "        norm_layer: Optional[Callable[..., nn.Module]] = None,\n",
    "    ) -> None:\n",
    "        super().__init__()\n",
    "        if norm_layer is None:\n",
    "            norm_layer = nn.BatchNorm2d\n",
    "\n",
    "        self.conv1 = conv3x3(inplanes, planes, stride)\n",
    "        self.bn1   = norm_layer(planes)\n",
    "        self.relu  = nn.ReLU(inplace=True)\n",
    "\n",
    "        self.conv2 = conv3x3(planes, planes)\n",
    "        self.bn2   = norm_layer(planes)\n",
    "\n",
    "        self.downsample = downsample  # Proyección para el atajo, si aplica\n",
    "\n",
    "    def forward(self, x: torch.Tensor) -> torch.Tensor:\n",
    "        identity = x  # Atajo\n",
    "\n",
    "        out = self.conv1(x)\n",
    "        out = self.bn1(out)\n",
    "        out = self.relu(out)\n",
    "\n",
    "        out = self.conv2(out)\n",
    "        out = self.bn2(out)\n",
    "\n",
    "        # Alinear dimensiones del atajo si cambió stride o # de canales\n",
    "        if self.downsample is not None:\n",
    "            identity = self.downsample(x)\n",
    "\n",
    "        out = out + identity\n",
    "        out = self.relu(out)\n",
    "        return out\n",
    "\n",
    "\n",
    "# -----------\n",
    "# ResNet base\n",
    "# -----------\n",
    "class ResNet(nn.Module):\n",
    "    \"\"\"\n",
    "    Constructor general de ResNet con BasicBlock y configuración [2,2,2,2].\n",
    "    Parámetros clave:\n",
    "        - small_input=True: conv1=3×3 s=1 y sin MaxPool (mejor para 64–224 px).\n",
    "        - small_input=False: conv1=7×7 s=2 + MaxPool (clásico de ResNet).\n",
    "    \"\"\"\n",
    "    def __init__(\n",
    "        self,\n",
    "        block: Type[BasicBlock],\n",
    "        layers: List[int],\n",
    "        num_classes: int = 50,\n",
    "        in_channels: int = 1,\n",
    "        small_input: bool = True,\n",
    "        norm_layer: Optional[Callable[..., nn.Module]] = None,\n",
    "    ) -> None:\n",
    "        super().__init__()\n",
    "        if norm_layer is None:\n",
    "            norm_layer = nn.BatchNorm2d\n",
    "        self._norm_layer = norm_layer\n",
    "\n",
    "        self.inplanes = 64\n",
    "\n",
    "        # Capa inicial: variante \"small_input\" recomendada para espectrogramas\n",
    "        if small_input:\n",
    "            # Preserva más detalle inicial (sin MaxPool temprano)\n",
    "            self.conv1   = nn.Conv2d(in_channels, 64, kernel_size=3, stride=1, padding=1, bias=False)\n",
    "            self.maxpool = nn.Identity()\n",
    "        else:\n",
    "            # Estilo ResNet clásico para entradas grandes\n",
    "            self.conv1   = nn.Conv2d(in_channels, 64, kernel_size=7, stride=2, padding=3, bias=False)\n",
    "            self.maxpool = nn.MaxPool2d(kernel_size=3, stride=2, padding=1)\n",
    "\n",
    "        self.bn1  = norm_layer(64)\n",
    "        self.relu = nn.ReLU(inplace=True)\n",
    "\n",
    "        # Stages: [64, 128, 256, 512] con [2, 2, 2, 2] bloques\n",
    "        self.layer1 = self._make_layer(block,  64, layers[0], stride=1)\n",
    "        self.layer2 = self._make_layer(block, 128, layers[1], stride=2)\n",
    "        self.layer3 = self._make_layer(block, 256, layers[2], stride=2)\n",
    "        self.layer4 = self._make_layer(block, 512, layers[3], stride=2)\n",
    "\n",
    "        # Cabeza de clasificación\n",
    "        self.avgpool = nn.AdaptiveAvgPool2d((1, 1))  # Global Average Pooling\n",
    "        self.fc      = nn.Linear(512 * block.expansion, num_classes)\n",
    "\n",
    "        # Inicialización recomendada para ReLU/BN\n",
    "        self._init_weights()\n",
    "\n",
    "    def _make_layer(self, block: Type[BasicBlock], planes: int, blocks: int, stride: int = 1) -> nn.Sequential:\n",
    "        \"\"\"\n",
    "        Crea un stage con 'blocks' bloques. El primer bloque puede hacer downsample\n",
    "        (stride=2) para reducir resolución y duplicar canales.\n",
    "        \"\"\"\n",
    "        norm_layer = self._norm_layer\n",
    "        downsample = None\n",
    "\n",
    "        # Si cambia resolución o # de canales, proyectamos el atajo (1×1)\n",
    "        if stride != 1 or self.inplanes != planes * block.expansion:\n",
    "            downsample = nn.Sequential(\n",
    "                conv1x1(self.inplanes, planes * block.expansion, stride),\n",
    "                norm_layer(planes * block.expansion),\n",
    "            )\n",
    "\n",
    "        layers = []\n",
    "        layers.append(block(self.inplanes, planes, stride, downsample, norm_layer))\n",
    "        self.inplanes = planes * block.expansion\n",
    "        for _ in range(1, blocks):\n",
    "            layers.append(block(self.inplanes, planes, norm_layer=norm_layer))\n",
    "\n",
    "        return nn.Sequential(*layers)\n",
    "\n",
    "    def _init_weights(self) -> None:\n",
    "        \"\"\"Inicialización Kaiming para conv; constantes para BN; normal para FC.\"\"\"\n",
    "        for m in self.modules():\n",
    "            if isinstance(m, nn.Conv2d):\n",
    "                nn.init.kaiming_normal_(m.weight, mode=\"fan_out\", nonlinearity=\"relu\")\n",
    "            elif isinstance(m, (nn.BatchNorm2d, nn.GroupNorm)):\n",
    "                nn.init.constant_(m.weight, 1.0)\n",
    "                nn.init.constant_(m.bias, 0.0)\n",
    "            elif isinstance(m, nn.Linear):\n",
    "                nn.init.normal_(m.weight, 0, 0.01)\n",
    "                nn.init.constant_(m.bias, 0.0)\n",
    "\n",
    "    def forward(self, x: torch.Tensor) -> torch.Tensor:\n",
    "        # Entrada → conv1 → BN → ReLU → (posible MaxPool/Identity)\n",
    "        x = self.conv1(x)\n",
    "        x = self.bn1(x)\n",
    "        x = self.relu(x)\n",
    "        x = self.maxpool(x)\n",
    "\n",
    "        # Stages residuales\n",
    "        x = self.layer1(x)  # 64\n",
    "        x = self.layer2(x)  # 128\n",
    "        x = self.layer3(x)  # 256\n",
    "        x = self.layer4(x)  # 512\n",
    "\n",
    "        # Cabeza\n",
    "        x = self.avgpool(x)           # (B, 512, 1, 1)\n",
    "        x = torch.flatten(x, 1)       # (B, 512)\n",
    "        x = self.fc(x)                # (B, num_classes)\n",
    "        return x\n",
    "\n",
    "\n",
    "# -------------------------\n",
    "# Fábrica de ResNet-18\n",
    "# -------------------------\n",
    "def resnet18_audio(num_classes: int = 50, in_channels: int = 1, small_input: bool = True) -> ResNet:\n",
    "    \"\"\"\n",
    "    Retorna una ResNet-18 lista para espectrogramas:\n",
    "        - num_classes: # de clases del dataset (ESC-50 → 50)\n",
    "        - in_channels: 1 para grises; 3 si usas RGB (replicar canal)\n",
    "        - small_input: True recomendado para ~128–224 px\n",
    "    \"\"\"\n",
    "    return ResNet(\n",
    "        block=BasicBlock,\n",
    "        layers=[2, 2, 2, 2],\n",
    "        num_classes=num_classes,\n",
    "        in_channels=in_channels,\n",
    "        small_input=small_input,\n",
    "    )"
   ]
  },
  {
   "cell_type": "markdown",
   "id": "afc74c3e",
   "metadata": {},
   "source": [
    "## Entrenamiento"
   ]
  },
  {
   "cell_type": "code",
   "execution_count": null,
   "id": "fa82c341",
   "metadata": {},
   "outputs": [
    {
     "name": "stdout",
     "output_type": "stream",
     "text": [
      "Usando dispositivo: cuda\n",
      "\n",
      "=== Dataset: base ===\n",
      "\n",
      "Ejecutando experimento 1/5 ...\n"
     ]
    },
    {
     "name": "stderr",
     "output_type": "stream",
     "text": [
      "\u001b[34m\u001b[1mwandb\u001b[0m: Currently logged in as: \u001b[33mjavialroro\u001b[0m (\u001b[33mjavialroro-tecnologico-de-costa-rica\u001b[0m) to \u001b[32mhttps://api.wandb.ai\u001b[0m. Use \u001b[1m`wandb login --relogin`\u001b[0m to force relogin\n"
     ]
    },
    {
     "data": {
      "text/html": [],
      "text/plain": [
       "<IPython.core.display.HTML object>"
      ]
     },
     "metadata": {},
     "output_type": "display_data"
    },
    {
     "data": {
      "text/html": [
       "Tracking run with wandb version 0.22.2"
      ],
      "text/plain": [
       "<IPython.core.display.HTML object>"
      ]
     },
     "metadata": {},
     "output_type": "display_data"
    },
    {
     "data": {
      "text/html": [
       "Run data is saved locally in <code>/home/javialroro/TEC/2025 II/IA/CNNVoiceRecognition/wandb/run-20251030_233226-fcaf3w3k</code>"
      ],
      "text/plain": [
       "<IPython.core.display.HTML object>"
      ]
     },
     "metadata": {},
     "output_type": "display_data"
    },
    {
     "data": {
      "text/html": [
       "Syncing run <strong><a href='https://wandb.ai/javialroro-tecnologico-de-costa-rica/Proyecto1_IA_ResNet/runs/fcaf3w3k' target=\"_blank\">base_run1</a></strong> to <a href='https://wandb.ai/javialroro-tecnologico-de-costa-rica/Proyecto1_IA_ResNet' target=\"_blank\">Weights & Biases</a> (<a href='https://wandb.me/developer-guide' target=\"_blank\">docs</a>)<br>"
      ],
      "text/plain": [
       "<IPython.core.display.HTML object>"
      ]
     },
     "metadata": {},
     "output_type": "display_data"
    },
    {
     "data": {
      "text/html": [
       " View project at <a href='https://wandb.ai/javialroro-tecnologico-de-costa-rica/Proyecto1_IA_ResNet' target=\"_blank\">https://wandb.ai/javialroro-tecnologico-de-costa-rica/Proyecto1_IA_ResNet</a>"
      ],
      "text/plain": [
       "<IPython.core.display.HTML object>"
      ]
     },
     "metadata": {},
     "output_type": "display_data"
    },
    {
     "data": {
      "text/html": [
       " View run at <a href='https://wandb.ai/javialroro-tecnologico-de-costa-rica/Proyecto1_IA_ResNet/runs/fcaf3w3k' target=\"_blank\">https://wandb.ai/javialroro-tecnologico-de-costa-rica/Proyecto1_IA_ResNet/runs/fcaf3w3k</a>"
      ],
      "text/plain": [
       "<IPython.core.display.HTML object>"
      ]
     },
     "metadata": {},
     "output_type": "display_data"
    },
    {
     "name": "stdout",
     "output_type": "stream",
     "text": [
      "[01/15] Training Loss=3.7106 Training Acc=0.0600 | Validation Loss=3.4493 Validation Acc=0.0800 | F1=0.0252 Precision=0.0178 Recall=0.0712\n",
      "[02/15] Training Loss=3.3588 Training Acc=0.0875 | Validation Loss=3.4210 Validation Acc=0.1050 | F1=0.0707 Precision=0.0671 Recall=0.1257\n",
      "[03/15] Training Loss=3.2059 Training Acc=0.1056 | Validation Loss=3.1839 Validation Acc=0.1500 | F1=0.1226 Precision=0.1519 Recall=0.1617\n",
      "[04/15] Training Loss=3.0056 Training Acc=0.1569 | Validation Loss=3.0255 Validation Acc=0.1700 | F1=0.1325 Precision=0.1316 Recall=0.1984\n",
      "[05/15] Training Loss=2.7869 Training Acc=0.2094 | Validation Loss=2.7865 Validation Acc=0.2300 | F1=0.1541 Precision=0.1398 Recall=0.2406\n",
      "[06/15] Training Loss=2.6014 Training Acc=0.2537 | Validation Loss=2.7410 Validation Acc=0.2950 | F1=0.2411 Precision=0.2240 Recall=0.3255\n",
      "[07/15] Training Loss=2.3894 Training Acc=0.3113 | Validation Loss=2.4119 Validation Acc=0.3350 | F1=0.3005 Precision=0.3228 Recall=0.3710\n",
      "[08/15] Training Loss=2.2902 Training Acc=0.3300 | Validation Loss=2.4209 Validation Acc=0.3050 | F1=0.2881 Precision=0.3514 Recall=0.3498\n",
      "[09/15] Training Loss=2.0702 Training Acc=0.3925 | Validation Loss=2.1739 Validation Acc=0.3950 | F1=0.3528 Precision=0.3472 Recall=0.4235\n",
      "[10/15] Training Loss=1.9229 Training Acc=0.4363 | Validation Loss=2.0336 Validation Acc=0.4500 | F1=0.3949 Precision=0.4064 Recall=0.4671\n",
      "[11/15] Training Loss=1.8079 Training Acc=0.4788 | Validation Loss=1.7336 Validation Acc=0.5450 | F1=0.5032 Precision=0.5384 Recall=0.5546\n",
      "[12/15] Training Loss=1.6610 Training Acc=0.5231 | Validation Loss=1.7046 Validation Acc=0.5550 | F1=0.5130 Precision=0.5373 Recall=0.5679\n",
      "[13/15] Training Loss=1.5210 Training Acc=0.5563 | Validation Loss=1.5657 Validation Acc=0.5700 | F1=0.5292 Precision=0.5439 Recall=0.5819\n",
      "[14/15] Training Loss=1.4551 Training Acc=0.5800 | Validation Loss=1.5147 Validation Acc=0.5900 | F1=0.5450 Precision=0.5590 Recall=0.6016\n",
      "[15/15] Training Loss=1.3974 Training Acc=0.6050 | Validation Loss=1.4989 Validation Acc=0.5850 | F1=0.5443 Precision=0.5721 Recall=0.5929\n",
      "→ Mejor val_acc=0.5900 | Test_acc=0.5850 | F1=0.5565\n"
     ]
    },
    {
     "name": "stderr",
     "output_type": "stream",
     "text": [
      "/home/javialroro/miniconda3/envs/ml/lib/python3.13/site-packages/sklearn/metrics/_classification.py:1731: UndefinedMetricWarning: Precision is ill-defined and being set to 0.0 in labels with no predicted samples. Use `zero_division` parameter to control this behavior.\n",
      "  _warn_prf(average, modifier, f\"{metric.capitalize()} is\", result.shape[0])\n",
      "/home/javialroro/miniconda3/envs/ml/lib/python3.13/site-packages/sklearn/metrics/_classification.py:1731: UndefinedMetricWarning: Recall is ill-defined and being set to 0.0 in labels with no true samples. Use `zero_division` parameter to control this behavior.\n",
      "  _warn_prf(average, modifier, f\"{metric.capitalize()} is\", result.shape[0])\n"
     ]
    },
    {
     "data": {
      "text/html": [],
      "text/plain": [
       "<IPython.core.display.HTML object>"
      ]
     },
     "metadata": {},
     "output_type": "display_data"
    },
    {
     "data": {
      "text/html": [
       "<br>    <style><br>        .wandb-row {<br>            display: flex;<br>            flex-direction: row;<br>            flex-wrap: wrap;<br>            justify-content: flex-start;<br>            width: 100%;<br>        }<br>        .wandb-col {<br>            display: flex;<br>            flex-direction: column;<br>            flex-basis: 100%;<br>            flex: 1;<br>            padding: 10px;<br>        }<br>    </style><br><div class=\"wandb-row\"><div class=\"wandb-col\"><h3>Run history:</h3><br/><table class=\"wandb\"><tr><td>epoch</td><td>▁▁▂▃▃▃▄▅▅▅▆▇▇▇█</td></tr><tr><td>f1</td><td>▁▂▂▂▃▄▅▄▅▆▇▇████</td></tr><tr><td>precision</td><td>▁▂▃▂▂▃▅▅▅▆▇▇▇▇██</td></tr><tr><td>recall</td><td>▁▂▂▃▃▄▅▅▆▆▇█████</td></tr><tr><td>test_acc</td><td>▁</td></tr><tr><td>train_acc</td><td>▁▁▂▂▃▃▄▄▅▆▆▇▇██</td></tr><tr><td>train_loss</td><td>█▇▆▆▅▅▄▄▃▃▂▂▁▁▁</td></tr><tr><td>val_acc</td><td>▁▁▂▂▃▄▅▄▅▆▇████</td></tr><tr><td>val_loss</td><td>██▇▆▆▅▄▄▃▃▂▂▁▁▁</td></tr></table><br/></div><div class=\"wandb-col\"><h3>Run summary:</h3><br/><table class=\"wandb\"><tr><td>epoch</td><td>15</td></tr><tr><td>f1</td><td>0.55651</td></tr><tr><td>precision</td><td>0.61307</td></tr><tr><td>recall</td><td>0.59869</td></tr><tr><td>test_acc</td><td>0.585</td></tr><tr><td>train_acc</td><td>0.605</td></tr><tr><td>train_loss</td><td>1.39743</td></tr><tr><td>val_acc</td><td>0.585</td></tr><tr><td>val_loss</td><td>1.49894</td></tr></table><br/></div></div>"
      ],
      "text/plain": [
       "<IPython.core.display.HTML object>"
      ]
     },
     "metadata": {},
     "output_type": "display_data"
    },
    {
     "data": {
      "text/html": [
       " View run <strong style=\"color:#cdcd00\">base_run1</strong> at: <a href='https://wandb.ai/javialroro-tecnologico-de-costa-rica/Proyecto1_IA_ResNet/runs/fcaf3w3k' target=\"_blank\">https://wandb.ai/javialroro-tecnologico-de-costa-rica/Proyecto1_IA_ResNet/runs/fcaf3w3k</a><br> View project at: <a href='https://wandb.ai/javialroro-tecnologico-de-costa-rica/Proyecto1_IA_ResNet' target=\"_blank\">https://wandb.ai/javialroro-tecnologico-de-costa-rica/Proyecto1_IA_ResNet</a><br>Synced 5 W&B file(s), 0 media file(s), 0 artifact file(s) and 0 other file(s)"
      ],
      "text/plain": [
       "<IPython.core.display.HTML object>"
      ]
     },
     "metadata": {},
     "output_type": "display_data"
    },
    {
     "data": {
      "text/html": [
       "Find logs at: <code>./wandb/run-20251030_233226-fcaf3w3k/logs</code>"
      ],
      "text/plain": [
       "<IPython.core.display.HTML object>"
      ]
     },
     "metadata": {},
     "output_type": "display_data"
    },
    {
     "name": "stdout",
     "output_type": "stream",
     "text": [
      "\n",
      "Ejecutando experimento 2/5 ...\n"
     ]
    },
    {
     "data": {
      "text/html": [],
      "text/plain": [
       "<IPython.core.display.HTML object>"
      ]
     },
     "metadata": {},
     "output_type": "display_data"
    },
    {
     "data": {
      "text/html": [
       "Tracking run with wandb version 0.22.2"
      ],
      "text/plain": [
       "<IPython.core.display.HTML object>"
      ]
     },
     "metadata": {},
     "output_type": "display_data"
    },
    {
     "data": {
      "text/html": [
       "Run data is saved locally in <code>/home/javialroro/TEC/2025 II/IA/CNNVoiceRecognition/wandb/run-20251030_235530-eo514loq</code>"
      ],
      "text/plain": [
       "<IPython.core.display.HTML object>"
      ]
     },
     "metadata": {},
     "output_type": "display_data"
    },
    {
     "data": {
      "text/html": [
       "Syncing run <strong><a href='https://wandb.ai/javialroro-tecnologico-de-costa-rica/Proyecto1_IA_ResNet/runs/eo514loq' target=\"_blank\">base_run2</a></strong> to <a href='https://wandb.ai/javialroro-tecnologico-de-costa-rica/Proyecto1_IA_ResNet' target=\"_blank\">Weights & Biases</a> (<a href='https://wandb.me/developer-guide' target=\"_blank\">docs</a>)<br>"
      ],
      "text/plain": [
       "<IPython.core.display.HTML object>"
      ]
     },
     "metadata": {},
     "output_type": "display_data"
    },
    {
     "data": {
      "text/html": [
       " View project at <a href='https://wandb.ai/javialroro-tecnologico-de-costa-rica/Proyecto1_IA_ResNet' target=\"_blank\">https://wandb.ai/javialroro-tecnologico-de-costa-rica/Proyecto1_IA_ResNet</a>"
      ],
      "text/plain": [
       "<IPython.core.display.HTML object>"
      ]
     },
     "metadata": {},
     "output_type": "display_data"
    },
    {
     "data": {
      "text/html": [
       " View run at <a href='https://wandb.ai/javialroro-tecnologico-de-costa-rica/Proyecto1_IA_ResNet/runs/eo514loq' target=\"_blank\">https://wandb.ai/javialroro-tecnologico-de-costa-rica/Proyecto1_IA_ResNet/runs/eo514loq</a>"
      ],
      "text/plain": [
       "<IPython.core.display.HTML object>"
      ]
     },
     "metadata": {},
     "output_type": "display_data"
    },
    {
     "name": "stdout",
     "output_type": "stream",
     "text": [
      "[01/15] Training Loss=3.5535 Training Acc=0.0887 | Validation Loss=3.3747 Validation Acc=0.1300 | F1=0.0742 Precision=0.0655 Recall=0.1341\n",
      "[02/15] Training Loss=3.0548 Training Acc=0.1606 | Validation Loss=3.0561 Validation Acc=0.1750 | F1=0.1172 Precision=0.1643 Recall=0.1933\n",
      "[03/15] Training Loss=2.7644 Training Acc=0.2169 | Validation Loss=2.6461 Validation Acc=0.2950 | F1=0.2102 Precision=0.2268 Recall=0.3072\n",
      "[04/15] Training Loss=2.5442 Training Acc=0.2650 | Validation Loss=2.3656 Validation Acc=0.3200 | F1=0.3084 Precision=0.4013 Recall=0.3663\n",
      "[05/15] Training Loss=2.3500 Training Acc=0.3344 | Validation Loss=2.3397 Validation Acc=0.3500 | F1=0.2944 Precision=0.3321 Recall=0.3715\n",
      "[06/15] Training Loss=2.1719 Training Acc=0.3563 | Validation Loss=2.1550 Validation Acc=0.3700 | F1=0.3098 Precision=0.3361 Recall=0.3939\n",
      "[07/15] Training Loss=2.0224 Training Acc=0.3900 | Validation Loss=2.1113 Validation Acc=0.4150 | F1=0.3427 Precision=0.3929 Recall=0.4010\n",
      "[08/15] Training Loss=1.8662 Training Acc=0.4325 | Validation Loss=1.9656 Validation Acc=0.4400 | F1=0.3922 Precision=0.4894 Recall=0.4560\n",
      "[09/15] Training Loss=1.7602 Training Acc=0.4863 | Validation Loss=1.5532 Validation Acc=0.5350 | F1=0.4590 Precision=0.4835 Recall=0.5349\n",
      "[10/15] Training Loss=1.5503 Training Acc=0.5400 | Validation Loss=1.7348 Validation Acc=0.5150 | F1=0.4688 Precision=0.5058 Recall=0.5366\n",
      "[11/15] Training Loss=1.5244 Training Acc=0.5431 | Validation Loss=1.7138 Validation Acc=0.5400 | F1=0.4946 Precision=0.5296 Recall=0.5569\n",
      "[12/15] Training Loss=1.3930 Training Acc=0.6144 | Validation Loss=1.4743 Validation Acc=0.6050 | F1=0.5596 Precision=0.6004 Recall=0.6118\n",
      "[13/15] Training Loss=1.2913 Training Acc=0.6256 | Validation Loss=1.3373 Validation Acc=0.6450 | F1=0.6018 Precision=0.6260 Recall=0.6518\n",
      "[14/15] Training Loss=1.2560 Training Acc=0.6475 | Validation Loss=1.3207 Validation Acc=0.6350 | F1=0.5983 Precision=0.6196 Recall=0.6328\n",
      "[15/15] Training Loss=1.1788 Training Acc=0.6856 | Validation Loss=1.3025 Validation Acc=0.6400 | F1=0.5985 Precision=0.6113 Recall=0.6440\n",
      "→ Mejor val_acc=0.6450 | Test_acc=0.6200 | F1=0.6060\n"
     ]
    },
    {
     "name": "stderr",
     "output_type": "stream",
     "text": [
      "/home/javialroro/miniconda3/envs/ml/lib/python3.13/site-packages/sklearn/metrics/_classification.py:1731: UndefinedMetricWarning: Recall is ill-defined and being set to 0.0 in labels with no true samples. Use `zero_division` parameter to control this behavior.\n",
      "  _warn_prf(average, modifier, f\"{metric.capitalize()} is\", result.shape[0])\n"
     ]
    },
    {
     "data": {
      "text/html": [],
      "text/plain": [
       "<IPython.core.display.HTML object>"
      ]
     },
     "metadata": {},
     "output_type": "display_data"
    },
    {
     "data": {
      "text/html": [
       "<br>    <style><br>        .wandb-row {<br>            display: flex;<br>            flex-direction: row;<br>            flex-wrap: wrap;<br>            justify-content: flex-start;<br>            width: 100%;<br>        }<br>        .wandb-col {<br>            display: flex;<br>            flex-direction: column;<br>            flex-basis: 100%;<br>            flex: 1;<br>            padding: 10px;<br>        }<br>    </style><br><div class=\"wandb-row\"><div class=\"wandb-col\"><h3>Run history:</h3><br/><table class=\"wandb\"><tr><td>epoch</td><td>▁▁▂▃▃▃▄▅▅▅▆▇▇▇█</td></tr><tr><td>f1</td><td>▁▂▃▄▄▄▅▅▆▆▇▇████</td></tr><tr><td>precision</td><td>▁▂▃▅▄▄▅▆▆▆▇▇████</td></tr><tr><td>recall</td><td>▁▂▃▄▄▅▅▅▆▆▇▇████</td></tr><tr><td>test_acc</td><td>▁</td></tr><tr><td>train_acc</td><td>▁▂▃▃▄▄▅▅▆▆▆▇▇██</td></tr><tr><td>train_loss</td><td>█▇▆▅▄▄▃▃▃▂▂▂▁▁▁</td></tr><tr><td>val_acc</td><td>▁▂▃▄▄▄▅▅▇▆▇▇███</td></tr><tr><td>val_loss</td><td>█▇▆▅▅▄▄▃▂▂▂▂▁▁▁</td></tr></table><br/></div><div class=\"wandb-col\"><h3>Run summary:</h3><br/><table class=\"wandb\"><tr><td>epoch</td><td>15</td></tr><tr><td>f1</td><td>0.60598</td></tr><tr><td>precision</td><td>0.64486</td></tr><tr><td>recall</td><td>0.65136</td></tr><tr><td>test_acc</td><td>0.62</td></tr><tr><td>train_acc</td><td>0.68563</td></tr><tr><td>train_loss</td><td>1.1788</td></tr><tr><td>val_acc</td><td>0.64</td></tr><tr><td>val_loss</td><td>1.30253</td></tr></table><br/></div></div>"
      ],
      "text/plain": [
       "<IPython.core.display.HTML object>"
      ]
     },
     "metadata": {},
     "output_type": "display_data"
    },
    {
     "data": {
      "text/html": [
       " View run <strong style=\"color:#cdcd00\">base_run2</strong> at: <a href='https://wandb.ai/javialroro-tecnologico-de-costa-rica/Proyecto1_IA_ResNet/runs/eo514loq' target=\"_blank\">https://wandb.ai/javialroro-tecnologico-de-costa-rica/Proyecto1_IA_ResNet/runs/eo514loq</a><br> View project at: <a href='https://wandb.ai/javialroro-tecnologico-de-costa-rica/Proyecto1_IA_ResNet' target=\"_blank\">https://wandb.ai/javialroro-tecnologico-de-costa-rica/Proyecto1_IA_ResNet</a><br>Synced 5 W&B file(s), 0 media file(s), 0 artifact file(s) and 0 other file(s)"
      ],
      "text/plain": [
       "<IPython.core.display.HTML object>"
      ]
     },
     "metadata": {},
     "output_type": "display_data"
    },
    {
     "data": {
      "text/html": [
       "Find logs at: <code>./wandb/run-20251030_235530-eo514loq/logs</code>"
      ],
      "text/plain": [
       "<IPython.core.display.HTML object>"
      ]
     },
     "metadata": {},
     "output_type": "display_data"
    },
    {
     "name": "stdout",
     "output_type": "stream",
     "text": [
      "\n",
      "Ejecutando experimento 3/5 ...\n"
     ]
    },
    {
     "data": {
      "text/html": [],
      "text/plain": [
       "<IPython.core.display.HTML object>"
      ]
     },
     "metadata": {},
     "output_type": "display_data"
    },
    {
     "data": {
      "text/html": [
       "Tracking run with wandb version 0.22.2"
      ],
      "text/plain": [
       "<IPython.core.display.HTML object>"
      ]
     },
     "metadata": {},
     "output_type": "display_data"
    },
    {
     "data": {
      "text/html": [
       "Run data is saved locally in <code>/home/javialroro/TEC/2025 II/IA/CNNVoiceRecognition/wandb/run-20251031_001334-d4bg8ky6</code>"
      ],
      "text/plain": [
       "<IPython.core.display.HTML object>"
      ]
     },
     "metadata": {},
     "output_type": "display_data"
    },
    {
     "data": {
      "text/html": [
       "Syncing run <strong><a href='https://wandb.ai/javialroro-tecnologico-de-costa-rica/Proyecto1_IA_ResNet/runs/d4bg8ky6' target=\"_blank\">base_run3</a></strong> to <a href='https://wandb.ai/javialroro-tecnologico-de-costa-rica/Proyecto1_IA_ResNet' target=\"_blank\">Weights & Biases</a> (<a href='https://wandb.me/developer-guide' target=\"_blank\">docs</a>)<br>"
      ],
      "text/plain": [
       "<IPython.core.display.HTML object>"
      ]
     },
     "metadata": {},
     "output_type": "display_data"
    },
    {
     "data": {
      "text/html": [
       " View project at <a href='https://wandb.ai/javialroro-tecnologico-de-costa-rica/Proyecto1_IA_ResNet' target=\"_blank\">https://wandb.ai/javialroro-tecnologico-de-costa-rica/Proyecto1_IA_ResNet</a>"
      ],
      "text/plain": [
       "<IPython.core.display.HTML object>"
      ]
     },
     "metadata": {},
     "output_type": "display_data"
    },
    {
     "data": {
      "text/html": [
       " View run at <a href='https://wandb.ai/javialroro-tecnologico-de-costa-rica/Proyecto1_IA_ResNet/runs/d4bg8ky6' target=\"_blank\">https://wandb.ai/javialroro-tecnologico-de-costa-rica/Proyecto1_IA_ResNet/runs/d4bg8ky6</a>"
      ],
      "text/plain": [
       "<IPython.core.display.HTML object>"
      ]
     },
     "metadata": {},
     "output_type": "display_data"
    },
    {
     "name": "stdout",
     "output_type": "stream",
     "text": [
      "[01/20] Training Loss=3.8092 Training Acc=0.0469 | Validation Loss=3.6155 Validation Acc=0.0800 | F1=0.0331 Precision=0.0223 Recall=0.0957\n",
      "[02/20] Training Loss=3.4453 Training Acc=0.0887 | Validation Loss=3.4807 Validation Acc=0.1100 | F1=0.0568 Precision=0.0735 Recall=0.1130\n",
      "[03/20] Training Loss=3.2595 Training Acc=0.1062 | Validation Loss=4.3447 Validation Acc=0.0600 | F1=0.0248 Precision=0.0176 Recall=0.0709\n",
      "[04/20] Training Loss=3.1507 Training Acc=0.1256 | Validation Loss=4.5864 Validation Acc=0.0850 | F1=0.0400 Precision=0.0303 Recall=0.0942\n",
      "[05/20] Training Loss=2.9823 Training Acc=0.1694 | Validation Loss=3.8147 Validation Acc=0.1200 | F1=0.0817 Precision=0.0788 Recall=0.1091\n",
      "[06/20] Training Loss=2.7818 Training Acc=0.2112 | Validation Loss=2.7070 Validation Acc=0.2700 | F1=0.2073 Precision=0.2725 Recall=0.2743\n",
      "[07/20] Training Loss=2.5939 Training Acc=0.2600 | Validation Loss=3.3827 Validation Acc=0.1650 | F1=0.1117 Precision=0.1482 Recall=0.1546\n",
      "[08/20] Training Loss=2.4332 Training Acc=0.3006 | Validation Loss=2.5819 Validation Acc=0.2850 | F1=0.2438 Precision=0.2612 Recall=0.3231\n",
      "[09/20] Training Loss=2.2408 Training Acc=0.3356 | Validation Loss=2.2012 Validation Acc=0.3750 | F1=0.3256 Precision=0.3623 Recall=0.4072\n",
      "[10/20] Training Loss=2.0612 Training Acc=0.4113 | Validation Loss=2.1461 Validation Acc=0.3950 | F1=0.3336 Precision=0.3582 Recall=0.3847\n",
      "[11/20] Training Loss=1.8882 Training Acc=0.4487 | Validation Loss=1.9042 Validation Acc=0.4700 | F1=0.4062 Precision=0.4344 Recall=0.4728\n",
      "[12/20] Training Loss=1.7641 Training Acc=0.4756 | Validation Loss=1.7142 Validation Acc=0.5250 | F1=0.4928 Precision=0.5514 Recall=0.5295\n",
      "[13/20] Training Loss=1.5855 Training Acc=0.5306 | Validation Loss=1.6297 Validation Acc=0.5450 | F1=0.4963 Precision=0.5195 Recall=0.5540\n",
      "[14/20] Training Loss=1.4756 Training Acc=0.5725 | Validation Loss=1.4776 Validation Acc=0.5350 | F1=0.5087 Precision=0.5513 Recall=0.5459\n",
      "[15/20] Training Loss=1.3774 Training Acc=0.5969 | Validation Loss=1.3332 Validation Acc=0.6100 | F1=0.5555 Precision=0.5818 Recall=0.6118\n",
      "[16/20] Training Loss=1.2597 Training Acc=0.6362 | Validation Loss=1.2975 Validation Acc=0.6100 | F1=0.5710 Precision=0.6413 Recall=0.6030\n",
      "[17/20] Training Loss=1.2105 Training Acc=0.6525 | Validation Loss=1.2468 Validation Acc=0.6500 | F1=0.6119 Precision=0.6401 Recall=0.6510\n",
      "[18/20] Training Loss=1.1172 Training Acc=0.6919 | Validation Loss=1.2300 Validation Acc=0.6550 | F1=0.6172 Precision=0.6556 Recall=0.6568\n",
      "[19/20] Training Loss=1.1222 Training Acc=0.6850 | Validation Loss=1.2064 Validation Acc=0.6550 | F1=0.6227 Precision=0.6481 Recall=0.6584\n",
      "[20/20] Training Loss=1.0926 Training Acc=0.6950 | Validation Loss=1.1735 Validation Acc=0.6600 | F1=0.6230 Precision=0.6327 Recall=0.6554\n",
      "→ Mejor val_acc=0.6600 | Test_acc=0.6700 | F1=0.6308\n"
     ]
    },
    {
     "name": "stderr",
     "output_type": "stream",
     "text": [
      "/home/javialroro/miniconda3/envs/ml/lib/python3.13/site-packages/sklearn/metrics/_classification.py:1731: UndefinedMetricWarning: Precision is ill-defined and being set to 0.0 in labels with no predicted samples. Use `zero_division` parameter to control this behavior.\n",
      "  _warn_prf(average, modifier, f\"{metric.capitalize()} is\", result.shape[0])\n",
      "/home/javialroro/miniconda3/envs/ml/lib/python3.13/site-packages/sklearn/metrics/_classification.py:1731: UndefinedMetricWarning: Recall is ill-defined and being set to 0.0 in labels with no true samples. Use `zero_division` parameter to control this behavior.\n",
      "  _warn_prf(average, modifier, f\"{metric.capitalize()} is\", result.shape[0])\n"
     ]
    },
    {
     "data": {
      "text/html": [],
      "text/plain": [
       "<IPython.core.display.HTML object>"
      ]
     },
     "metadata": {},
     "output_type": "display_data"
    },
    {
     "data": {
      "text/html": [
       "<br>    <style><br>        .wandb-row {<br>            display: flex;<br>            flex-direction: row;<br>            flex-wrap: wrap;<br>            justify-content: flex-start;<br>            width: 100%;<br>        }<br>        .wandb-col {<br>            display: flex;<br>            flex-direction: column;<br>            flex-basis: 100%;<br>            flex: 1;<br>            padding: 10px;<br>        }<br>    </style><br><div class=\"wandb-row\"><div class=\"wandb-col\"><h3>Run history:</h3><br/><table class=\"wandb\"><tr><td>epoch</td><td>▁▁▂▂▂▃▃▄▄▄▅▅▅▆▆▇▇▇██</td></tr><tr><td>f1</td><td>▁▁▁▁▂▃▂▄▄▅▅▆▆▇▇▇█████</td></tr><tr><td>precision</td><td>▁▂▁▁▂▄▂▄▅▅▅▇▆▇▇██████</td></tr><tr><td>recall</td><td>▁▁▁▁▁▃▂▄▅▅▆▆▇▇▇▇█████</td></tr><tr><td>test_acc</td><td>▁</td></tr><tr><td>train_acc</td><td>▁▁▂▂▂▃▃▄▄▅▅▆▆▇▇▇████</td></tr><tr><td>train_loss</td><td>█▇▇▆▆▅▅▄▄▃▃▃▂▂▂▁▁▁▁▁</td></tr><tr><td>val_acc</td><td>▁▂▁▁▂▃▂▄▅▅▆▆▇▇▇▇████</td></tr><tr><td>val_loss</td><td>▆▆██▆▄▆▄▃▃▂▂▂▂▁▁▁▁▁▁</td></tr></table><br/></div><div class=\"wandb-col\"><h3>Run summary:</h3><br/><table class=\"wandb\"><tr><td>epoch</td><td>20</td></tr><tr><td>f1</td><td>0.63084</td></tr><tr><td>precision</td><td>0.66657</td></tr><tr><td>recall</td><td>0.67498</td></tr><tr><td>test_acc</td><td>0.67</td></tr><tr><td>train_acc</td><td>0.695</td></tr><tr><td>train_loss</td><td>1.09256</td></tr><tr><td>val_acc</td><td>0.66</td></tr><tr><td>val_loss</td><td>1.17346</td></tr></table><br/></div></div>"
      ],
      "text/plain": [
       "<IPython.core.display.HTML object>"
      ]
     },
     "metadata": {},
     "output_type": "display_data"
    },
    {
     "data": {
      "text/html": [
       " View run <strong style=\"color:#cdcd00\">base_run3</strong> at: <a href='https://wandb.ai/javialroro-tecnologico-de-costa-rica/Proyecto1_IA_ResNet/runs/d4bg8ky6' target=\"_blank\">https://wandb.ai/javialroro-tecnologico-de-costa-rica/Proyecto1_IA_ResNet/runs/d4bg8ky6</a><br> View project at: <a href='https://wandb.ai/javialroro-tecnologico-de-costa-rica/Proyecto1_IA_ResNet' target=\"_blank\">https://wandb.ai/javialroro-tecnologico-de-costa-rica/Proyecto1_IA_ResNet</a><br>Synced 5 W&B file(s), 0 media file(s), 0 artifact file(s) and 0 other file(s)"
      ],
      "text/plain": [
       "<IPython.core.display.HTML object>"
      ]
     },
     "metadata": {},
     "output_type": "display_data"
    },
    {
     "data": {
      "text/html": [
       "Find logs at: <code>./wandb/run-20251031_001334-d4bg8ky6/logs</code>"
      ],
      "text/plain": [
       "<IPython.core.display.HTML object>"
      ]
     },
     "metadata": {},
     "output_type": "display_data"
    },
    {
     "name": "stdout",
     "output_type": "stream",
     "text": [
      "\n",
      "Ejecutando experimento 4/5 ...\n"
     ]
    },
    {
     "data": {
      "text/html": [],
      "text/plain": [
       "<IPython.core.display.HTML object>"
      ]
     },
     "metadata": {},
     "output_type": "display_data"
    },
    {
     "data": {
      "text/html": [
       "Tracking run with wandb version 0.22.2"
      ],
      "text/plain": [
       "<IPython.core.display.HTML object>"
      ]
     },
     "metadata": {},
     "output_type": "display_data"
    },
    {
     "data": {
      "text/html": [
       "Run data is saved locally in <code>/home/javialroro/TEC/2025 II/IA/CNNVoiceRecognition/wandb/run-20251031_003507-7zub8g81</code>"
      ],
      "text/plain": [
       "<IPython.core.display.HTML object>"
      ]
     },
     "metadata": {},
     "output_type": "display_data"
    },
    {
     "data": {
      "text/html": [
       "Syncing run <strong><a href='https://wandb.ai/javialroro-tecnologico-de-costa-rica/Proyecto1_IA_ResNet/runs/7zub8g81' target=\"_blank\">base_run4</a></strong> to <a href='https://wandb.ai/javialroro-tecnologico-de-costa-rica/Proyecto1_IA_ResNet' target=\"_blank\">Weights & Biases</a> (<a href='https://wandb.me/developer-guide' target=\"_blank\">docs</a>)<br>"
      ],
      "text/plain": [
       "<IPython.core.display.HTML object>"
      ]
     },
     "metadata": {},
     "output_type": "display_data"
    },
    {
     "data": {
      "text/html": [
       " View project at <a href='https://wandb.ai/javialroro-tecnologico-de-costa-rica/Proyecto1_IA_ResNet' target=\"_blank\">https://wandb.ai/javialroro-tecnologico-de-costa-rica/Proyecto1_IA_ResNet</a>"
      ],
      "text/plain": [
       "<IPython.core.display.HTML object>"
      ]
     },
     "metadata": {},
     "output_type": "display_data"
    },
    {
     "data": {
      "text/html": [
       " View run at <a href='https://wandb.ai/javialroro-tecnologico-de-costa-rica/Proyecto1_IA_ResNet/runs/7zub8g81' target=\"_blank\">https://wandb.ai/javialroro-tecnologico-de-costa-rica/Proyecto1_IA_ResNet/runs/7zub8g81</a>"
      ],
      "text/plain": [
       "<IPython.core.display.HTML object>"
      ]
     },
     "metadata": {},
     "output_type": "display_data"
    },
    {
     "name": "stdout",
     "output_type": "stream",
     "text": [
      "[01/20] Training Loss=3.5255 Training Acc=0.0862 | Validation Loss=3.9502 Validation Acc=0.1100 | F1=0.0530 Precision=0.0513 Recall=0.0902\n",
      "[02/20] Training Loss=3.1309 Training Acc=0.1313 | Validation Loss=3.0052 Validation Acc=0.1850 | F1=0.1227 Precision=0.1213 Recall=0.1756\n",
      "[03/20] Training Loss=2.9309 Training Acc=0.1800 | Validation Loss=3.1178 Validation Acc=0.1300 | F1=0.0813 Precision=0.0774 Recall=0.1336\n",
      "[04/20] Training Loss=2.7315 Training Acc=0.2162 | Validation Loss=2.8062 Validation Acc=0.2300 | F1=0.1630 Precision=0.1590 Recall=0.2487\n",
      "[05/20] Training Loss=2.6088 Training Acc=0.2569 | Validation Loss=4.0748 Validation Acc=0.1350 | F1=0.0838 Precision=0.0850 Recall=0.1456\n",
      "[06/20] Training Loss=2.4739 Training Acc=0.2794 | Validation Loss=2.5845 Validation Acc=0.2550 | F1=0.1839 Precision=0.2034 Recall=0.2566\n",
      "[07/20] Training Loss=2.3790 Training Acc=0.3100 | Validation Loss=3.2981 Validation Acc=0.1950 | F1=0.1488 Precision=0.1520 Recall=0.2331\n",
      "[08/20] Training Loss=2.3786 Training Acc=0.3156 | Validation Loss=2.5542 Validation Acc=0.2850 | F1=0.2106 Precision=0.2511 Recall=0.2852\n",
      "[09/20] Training Loss=2.1823 Training Acc=0.3631 | Validation Loss=2.9285 Validation Acc=0.2200 | F1=0.1836 Precision=0.2002 Recall=0.2617\n",
      "[10/20] Training Loss=2.0946 Training Acc=0.3812 | Validation Loss=2.2258 Validation Acc=0.3500 | F1=0.3298 Precision=0.3842 Recall=0.3908\n",
      "[11/20] Training Loss=2.0093 Training Acc=0.4181 | Validation Loss=2.0392 Validation Acc=0.3700 | F1=0.3130 Precision=0.3738 Recall=0.3680\n",
      "[12/20] Training Loss=1.8843 Training Acc=0.4531 | Validation Loss=2.0641 Validation Acc=0.4550 | F1=0.4032 Precision=0.4354 Recall=0.4749\n",
      "[13/20] Training Loss=1.8049 Training Acc=0.4625 | Validation Loss=1.8433 Validation Acc=0.4700 | F1=0.4116 Precision=0.4514 Recall=0.4856\n",
      "[14/20] Training Loss=1.7044 Training Acc=0.5119 | Validation Loss=1.7107 Validation Acc=0.4950 | F1=0.4377 Precision=0.4723 Recall=0.4937\n",
      "[15/20] Training Loss=1.5990 Training Acc=0.5494 | Validation Loss=1.7296 Validation Acc=0.4850 | F1=0.4280 Precision=0.4815 Recall=0.4780\n",
      "[16/20] Training Loss=1.5334 Training Acc=0.5719 | Validation Loss=1.5952 Validation Acc=0.5250 | F1=0.4729 Precision=0.5323 Recall=0.5208\n",
      "[17/20] Training Loss=1.4515 Training Acc=0.6069 | Validation Loss=1.4360 Validation Acc=0.5750 | F1=0.5332 Precision=0.5573 Recall=0.5822\n",
      "[18/20] Training Loss=1.3680 Training Acc=0.6281 | Validation Loss=1.3884 Validation Acc=0.6150 | F1=0.5718 Precision=0.5856 Recall=0.6157\n",
      "[19/20] Training Loss=1.3307 Training Acc=0.6412 | Validation Loss=1.3403 Validation Acc=0.6250 | F1=0.5883 Precision=0.6102 Recall=0.6292\n",
      "[20/20] Training Loss=1.3161 Training Acc=0.6575 | Validation Loss=1.3491 Validation Acc=0.6000 | F1=0.5452 Precision=0.5556 Recall=0.5964\n",
      "→ Mejor val_acc=0.6250 | Test_acc=0.5750 | F1=0.5578\n"
     ]
    },
    {
     "name": "stderr",
     "output_type": "stream",
     "text": [
      "/home/javialroro/miniconda3/envs/ml/lib/python3.13/site-packages/sklearn/metrics/_classification.py:1731: UndefinedMetricWarning: Recall is ill-defined and being set to 0.0 in labels with no true samples. Use `zero_division` parameter to control this behavior.\n",
      "  _warn_prf(average, modifier, f\"{metric.capitalize()} is\", result.shape[0])\n"
     ]
    },
    {
     "data": {
      "text/html": [],
      "text/plain": [
       "<IPython.core.display.HTML object>"
      ]
     },
     "metadata": {},
     "output_type": "display_data"
    },
    {
     "data": {
      "text/html": [
       "<br>    <style><br>        .wandb-row {<br>            display: flex;<br>            flex-direction: row;<br>            flex-wrap: wrap;<br>            justify-content: flex-start;<br>            width: 100%;<br>        }<br>        .wandb-col {<br>            display: flex;<br>            flex-direction: column;<br>            flex-basis: 100%;<br>            flex: 1;<br>            padding: 10px;<br>        }<br>    </style><br><div class=\"wandb-row\"><div class=\"wandb-col\"><h3>Run history:</h3><br/><table class=\"wandb\"><tr><td>epoch</td><td>▁▁▂▂▂▃▃▄▄▄▅▅▅▆▆▇▇▇██</td></tr><tr><td>f1</td><td>▁▂▁▂▁▃▂▃▃▅▄▆▆▆▆▆▇██▇█</td></tr><tr><td>precision</td><td>▁▂▁▂▁▃▂▃▃▅▅▆▆▆▆▇▇██▇█</td></tr><tr><td>recall</td><td>▁▂▂▃▂▃▃▄▃▅▅▆▆▆▆▇▇████</td></tr><tr><td>test_acc</td><td>▁</td></tr><tr><td>train_acc</td><td>▁▂▂▃▃▃▄▄▄▅▅▅▆▆▇▇▇███</td></tr><tr><td>train_loss</td><td>█▇▆▅▅▅▄▄▄▃▃▃▃▂▂▂▁▁▁▁</td></tr><tr><td>val_acc</td><td>▁▂▁▃▁▃▂▃▂▄▅▆▆▆▆▇▇███</td></tr><tr><td>val_loss</td><td>█▅▆▅█▄▆▄▅▃▃▃▂▂▂▂▁▁▁▁</td></tr></table><br/></div><div class=\"wandb-col\"><h3>Run summary:</h3><br/><table class=\"wandb\"><tr><td>epoch</td><td>20</td></tr><tr><td>f1</td><td>0.55781</td></tr><tr><td>precision</td><td>0.61557</td></tr><tr><td>recall</td><td>0.60114</td></tr><tr><td>test_acc</td><td>0.575</td></tr><tr><td>train_acc</td><td>0.6575</td></tr><tr><td>train_loss</td><td>1.31614</td></tr><tr><td>val_acc</td><td>0.6</td></tr><tr><td>val_loss</td><td>1.3491</td></tr></table><br/></div></div>"
      ],
      "text/plain": [
       "<IPython.core.display.HTML object>"
      ]
     },
     "metadata": {},
     "output_type": "display_data"
    },
    {
     "data": {
      "text/html": [
       " View run <strong style=\"color:#cdcd00\">base_run4</strong> at: <a href='https://wandb.ai/javialroro-tecnologico-de-costa-rica/Proyecto1_IA_ResNet/runs/7zub8g81' target=\"_blank\">https://wandb.ai/javialroro-tecnologico-de-costa-rica/Proyecto1_IA_ResNet/runs/7zub8g81</a><br> View project at: <a href='https://wandb.ai/javialroro-tecnologico-de-costa-rica/Proyecto1_IA_ResNet' target=\"_blank\">https://wandb.ai/javialroro-tecnologico-de-costa-rica/Proyecto1_IA_ResNet</a><br>Synced 5 W&B file(s), 0 media file(s), 0 artifact file(s) and 0 other file(s)"
      ],
      "text/plain": [
       "<IPython.core.display.HTML object>"
      ]
     },
     "metadata": {},
     "output_type": "display_data"
    },
    {
     "data": {
      "text/html": [
       "Find logs at: <code>./wandb/run-20251031_003507-7zub8g81/logs</code>"
      ],
      "text/plain": [
       "<IPython.core.display.HTML object>"
      ]
     },
     "metadata": {},
     "output_type": "display_data"
    },
    {
     "name": "stdout",
     "output_type": "stream",
     "text": [
      "\n",
      "Ejecutando experimento 5/5 ...\n"
     ]
    },
    {
     "data": {
      "text/html": [],
      "text/plain": [
       "<IPython.core.display.HTML object>"
      ]
     },
     "metadata": {},
     "output_type": "display_data"
    },
    {
     "data": {
      "text/html": [
       "Tracking run with wandb version 0.22.2"
      ],
      "text/plain": [
       "<IPython.core.display.HTML object>"
      ]
     },
     "metadata": {},
     "output_type": "display_data"
    },
    {
     "data": {
      "text/html": [
       "Run data is saved locally in <code>/home/javialroro/TEC/2025 II/IA/CNNVoiceRecognition/wandb/run-20251031_005659-wmcg2bnr</code>"
      ],
      "text/plain": [
       "<IPython.core.display.HTML object>"
      ]
     },
     "metadata": {},
     "output_type": "display_data"
    },
    {
     "data": {
      "text/html": [
       "Syncing run <strong><a href='https://wandb.ai/javialroro-tecnologico-de-costa-rica/Proyecto1_IA_ResNet/runs/wmcg2bnr' target=\"_blank\">base_run5</a></strong> to <a href='https://wandb.ai/javialroro-tecnologico-de-costa-rica/Proyecto1_IA_ResNet' target=\"_blank\">Weights & Biases</a> (<a href='https://wandb.me/developer-guide' target=\"_blank\">docs</a>)<br>"
      ],
      "text/plain": [
       "<IPython.core.display.HTML object>"
      ]
     },
     "metadata": {},
     "output_type": "display_data"
    },
    {
     "data": {
      "text/html": [
       " View project at <a href='https://wandb.ai/javialroro-tecnologico-de-costa-rica/Proyecto1_IA_ResNet' target=\"_blank\">https://wandb.ai/javialroro-tecnologico-de-costa-rica/Proyecto1_IA_ResNet</a>"
      ],
      "text/plain": [
       "<IPython.core.display.HTML object>"
      ]
     },
     "metadata": {},
     "output_type": "display_data"
    },
    {
     "data": {
      "text/html": [
       " View run at <a href='https://wandb.ai/javialroro-tecnologico-de-costa-rica/Proyecto1_IA_ResNet/runs/wmcg2bnr' target=\"_blank\">https://wandb.ai/javialroro-tecnologico-de-costa-rica/Proyecto1_IA_ResNet/runs/wmcg2bnr</a>"
      ],
      "text/plain": [
       "<IPython.core.display.HTML object>"
      ]
     },
     "metadata": {},
     "output_type": "display_data"
    },
    {
     "name": "stdout",
     "output_type": "stream",
     "text": [
      "[01/25] Training Loss=3.5178 Training Acc=0.0894 | Validation Loss=3.1652 Validation Acc=0.1100 | F1=0.0535 Precision=0.0381 Recall=0.1274\n",
      "[02/25] Training Loss=3.0153 Training Acc=0.1888 | Validation Loss=3.0229 Validation Acc=0.1600 | F1=0.1152 Precision=0.1334 Recall=0.1745\n",
      "[03/25] Training Loss=2.7609 Training Acc=0.2506 | Validation Loss=2.8061 Validation Acc=0.2450 | F1=0.1740 Precision=0.1869 Recall=0.2765\n",
      "[04/25] Training Loss=2.5353 Training Acc=0.2969 | Validation Loss=2.7579 Validation Acc=0.2350 | F1=0.1944 Precision=0.2229 Recall=0.2524\n",
      "[05/25] Training Loss=2.3900 Training Acc=0.3419 | Validation Loss=2.2796 Validation Acc=0.3450 | F1=0.2870 Precision=0.3067 Recall=0.3508\n",
      "[06/25] Training Loss=2.2322 Training Acc=0.3844 | Validation Loss=2.1662 Validation Acc=0.4100 | F1=0.3748 Precision=0.4172 Recall=0.4285\n",
      "[07/25] Training Loss=2.1308 Training Acc=0.4081 | Validation Loss=2.0105 Validation Acc=0.4450 | F1=0.3929 Precision=0.4051 Recall=0.4694\n",
      "[08/25] Training Loss=1.9981 Training Acc=0.4544 | Validation Loss=1.8592 Validation Acc=0.4900 | F1=0.4203 Precision=0.4283 Recall=0.4940\n",
      "[09/25] Training Loss=1.9021 Training Acc=0.4738 | Validation Loss=1.7394 Validation Acc=0.5100 | F1=0.4437 Precision=0.4682 Recall=0.5137\n",
      "[10/25] Training Loss=1.7417 Training Acc=0.5325 | Validation Loss=1.6751 Validation Acc=0.5350 | F1=0.4876 Precision=0.5235 Recall=0.5455\n",
      "[11/25] Training Loss=1.6881 Training Acc=0.5406 | Validation Loss=1.7847 Validation Acc=0.4650 | F1=0.4322 Precision=0.5059 Recall=0.4984\n",
      "[12/25] Training Loss=1.5815 Training Acc=0.5725 | Validation Loss=1.5256 Validation Acc=0.5600 | F1=0.5308 Precision=0.5695 Recall=0.5756\n",
      "[13/25] Training Loss=1.4931 Training Acc=0.6050 | Validation Loss=1.5430 Validation Acc=0.5900 | F1=0.5316 Precision=0.5777 Recall=0.5814\n",
      "[14/25] Training Loss=1.4265 Training Acc=0.6194 | Validation Loss=1.4123 Validation Acc=0.6200 | F1=0.5699 Precision=0.5919 Recall=0.6158\n",
      "[15/25] Training Loss=1.3681 Training Acc=0.6456 | Validation Loss=1.4298 Validation Acc=0.5900 | F1=0.5326 Precision=0.5587 Recall=0.5900\n",
      "[16/25] Training Loss=1.2793 Training Acc=0.6831 | Validation Loss=1.2993 Validation Acc=0.6500 | F1=0.6099 Precision=0.6403 Recall=0.6566\n",
      "[17/25] Training Loss=1.2262 Training Acc=0.7025 | Validation Loss=1.2246 Validation Acc=0.6350 | F1=0.5799 Precision=0.6009 Recall=0.6328\n",
      "[18/25] Training Loss=1.1645 Training Acc=0.7319 | Validation Loss=1.2218 Validation Acc=0.6300 | F1=0.5896 Precision=0.6143 Recall=0.6228\n",
      "[19/25] Training Loss=1.1057 Training Acc=0.7412 | Validation Loss=1.1890 Validation Acc=0.6650 | F1=0.6261 Precision=0.6484 Recall=0.6608\n",
      "[20/25] Training Loss=1.0744 Training Acc=0.7556 | Validation Loss=1.1862 Validation Acc=0.6750 | F1=0.6341 Precision=0.6420 Recall=0.6747\n",
      "[21/25] Training Loss=1.0524 Training Acc=0.7506 | Validation Loss=1.1387 Validation Acc=0.6700 | F1=0.6405 Precision=0.6781 Recall=0.6768\n",
      "[22/25] Training Loss=1.0230 Training Acc=0.7738 | Validation Loss=1.1084 Validation Acc=0.6750 | F1=0.6322 Precision=0.6444 Recall=0.6692\n",
      "[23/25] Training Loss=0.9984 Training Acc=0.7744 | Validation Loss=1.1455 Validation Acc=0.6600 | F1=0.6237 Precision=0.6524 Recall=0.6620\n",
      "[24/25] Training Loss=0.9855 Training Acc=0.7925 | Validation Loss=1.1228 Validation Acc=0.7150 | F1=0.6773 Precision=0.7007 Recall=0.7072\n",
      "[25/25] Training Loss=0.9749 Training Acc=0.7981 | Validation Loss=1.1140 Validation Acc=0.7100 | F1=0.6679 Precision=0.6827 Recall=0.7001\n",
      "→ Mejor val_acc=0.7150 | Test_acc=0.6900 | F1=0.6655\n"
     ]
    },
    {
     "name": "stderr",
     "output_type": "stream",
     "text": [
      "/home/javialroro/miniconda3/envs/ml/lib/python3.13/site-packages/sklearn/metrics/_classification.py:1731: UndefinedMetricWarning: Recall is ill-defined and being set to 0.0 in labels with no true samples. Use `zero_division` parameter to control this behavior.\n",
      "  _warn_prf(average, modifier, f\"{metric.capitalize()} is\", result.shape[0])\n"
     ]
    },
    {
     "data": {
      "text/html": [],
      "text/plain": [
       "<IPython.core.display.HTML object>"
      ]
     },
     "metadata": {},
     "output_type": "display_data"
    },
    {
     "data": {
      "text/html": [
       "<br>    <style><br>        .wandb-row {<br>            display: flex;<br>            flex-direction: row;<br>            flex-wrap: wrap;<br>            justify-content: flex-start;<br>            width: 100%;<br>        }<br>        .wandb-col {<br>            display: flex;<br>            flex-direction: column;<br>            flex-basis: 100%;<br>            flex: 1;<br>            padding: 10px;<br>        }<br>    </style><br><div class=\"wandb-row\"><div class=\"wandb-col\"><h3>Run history:</h3><br/><table class=\"wandb\"><tr><td>epoch</td><td>▁▁▂▂▂▂▃▃▃▄▄▄▅▅▅▅▆▆▆▇▇▇▇██</td></tr><tr><td>f1</td><td>▁▂▂▃▄▅▅▅▅▆▅▆▆▇▆▇▇▇▇██▇▇███</td></tr><tr><td>precision</td><td>▁▂▃▃▄▅▅▅▆▆▆▇▇▇▆▇▇▇▇▇█▇▇███</td></tr><tr><td>recall</td><td>▁▂▃▃▄▅▅▅▆▆▅▆▆▇▇▇▇▇▇███▇███</td></tr><tr><td>test_acc</td><td>▁</td></tr><tr><td>train_acc</td><td>▁▂▃▃▃▄▄▅▅▅▅▆▆▆▆▇▇▇▇██████</td></tr><tr><td>train_loss</td><td>█▇▆▅▅▄▄▄▄▃▃▃▂▂▂▂▂▂▁▁▁▁▁▁▁</td></tr><tr><td>val_acc</td><td>▁▂▃▂▄▄▅▅▆▆▅▆▇▇▇▇▇▇▇█▇█▇██</td></tr><tr><td>val_loss</td><td>██▇▇▅▅▄▄▃▃▃▂▂▂▂▂▁▁▁▁▁▁▁▁▁</td></tr></table><br/></div><div class=\"wandb-col\"><h3>Run summary:</h3><br/><table class=\"wandb\"><tr><td>epoch</td><td>25</td></tr><tr><td>f1</td><td>0.66552</td></tr><tr><td>precision</td><td>0.70098</td></tr><tr><td>recall</td><td>0.69536</td></tr><tr><td>test_acc</td><td>0.69</td></tr><tr><td>train_acc</td><td>0.79812</td></tr><tr><td>train_loss</td><td>0.97491</td></tr><tr><td>val_acc</td><td>0.71</td></tr><tr><td>val_loss</td><td>1.11403</td></tr></table><br/></div></div>"
      ],
      "text/plain": [
       "<IPython.core.display.HTML object>"
      ]
     },
     "metadata": {},
     "output_type": "display_data"
    },
    {
     "data": {
      "text/html": [
       " View run <strong style=\"color:#cdcd00\">base_run5</strong> at: <a href='https://wandb.ai/javialroro-tecnologico-de-costa-rica/Proyecto1_IA_ResNet/runs/wmcg2bnr' target=\"_blank\">https://wandb.ai/javialroro-tecnologico-de-costa-rica/Proyecto1_IA_ResNet/runs/wmcg2bnr</a><br> View project at: <a href='https://wandb.ai/javialroro-tecnologico-de-costa-rica/Proyecto1_IA_ResNet' target=\"_blank\">https://wandb.ai/javialroro-tecnologico-de-costa-rica/Proyecto1_IA_ResNet</a><br>Synced 5 W&B file(s), 0 media file(s), 0 artifact file(s) and 0 other file(s)"
      ],
      "text/plain": [
       "<IPython.core.display.HTML object>"
      ]
     },
     "metadata": {},
     "output_type": "display_data"
    },
    {
     "data": {
      "text/html": [
       "Find logs at: <code>./wandb/run-20251031_005659-wmcg2bnr/logs</code>"
      ],
      "text/plain": [
       "<IPython.core.display.HTML object>"
      ]
     },
     "metadata": {},
     "output_type": "display_data"
    },
    {
     "name": "stdout",
     "output_type": "stream",
     "text": [
      "\n",
      "=== Dataset: augmented ===\n",
      "\n",
      "Ejecutando experimento 1/5 ...\n"
     ]
    },
    {
     "data": {
      "text/html": [],
      "text/plain": [
       "<IPython.core.display.HTML object>"
      ]
     },
     "metadata": {},
     "output_type": "display_data"
    },
    {
     "data": {
      "text/html": [
       "Tracking run with wandb version 0.22.2"
      ],
      "text/plain": [
       "<IPython.core.display.HTML object>"
      ]
     },
     "metadata": {},
     "output_type": "display_data"
    },
    {
     "data": {
      "text/html": [
       "Run data is saved locally in <code>/home/javialroro/TEC/2025 II/IA/CNNVoiceRecognition/wandb/run-20251031_012359-7y8r3mgk</code>"
      ],
      "text/plain": [
       "<IPython.core.display.HTML object>"
      ]
     },
     "metadata": {},
     "output_type": "display_data"
    },
    {
     "data": {
      "text/html": [
       "Syncing run <strong><a href='https://wandb.ai/javialroro-tecnologico-de-costa-rica/Proyecto1_IA_ResNet/runs/7y8r3mgk' target=\"_blank\">augmented_run1</a></strong> to <a href='https://wandb.ai/javialroro-tecnologico-de-costa-rica/Proyecto1_IA_ResNet' target=\"_blank\">Weights & Biases</a> (<a href='https://wandb.me/developer-guide' target=\"_blank\">docs</a>)<br>"
      ],
      "text/plain": [
       "<IPython.core.display.HTML object>"
      ]
     },
     "metadata": {},
     "output_type": "display_data"
    },
    {
     "data": {
      "text/html": [
       " View project at <a href='https://wandb.ai/javialroro-tecnologico-de-costa-rica/Proyecto1_IA_ResNet' target=\"_blank\">https://wandb.ai/javialroro-tecnologico-de-costa-rica/Proyecto1_IA_ResNet</a>"
      ],
      "text/plain": [
       "<IPython.core.display.HTML object>"
      ]
     },
     "metadata": {},
     "output_type": "display_data"
    },
    {
     "data": {
      "text/html": [
       " View run at <a href='https://wandb.ai/javialroro-tecnologico-de-costa-rica/Proyecto1_IA_ResNet/runs/7y8r3mgk' target=\"_blank\">https://wandb.ai/javialroro-tecnologico-de-costa-rica/Proyecto1_IA_ResNet/runs/7y8r3mgk</a>"
      ],
      "text/plain": [
       "<IPython.core.display.HTML object>"
      ]
     },
     "metadata": {},
     "output_type": "display_data"
    },
    {
     "name": "stdout",
     "output_type": "stream",
     "text": [
      "[01/15] Training Loss=3.5950 Training Acc=0.0665 | Validation Loss=3.3461 Validation Acc=0.1067 | F1=0.0614 Precision=0.0518 Recall=0.1093\n",
      "[02/15] Training Loss=3.0694 Training Acc=0.1506 | Validation Loss=3.7514 Validation Acc=0.1383 | F1=0.0905 Precision=0.1082 Recall=0.1310\n",
      "[03/15] Training Loss=2.6736 Training Acc=0.2356 | Validation Loss=2.3900 Validation Acc=0.3150 | F1=0.2891 Precision=0.3990 Recall=0.3166\n",
      "[04/15] Training Loss=2.2974 Training Acc=0.3290 | Validation Loss=9.5788 Validation Acc=0.1067 | F1=0.0863 Precision=0.1891 Recall=0.1022\n",
      "[05/15] Training Loss=1.9922 Training Acc=0.4167 | Validation Loss=1.7673 Validation Acc=0.4633 | F1=0.4353 Precision=0.5292 Recall=0.4702\n",
      "[06/15] Training Loss=1.6811 Training Acc=0.4977 | Validation Loss=1.8093 Validation Acc=0.4933 | F1=0.4568 Precision=0.5825 Recall=0.4993\n",
      "[07/15] Training Loss=1.4356 Training Acc=0.5652 | Validation Loss=2.0157 Validation Acc=0.4900 | F1=0.4672 Precision=0.6131 Recall=0.4881\n",
      "[08/15] Training Loss=1.2278 Training Acc=0.6325 | Validation Loss=1.1717 Validation Acc=0.6467 | F1=0.6294 Precision=0.6704 Recall=0.6556\n",
      "[09/15] Training Loss=1.0707 Training Acc=0.6846 | Validation Loss=0.9262 Validation Acc=0.7267 | F1=0.7121 Precision=0.7544 Recall=0.7221\n",
      "[10/15] Training Loss=0.8973 Training Acc=0.7356 | Validation Loss=0.8587 Validation Acc=0.7433 | F1=0.7366 Precision=0.7666 Recall=0.7487\n",
      "[11/15] Training Loss=0.7465 Training Acc=0.7850 | Validation Loss=0.7071 Validation Acc=0.8000 | F1=0.7900 Precision=0.8159 Recall=0.8035\n",
      "[12/15] Training Loss=0.6275 Training Acc=0.8277 | Validation Loss=0.5193 Validation Acc=0.8567 | F1=0.8489 Precision=0.8667 Recall=0.8541\n",
      "[13/15] Training Loss=0.5377 Training Acc=0.8569 | Validation Loss=0.5251 Validation Acc=0.8500 | F1=0.8442 Precision=0.8610 Recall=0.8515\n",
      "[14/15] Training Loss=0.4786 Training Acc=0.8783 | Validation Loss=0.4422 Validation Acc=0.8833 | F1=0.8783 Precision=0.8876 Recall=0.8851\n",
      "[15/15] Training Loss=0.4199 Training Acc=0.9077 | Validation Loss=0.4231 Validation Acc=0.8900 | F1=0.8831 Precision=0.8914 Recall=0.8892\n",
      "→ Mejor val_acc=0.8900 | Test_acc=0.8900 | F1=0.8780\n"
     ]
    },
    {
     "data": {
      "text/html": [],
      "text/plain": [
       "<IPython.core.display.HTML object>"
      ]
     },
     "metadata": {},
     "output_type": "display_data"
    },
    {
     "data": {
      "text/html": [
       "<br>    <style><br>        .wandb-row {<br>            display: flex;<br>            flex-direction: row;<br>            flex-wrap: wrap;<br>            justify-content: flex-start;<br>            width: 100%;<br>        }<br>        .wandb-col {<br>            display: flex;<br>            flex-direction: column;<br>            flex-basis: 100%;<br>            flex: 1;<br>            padding: 10px;<br>        }<br>    </style><br><div class=\"wandb-row\"><div class=\"wandb-col\"><h3>Run history:</h3><br/><table class=\"wandb\"><tr><td>epoch</td><td>▁▁▂▃▃▃▄▅▅▅▆▇▇▇█</td></tr><tr><td>f1</td><td>▁▁▃▁▄▄▄▆▇▇▇█████</td></tr><tr><td>precision</td><td>▁▁▄▂▅▅▆▆▇▇▇█████</td></tr><tr><td>recall</td><td>▁▁▃▁▄▅▄▆▇▇▇█████</td></tr><tr><td>test_acc</td><td>▁</td></tr><tr><td>train_acc</td><td>▁▂▂▃▄▅▅▆▆▇▇▇███</td></tr><tr><td>train_loss</td><td>█▇▆▅▄▄▃▃▂▂▂▁▁▁▁</td></tr><tr><td>val_acc</td><td>▁▁▃▁▄▄▄▆▇▇▇████</td></tr><tr><td>val_loss</td><td>▃▄▃█▂▂▂▂▁▁▁▁▁▁▁</td></tr></table><br/></div><div class=\"wandb-col\"><h3>Run summary:</h3><br/><table class=\"wandb\"><tr><td>epoch</td><td>15</td></tr><tr><td>f1</td><td>0.87802</td></tr><tr><td>precision</td><td>0.89087</td></tr><tr><td>recall</td><td>0.88431</td></tr><tr><td>test_acc</td><td>0.89</td></tr><tr><td>train_acc</td><td>0.90771</td></tr><tr><td>train_loss</td><td>0.41988</td></tr><tr><td>val_acc</td><td>0.89</td></tr><tr><td>val_loss</td><td>0.42305</td></tr></table><br/></div></div>"
      ],
      "text/plain": [
       "<IPython.core.display.HTML object>"
      ]
     },
     "metadata": {},
     "output_type": "display_data"
    },
    {
     "data": {
      "text/html": [
       " View run <strong style=\"color:#cdcd00\">augmented_run1</strong> at: <a href='https://wandb.ai/javialroro-tecnologico-de-costa-rica/Proyecto1_IA_ResNet/runs/7y8r3mgk' target=\"_blank\">https://wandb.ai/javialroro-tecnologico-de-costa-rica/Proyecto1_IA_ResNet/runs/7y8r3mgk</a><br> View project at: <a href='https://wandb.ai/javialroro-tecnologico-de-costa-rica/Proyecto1_IA_ResNet' target=\"_blank\">https://wandb.ai/javialroro-tecnologico-de-costa-rica/Proyecto1_IA_ResNet</a><br>Synced 5 W&B file(s), 0 media file(s), 0 artifact file(s) and 0 other file(s)"
      ],
      "text/plain": [
       "<IPython.core.display.HTML object>"
      ]
     },
     "metadata": {},
     "output_type": "display_data"
    },
    {
     "data": {
      "text/html": [
       "Find logs at: <code>./wandb/run-20251031_012359-7y8r3mgk/logs</code>"
      ],
      "text/plain": [
       "<IPython.core.display.HTML object>"
      ]
     },
     "metadata": {},
     "output_type": "display_data"
    },
    {
     "name": "stdout",
     "output_type": "stream",
     "text": [
      "\n",
      "Ejecutando experimento 2/5 ...\n"
     ]
    },
    {
     "data": {
      "text/html": [],
      "text/plain": [
       "<IPython.core.display.HTML object>"
      ]
     },
     "metadata": {},
     "output_type": "display_data"
    },
    {
     "data": {
      "text/html": [
       "Tracking run with wandb version 0.22.2"
      ],
      "text/plain": [
       "<IPython.core.display.HTML object>"
      ]
     },
     "metadata": {},
     "output_type": "display_data"
    },
    {
     "data": {
      "text/html": [
       "Run data is saved locally in <code>/home/javialroro/TEC/2025 II/IA/CNNVoiceRecognition/wandb/run-20251031_021317-4bq4io3g</code>"
      ],
      "text/plain": [
       "<IPython.core.display.HTML object>"
      ]
     },
     "metadata": {},
     "output_type": "display_data"
    },
    {
     "data": {
      "text/html": [
       "Syncing run <strong><a href='https://wandb.ai/javialroro-tecnologico-de-costa-rica/Proyecto1_IA_ResNet/runs/4bq4io3g' target=\"_blank\">augmented_run2</a></strong> to <a href='https://wandb.ai/javialroro-tecnologico-de-costa-rica/Proyecto1_IA_ResNet' target=\"_blank\">Weights & Biases</a> (<a href='https://wandb.me/developer-guide' target=\"_blank\">docs</a>)<br>"
      ],
      "text/plain": [
       "<IPython.core.display.HTML object>"
      ]
     },
     "metadata": {},
     "output_type": "display_data"
    },
    {
     "data": {
      "text/html": [
       " View project at <a href='https://wandb.ai/javialroro-tecnologico-de-costa-rica/Proyecto1_IA_ResNet' target=\"_blank\">https://wandb.ai/javialroro-tecnologico-de-costa-rica/Proyecto1_IA_ResNet</a>"
      ],
      "text/plain": [
       "<IPython.core.display.HTML object>"
      ]
     },
     "metadata": {},
     "output_type": "display_data"
    },
    {
     "data": {
      "text/html": [
       " View run at <a href='https://wandb.ai/javialroro-tecnologico-de-costa-rica/Proyecto1_IA_ResNet/runs/4bq4io3g' target=\"_blank\">https://wandb.ai/javialroro-tecnologico-de-costa-rica/Proyecto1_IA_ResNet/runs/4bq4io3g</a>"
      ],
      "text/plain": [
       "<IPython.core.display.HTML object>"
      ]
     },
     "metadata": {},
     "output_type": "display_data"
    },
    {
     "name": "stdout",
     "output_type": "stream",
     "text": [
      "[01/15] Training Loss=3.3683 Training Acc=0.1100 | Validation Loss=2.7935 Validation Acc=0.1967 | F1=0.1399 Precision=0.1889 Recall=0.2094\n",
      "[02/15] Training Loss=2.5887 Training Acc=0.2631 | Validation Loss=2.4155 Validation Acc=0.2833 | F1=0.2287 Precision=0.2982 Recall=0.2812\n",
      "[03/15] Training Loss=2.1518 Training Acc=0.3675 | Validation Loss=2.1762 Validation Acc=0.4167 | F1=0.3832 Precision=0.4857 Recall=0.4042\n",
      "[04/15] Training Loss=1.8764 Training Acc=0.4450 | Validation Loss=1.4742 Validation Acc=0.5533 | F1=0.5268 Precision=0.5884 Recall=0.5564\n",
      "[05/15] Training Loss=1.6142 Training Acc=0.5219 | Validation Loss=1.3446 Validation Acc=0.6000 | F1=0.5825 Precision=0.6478 Recall=0.6018\n",
      "[06/15] Training Loss=1.3728 Training Acc=0.5883 | Validation Loss=1.3183 Validation Acc=0.6017 | F1=0.5881 Precision=0.7018 Recall=0.6110\n",
      "[07/15] Training Loss=1.2342 Training Acc=0.6302 | Validation Loss=1.9611 Validation Acc=0.4700 | F1=0.4507 Precision=0.6071 Recall=0.4729\n",
      "[08/15] Training Loss=1.0521 Training Acc=0.6883 | Validation Loss=1.0711 Validation Acc=0.6850 | F1=0.6550 Precision=0.7350 Recall=0.6734\n",
      "[09/15] Training Loss=0.9113 Training Acc=0.7306 | Validation Loss=0.9034 Validation Acc=0.7067 | F1=0.7014 Precision=0.7588 Recall=0.7066\n",
      "[10/15] Training Loss=0.7838 Training Acc=0.7717 | Validation Loss=0.6654 Validation Acc=0.8150 | F1=0.8087 Precision=0.8301 Recall=0.8226\n",
      "[11/15] Training Loss=0.6620 Training Acc=0.8192 | Validation Loss=0.6982 Validation Acc=0.7933 | F1=0.7859 Precision=0.8164 Recall=0.8072\n",
      "[12/15] Training Loss=0.5750 Training Acc=0.8512 | Validation Loss=0.4808 Validation Acc=0.8717 | F1=0.8687 Precision=0.8787 Recall=0.8782\n",
      "[13/15] Training Loss=0.5084 Training Acc=0.8702 | Validation Loss=0.4354 Validation Acc=0.8800 | F1=0.8768 Precision=0.8844 Recall=0.8860\n",
      "[14/15] Training Loss=0.4498 Training Acc=0.8954 | Validation Loss=0.4258 Validation Acc=0.8933 | F1=0.8892 Precision=0.8986 Recall=0.9001\n",
      "[15/15] Training Loss=0.4309 Training Acc=0.9083 | Validation Loss=0.4033 Validation Acc=0.9100 | F1=0.9077 Precision=0.9101 Recall=0.9159\n",
      "→ Mejor val_acc=0.9100 | Test_acc=0.8883 | F1=0.8806\n"
     ]
    },
    {
     "data": {
      "text/html": [],
      "text/plain": [
       "<IPython.core.display.HTML object>"
      ]
     },
     "metadata": {},
     "output_type": "display_data"
    },
    {
     "data": {
      "text/html": [
       "<br>    <style><br>        .wandb-row {<br>            display: flex;<br>            flex-direction: row;<br>            flex-wrap: wrap;<br>            justify-content: flex-start;<br>            width: 100%;<br>        }<br>        .wandb-col {<br>            display: flex;<br>            flex-direction: column;<br>            flex-basis: 100%;<br>            flex: 1;<br>            padding: 10px;<br>        }<br>    </style><br><div class=\"wandb-row\"><div class=\"wandb-col\"><h3>Run history:</h3><br/><table class=\"wandb\"><tr><td>epoch</td><td>▁▁▂▃▃▃▄▅▅▅▆▇▇▇█</td></tr><tr><td>f1</td><td>▁▂▃▅▅▅▄▆▆▇▇█████</td></tr><tr><td>precision</td><td>▁▂▄▅▅▆▅▆▇▇▇█████</td></tr><tr><td>recall</td><td>▁▂▃▄▅▅▄▆▆▇▇█████</td></tr><tr><td>test_acc</td><td>▁</td></tr><tr><td>train_acc</td><td>▁▂▃▄▅▅▆▆▆▇▇▇███</td></tr><tr><td>train_loss</td><td>█▆▅▄▄▃▃▂▂▂▂▁▁▁▁</td></tr><tr><td>val_acc</td><td>▁▂▃▄▅▅▄▆▆▇▇████</td></tr><tr><td>val_loss</td><td>█▇▆▄▄▄▆▃▂▂▂▁▁▁▁</td></tr></table><br/></div><div class=\"wandb-col\"><h3>Run summary:</h3><br/><table class=\"wandb\"><tr><td>epoch</td><td>15</td></tr><tr><td>f1</td><td>0.88056</td></tr><tr><td>precision</td><td>0.88786</td></tr><tr><td>recall</td><td>0.8861</td></tr><tr><td>test_acc</td><td>0.88833</td></tr><tr><td>train_acc</td><td>0.90833</td></tr><tr><td>train_loss</td><td>0.43094</td></tr><tr><td>val_acc</td><td>0.91</td></tr><tr><td>val_loss</td><td>0.40325</td></tr></table><br/></div></div>"
      ],
      "text/plain": [
       "<IPython.core.display.HTML object>"
      ]
     },
     "metadata": {},
     "output_type": "display_data"
    },
    {
     "data": {
      "text/html": [
       " View run <strong style=\"color:#cdcd00\">augmented_run2</strong> at: <a href='https://wandb.ai/javialroro-tecnologico-de-costa-rica/Proyecto1_IA_ResNet/runs/4bq4io3g' target=\"_blank\">https://wandb.ai/javialroro-tecnologico-de-costa-rica/Proyecto1_IA_ResNet/runs/4bq4io3g</a><br> View project at: <a href='https://wandb.ai/javialroro-tecnologico-de-costa-rica/Proyecto1_IA_ResNet' target=\"_blank\">https://wandb.ai/javialroro-tecnologico-de-costa-rica/Proyecto1_IA_ResNet</a><br>Synced 5 W&B file(s), 0 media file(s), 0 artifact file(s) and 0 other file(s)"
      ],
      "text/plain": [
       "<IPython.core.display.HTML object>"
      ]
     },
     "metadata": {},
     "output_type": "display_data"
    },
    {
     "data": {
      "text/html": [
       "Find logs at: <code>./wandb/run-20251031_021317-4bq4io3g/logs</code>"
      ],
      "text/plain": [
       "<IPython.core.display.HTML object>"
      ]
     },
     "metadata": {},
     "output_type": "display_data"
    },
    {
     "name": "stdout",
     "output_type": "stream",
     "text": [
      "\n",
      "Ejecutando experimento 3/5 ...\n"
     ]
    },
    {
     "data": {
      "text/html": [],
      "text/plain": [
       "<IPython.core.display.HTML object>"
      ]
     },
     "metadata": {},
     "output_type": "display_data"
    },
    {
     "data": {
      "text/html": [
       "Tracking run with wandb version 0.22.2"
      ],
      "text/plain": [
       "<IPython.core.display.HTML object>"
      ]
     },
     "metadata": {},
     "output_type": "display_data"
    },
    {
     "data": {
      "text/html": [
       "Run data is saved locally in <code>/home/javialroro/TEC/2025 II/IA/CNNVoiceRecognition/wandb/run-20251031_031658-vj4q8hsv</code>"
      ],
      "text/plain": [
       "<IPython.core.display.HTML object>"
      ]
     },
     "metadata": {},
     "output_type": "display_data"
    },
    {
     "data": {
      "text/html": [
       "Syncing run <strong><a href='https://wandb.ai/javialroro-tecnologico-de-costa-rica/Proyecto1_IA_ResNet/runs/vj4q8hsv' target=\"_blank\">augmented_run3</a></strong> to <a href='https://wandb.ai/javialroro-tecnologico-de-costa-rica/Proyecto1_IA_ResNet' target=\"_blank\">Weights & Biases</a> (<a href='https://wandb.me/developer-guide' target=\"_blank\">docs</a>)<br>"
      ],
      "text/plain": [
       "<IPython.core.display.HTML object>"
      ]
     },
     "metadata": {},
     "output_type": "display_data"
    },
    {
     "data": {
      "text/html": [
       " View project at <a href='https://wandb.ai/javialroro-tecnologico-de-costa-rica/Proyecto1_IA_ResNet' target=\"_blank\">https://wandb.ai/javialroro-tecnologico-de-costa-rica/Proyecto1_IA_ResNet</a>"
      ],
      "text/plain": [
       "<IPython.core.display.HTML object>"
      ]
     },
     "metadata": {},
     "output_type": "display_data"
    },
    {
     "data": {
      "text/html": [
       " View run at <a href='https://wandb.ai/javialroro-tecnologico-de-costa-rica/Proyecto1_IA_ResNet/runs/vj4q8hsv' target=\"_blank\">https://wandb.ai/javialroro-tecnologico-de-costa-rica/Proyecto1_IA_ResNet/runs/vj4q8hsv</a>"
      ],
      "text/plain": [
       "<IPython.core.display.HTML object>"
      ]
     },
     "metadata": {},
     "output_type": "display_data"
    },
    {
     "name": "stdout",
     "output_type": "stream",
     "text": [
      "[01/20] Training Loss=3.4255 Training Acc=0.1004 | Validation Loss=3.5753 Validation Acc=0.0667 | F1=0.0428 Precision=0.0595 Recall=0.0689\n",
      "[02/20] Training Loss=2.5690 Training Acc=0.2546 | Validation Loss=2.4063 Validation Acc=0.3400 | F1=0.2866 Precision=0.3426 Recall=0.3443\n",
      "[03/20] Training Loss=2.1434 Training Acc=0.3642 | Validation Loss=2.1182 Validation Acc=0.3583 | F1=0.3227 Precision=0.3819 Recall=0.3563\n",
      "[04/20] Training Loss=1.8072 Training Acc=0.4608 | Validation Loss=1.5943 Validation Acc=0.5150 | F1=0.4851 Precision=0.5595 Recall=0.5222\n",
      "[05/20] Training Loss=1.5386 Training Acc=0.5352 | Validation Loss=1.5021 Validation Acc=0.5533 | F1=0.5494 Precision=0.6609 Recall=0.5657\n",
      "[06/20] Training Loss=1.3251 Training Acc=0.5979 | Validation Loss=1.1772 Validation Acc=0.6300 | F1=0.5998 Precision=0.6905 Recall=0.6313\n",
      "[07/20] Training Loss=1.0868 Training Acc=0.6706 | Validation Loss=1.2340 Validation Acc=0.6150 | F1=0.6009 Precision=0.7086 Recall=0.6254\n",
      "[08/20] Training Loss=0.9391 Training Acc=0.7121 | Validation Loss=1.0159 Validation Acc=0.6883 | F1=0.6734 Precision=0.7472 Recall=0.7009\n",
      "[09/20] Training Loss=0.8249 Training Acc=0.7502 | Validation Loss=0.7371 Validation Acc=0.7900 | F1=0.7736 Precision=0.8042 Recall=0.7895\n",
      "[10/20] Training Loss=0.7121 Training Acc=0.7858 | Validation Loss=0.6812 Validation Acc=0.7683 | F1=0.7628 Precision=0.8077 Recall=0.7703\n",
      "[11/20] Training Loss=0.5740 Training Acc=0.8240 | Validation Loss=0.6175 Validation Acc=0.8050 | F1=0.8055 Precision=0.8355 Recall=0.8151\n",
      "[12/20] Training Loss=0.4955 Training Acc=0.8527 | Validation Loss=0.4404 Validation Acc=0.8733 | F1=0.8632 Precision=0.8772 Recall=0.8754\n",
      "[13/20] Training Loss=0.3965 Training Acc=0.8890 | Validation Loss=0.3637 Validation Acc=0.8917 | F1=0.8846 Precision=0.8933 Recall=0.8873\n",
      "[14/20] Training Loss=0.3416 Training Acc=0.9073 | Validation Loss=0.3128 Validation Acc=0.9100 | F1=0.9055 Precision=0.9106 Recall=0.9140\n",
      "[15/20] Training Loss=0.2653 Training Acc=0.9367 | Validation Loss=0.2603 Validation Acc=0.9267 | F1=0.9228 Precision=0.9308 Recall=0.9268\n",
      "[16/20] Training Loss=0.2172 Training Acc=0.9515 | Validation Loss=0.2206 Validation Acc=0.9550 | F1=0.9514 Precision=0.9527 Recall=0.9549\n",
      "[17/20] Training Loss=0.1865 Training Acc=0.9610 | Validation Loss=0.2231 Validation Acc=0.9433 | F1=0.9395 Precision=0.9417 Recall=0.9447\n",
      "[18/20] Training Loss=0.1617 Training Acc=0.9694 | Validation Loss=0.1861 Validation Acc=0.9533 | F1=0.9484 Precision=0.9522 Recall=0.9500\n",
      "[19/20] Training Loss=0.1532 Training Acc=0.9706 | Validation Loss=0.1766 Validation Acc=0.9583 | F1=0.9528 Precision=0.9545 Recall=0.9558\n",
      "[20/20] Training Loss=0.1358 Training Acc=0.9788 | Validation Loss=0.1779 Validation Acc=0.9600 | F1=0.9549 Precision=0.9575 Recall=0.9577\n",
      "→ Mejor val_acc=0.9600 | Test_acc=0.9583 | F1=0.9545\n"
     ]
    },
    {
     "data": {
      "text/html": [],
      "text/plain": [
       "<IPython.core.display.HTML object>"
      ]
     },
     "metadata": {},
     "output_type": "display_data"
    },
    {
     "data": {
      "text/html": [
       "<br>    <style><br>        .wandb-row {<br>            display: flex;<br>            flex-direction: row;<br>            flex-wrap: wrap;<br>            justify-content: flex-start;<br>            width: 100%;<br>        }<br>        .wandb-col {<br>            display: flex;<br>            flex-direction: column;<br>            flex-basis: 100%;<br>            flex: 1;<br>            padding: 10px;<br>        }<br>    </style><br><div class=\"wandb-row\"><div class=\"wandb-col\"><h3>Run history:</h3><br/><table class=\"wandb\"><tr><td>epoch</td><td>▁▁▂▂▂▃▃▄▄▄▅▅▅▆▆▇▇▇██</td></tr><tr><td>f1</td><td>▁▃▃▄▅▅▅▆▇▇▇▇▇████████</td></tr><tr><td>precision</td><td>▁▃▄▅▆▆▆▆▇▇▇▇▇████████</td></tr><tr><td>recall</td><td>▁▃▃▅▅▅▅▆▇▇▇▇▇████████</td></tr><tr><td>test_acc</td><td>▁</td></tr><tr><td>train_acc</td><td>▁▂▃▄▄▅▆▆▆▆▇▇▇▇██████</td></tr><tr><td>train_loss</td><td>█▆▅▅▄▄▃▃▂▂▂▂▂▁▁▁▁▁▁▁</td></tr><tr><td>val_acc</td><td>▁▃▃▅▅▅▅▆▇▆▇▇▇███████</td></tr><tr><td>val_loss</td><td>█▆▅▄▄▃▃▃▂▂▂▂▁▁▁▁▁▁▁▁</td></tr></table><br/></div><div class=\"wandb-col\"><h3>Run summary:</h3><br/><table class=\"wandb\"><tr><td>epoch</td><td>20</td></tr><tr><td>f1</td><td>0.95452</td></tr><tr><td>precision</td><td>0.95743</td></tr><tr><td>recall</td><td>0.95472</td></tr><tr><td>test_acc</td><td>0.95833</td></tr><tr><td>train_acc</td><td>0.97875</td></tr><tr><td>train_loss</td><td>0.13579</td></tr><tr><td>val_acc</td><td>0.96</td></tr><tr><td>val_loss</td><td>0.1779</td></tr></table><br/></div></div>"
      ],
      "text/plain": [
       "<IPython.core.display.HTML object>"
      ]
     },
     "metadata": {},
     "output_type": "display_data"
    },
    {
     "data": {
      "text/html": [
       " View run <strong style=\"color:#cdcd00\">augmented_run3</strong> at: <a href='https://wandb.ai/javialroro-tecnologico-de-costa-rica/Proyecto1_IA_ResNet/runs/vj4q8hsv' target=\"_blank\">https://wandb.ai/javialroro-tecnologico-de-costa-rica/Proyecto1_IA_ResNet/runs/vj4q8hsv</a><br> View project at: <a href='https://wandb.ai/javialroro-tecnologico-de-costa-rica/Proyecto1_IA_ResNet' target=\"_blank\">https://wandb.ai/javialroro-tecnologico-de-costa-rica/Proyecto1_IA_ResNet</a><br>Synced 5 W&B file(s), 0 media file(s), 0 artifact file(s) and 0 other file(s)"
      ],
      "text/plain": [
       "<IPython.core.display.HTML object>"
      ]
     },
     "metadata": {},
     "output_type": "display_data"
    },
    {
     "data": {
      "text/html": [
       "Find logs at: <code>./wandb/run-20251031_031658-vj4q8hsv/logs</code>"
      ],
      "text/plain": [
       "<IPython.core.display.HTML object>"
      ]
     },
     "metadata": {},
     "output_type": "display_data"
    },
    {
     "name": "stdout",
     "output_type": "stream",
     "text": [
      "\n",
      "Ejecutando experimento 4/5 ...\n"
     ]
    },
    {
     "data": {
      "text/html": [],
      "text/plain": [
       "<IPython.core.display.HTML object>"
      ]
     },
     "metadata": {},
     "output_type": "display_data"
    },
    {
     "data": {
      "text/html": [
       "Tracking run with wandb version 0.22.2"
      ],
      "text/plain": [
       "<IPython.core.display.HTML object>"
      ]
     },
     "metadata": {},
     "output_type": "display_data"
    },
    {
     "data": {
      "text/html": [
       "Run data is saved locally in <code>/home/javialroro/TEC/2025 II/IA/CNNVoiceRecognition/wandb/run-20251031_045120-ky591n7b</code>"
      ],
      "text/plain": [
       "<IPython.core.display.HTML object>"
      ]
     },
     "metadata": {},
     "output_type": "display_data"
    },
    {
     "data": {
      "text/html": [
       "Syncing run <strong><a href='https://wandb.ai/javialroro-tecnologico-de-costa-rica/Proyecto1_IA_ResNet/runs/ky591n7b' target=\"_blank\">augmented_run4</a></strong> to <a href='https://wandb.ai/javialroro-tecnologico-de-costa-rica/Proyecto1_IA_ResNet' target=\"_blank\">Weights & Biases</a> (<a href='https://wandb.me/developer-guide' target=\"_blank\">docs</a>)<br>"
      ],
      "text/plain": [
       "<IPython.core.display.HTML object>"
      ]
     },
     "metadata": {},
     "output_type": "display_data"
    },
    {
     "data": {
      "text/html": [
       " View project at <a href='https://wandb.ai/javialroro-tecnologico-de-costa-rica/Proyecto1_IA_ResNet' target=\"_blank\">https://wandb.ai/javialroro-tecnologico-de-costa-rica/Proyecto1_IA_ResNet</a>"
      ],
      "text/plain": [
       "<IPython.core.display.HTML object>"
      ]
     },
     "metadata": {},
     "output_type": "display_data"
    },
    {
     "data": {
      "text/html": [
       " View run at <a href='https://wandb.ai/javialroro-tecnologico-de-costa-rica/Proyecto1_IA_ResNet/runs/ky591n7b' target=\"_blank\">https://wandb.ai/javialroro-tecnologico-de-costa-rica/Proyecto1_IA_ResNet/runs/ky591n7b</a>"
      ],
      "text/plain": [
       "<IPython.core.display.HTML object>"
      ]
     },
     "metadata": {},
     "output_type": "display_data"
    },
    {
     "name": "stdout",
     "output_type": "stream",
     "text": [
      "[01/20] Training Loss=3.3558 Training Acc=0.1081 | Validation Loss=2.9997 Validation Acc=0.1900 | F1=0.1164 Precision=0.1204 Recall=0.1868\n",
      "[02/20] Training Loss=2.7398 Training Acc=0.2173 | Validation Loss=2.9290 Validation Acc=0.2333 | F1=0.1853 Precision=0.2477 Recall=0.2441\n",
      "[03/20] Training Loss=2.4242 Training Acc=0.2992 | Validation Loss=2.6657 Validation Acc=0.2700 | F1=0.2290 Precision=0.3900 Recall=0.2611\n",
      "[04/20] Training Loss=2.2318 Training Acc=0.3475 | Validation Loss=1.9643 Validation Acc=0.4283 | F1=0.3888 Precision=0.4993 Recall=0.4381\n",
      "[05/20] Training Loss=2.0383 Training Acc=0.4046 | Validation Loss=1.9052 Validation Acc=0.4583 | F1=0.4180 Precision=0.4977 Recall=0.4637\n",
      "[06/20] Training Loss=1.8938 Training Acc=0.4367 | Validation Loss=2.0482 Validation Acc=0.4033 | F1=0.3642 Precision=0.4834 Recall=0.4035\n",
      "[07/20] Training Loss=1.7784 Training Acc=0.4827 | Validation Loss=1.8929 Validation Acc=0.4617 | F1=0.4442 Precision=0.5406 Recall=0.4754\n",
      "[08/20] Training Loss=1.6148 Training Acc=0.5208 | Validation Loss=1.6506 Validation Acc=0.5083 | F1=0.4762 Precision=0.5794 Recall=0.5037\n",
      "[09/20] Training Loss=1.4776 Training Acc=0.5683 | Validation Loss=1.3123 Validation Acc=0.5983 | F1=0.5729 Precision=0.6223 Recall=0.6155\n",
      "[10/20] Training Loss=1.3534 Training Acc=0.6029 | Validation Loss=1.8139 Validation Acc=0.5350 | F1=0.4839 Precision=0.5553 Recall=0.5308\n",
      "[11/20] Training Loss=1.2554 Training Acc=0.6362 | Validation Loss=1.0399 Validation Acc=0.6950 | F1=0.6777 Precision=0.7166 Recall=0.6944\n",
      "[12/20] Training Loss=1.1153 Training Acc=0.6825 | Validation Loss=1.2618 Validation Acc=0.6333 | F1=0.6130 Precision=0.6925 Recall=0.6378\n",
      "[13/20] Training Loss=1.0067 Training Acc=0.7119 | Validation Loss=0.9391 Validation Acc=0.7183 | F1=0.7102 Precision=0.7400 Recall=0.7309\n",
      "[14/20] Training Loss=0.8931 Training Acc=0.7544 | Validation Loss=0.9524 Validation Acc=0.7217 | F1=0.7118 Precision=0.7552 Recall=0.7246\n",
      "[15/20] Training Loss=0.7975 Training Acc=0.7806 | Validation Loss=0.7166 Validation Acc=0.7883 | F1=0.7848 Precision=0.8021 Recall=0.7976\n",
      "[16/20] Training Loss=0.7163 Training Acc=0.8144 | Validation Loss=0.6596 Validation Acc=0.8067 | F1=0.7985 Precision=0.8096 Recall=0.8135\n",
      "[17/20] Training Loss=0.6340 Training Acc=0.8421 | Validation Loss=0.5735 Validation Acc=0.8100 | F1=0.8017 Precision=0.8167 Recall=0.8143\n",
      "[18/20] Training Loss=0.5746 Training Acc=0.8627 | Validation Loss=0.5220 Validation Acc=0.8800 | F1=0.8721 Precision=0.8784 Recall=0.8817\n",
      "[19/20] Training Loss=0.5306 Training Acc=0.8821 | Validation Loss=0.5121 Validation Acc=0.8633 | F1=0.8575 Precision=0.8685 Recall=0.8654\n",
      "[20/20] Training Loss=0.5051 Training Acc=0.8935 | Validation Loss=0.5003 Validation Acc=0.8817 | F1=0.8764 Precision=0.8838 Recall=0.8836\n",
      "→ Mejor val_acc=0.8817 | Test_acc=0.8833 | F1=0.8738\n"
     ]
    },
    {
     "data": {
      "text/html": [],
      "text/plain": [
       "<IPython.core.display.HTML object>"
      ]
     },
     "metadata": {},
     "output_type": "display_data"
    },
    {
     "data": {
      "text/html": [
       "<br>    <style><br>        .wandb-row {<br>            display: flex;<br>            flex-direction: row;<br>            flex-wrap: wrap;<br>            justify-content: flex-start;<br>            width: 100%;<br>        }<br>        .wandb-col {<br>            display: flex;<br>            flex-direction: column;<br>            flex-basis: 100%;<br>            flex: 1;<br>            padding: 10px;<br>        }<br>    </style><br><div class=\"wandb-row\"><div class=\"wandb-col\"><h3>Run history:</h3><br/><table class=\"wandb\"><tr><td>epoch</td><td>▁▁▂▂▂▃▃▄▄▄▅▅▅▆▆▇▇▇██</td></tr><tr><td>f1</td><td>▁▂▂▄▄▃▄▄▅▄▆▆▆▆▇▇▇████</td></tr><tr><td>precision</td><td>▁▂▃▄▄▄▅▅▆▅▆▆▇▇▇▇▇████</td></tr><tr><td>recall</td><td>▁▂▂▄▄▃▄▄▅▄▆▆▆▆▇▇▇████</td></tr><tr><td>test_acc</td><td>▁</td></tr><tr><td>train_acc</td><td>▁▂▃▃▄▄▄▅▅▅▆▆▆▇▇▇████</td></tr><tr><td>train_loss</td><td>█▆▆▅▅▄▄▄▃▃▃▂▂▂▂▂▁▁▁▁</td></tr><tr><td>val_acc</td><td>▁▁▂▃▄▃▄▄▅▄▆▅▆▆▇▇▇███</td></tr><tr><td>val_loss</td><td>██▇▅▅▅▅▄▃▅▃▃▂▂▂▁▁▁▁▁</td></tr></table><br/></div><div class=\"wandb-col\"><h3>Run summary:</h3><br/><table class=\"wandb\"><tr><td>epoch</td><td>20</td></tr><tr><td>f1</td><td>0.87375</td></tr><tr><td>precision</td><td>0.88913</td></tr><tr><td>recall</td><td>0.87908</td></tr><tr><td>test_acc</td><td>0.88333</td></tr><tr><td>train_acc</td><td>0.89354</td></tr><tr><td>train_loss</td><td>0.50505</td></tr><tr><td>val_acc</td><td>0.88167</td></tr><tr><td>val_loss</td><td>0.50035</td></tr></table><br/></div></div>"
      ],
      "text/plain": [
       "<IPython.core.display.HTML object>"
      ]
     },
     "metadata": {},
     "output_type": "display_data"
    },
    {
     "data": {
      "text/html": [
       " View run <strong style=\"color:#cdcd00\">augmented_run4</strong> at: <a href='https://wandb.ai/javialroro-tecnologico-de-costa-rica/Proyecto1_IA_ResNet/runs/ky591n7b' target=\"_blank\">https://wandb.ai/javialroro-tecnologico-de-costa-rica/Proyecto1_IA_ResNet/runs/ky591n7b</a><br> View project at: <a href='https://wandb.ai/javialroro-tecnologico-de-costa-rica/Proyecto1_IA_ResNet' target=\"_blank\">https://wandb.ai/javialroro-tecnologico-de-costa-rica/Proyecto1_IA_ResNet</a><br>Synced 5 W&B file(s), 0 media file(s), 0 artifact file(s) and 0 other file(s)"
      ],
      "text/plain": [
       "<IPython.core.display.HTML object>"
      ]
     },
     "metadata": {},
     "output_type": "display_data"
    },
    {
     "data": {
      "text/html": [
       "Find logs at: <code>./wandb/run-20251031_045120-ky591n7b/logs</code>"
      ],
      "text/plain": [
       "<IPython.core.display.HTML object>"
      ]
     },
     "metadata": {},
     "output_type": "display_data"
    },
    {
     "name": "stdout",
     "output_type": "stream",
     "text": [
      "\n",
      "Ejecutando experimento 5/5 ...\n"
     ]
    },
    {
     "data": {
      "text/html": [],
      "text/plain": [
       "<IPython.core.display.HTML object>"
      ]
     },
     "metadata": {},
     "output_type": "display_data"
    },
    {
     "data": {
      "text/html": [
       "Tracking run with wandb version 0.22.2"
      ],
      "text/plain": [
       "<IPython.core.display.HTML object>"
      ]
     },
     "metadata": {},
     "output_type": "display_data"
    },
    {
     "data": {
      "text/html": [
       "Run data is saved locally in <code>/home/javialroro/TEC/2025 II/IA/CNNVoiceRecognition/wandb/run-20251031_063117-bcqac1v4</code>"
      ],
      "text/plain": [
       "<IPython.core.display.HTML object>"
      ]
     },
     "metadata": {},
     "output_type": "display_data"
    },
    {
     "data": {
      "text/html": [
       "Syncing run <strong><a href='https://wandb.ai/javialroro-tecnologico-de-costa-rica/Proyecto1_IA_ResNet/runs/bcqac1v4' target=\"_blank\">augmented_run5</a></strong> to <a href='https://wandb.ai/javialroro-tecnologico-de-costa-rica/Proyecto1_IA_ResNet' target=\"_blank\">Weights & Biases</a> (<a href='https://wandb.me/developer-guide' target=\"_blank\">docs</a>)<br>"
      ],
      "text/plain": [
       "<IPython.core.display.HTML object>"
      ]
     },
     "metadata": {},
     "output_type": "display_data"
    },
    {
     "data": {
      "text/html": [
       " View project at <a href='https://wandb.ai/javialroro-tecnologico-de-costa-rica/Proyecto1_IA_ResNet' target=\"_blank\">https://wandb.ai/javialroro-tecnologico-de-costa-rica/Proyecto1_IA_ResNet</a>"
      ],
      "text/plain": [
       "<IPython.core.display.HTML object>"
      ]
     },
     "metadata": {},
     "output_type": "display_data"
    },
    {
     "data": {
      "text/html": [
       " View run at <a href='https://wandb.ai/javialroro-tecnologico-de-costa-rica/Proyecto1_IA_ResNet/runs/bcqac1v4' target=\"_blank\">https://wandb.ai/javialroro-tecnologico-de-costa-rica/Proyecto1_IA_ResNet/runs/bcqac1v4</a>"
      ],
      "text/plain": [
       "<IPython.core.display.HTML object>"
      ]
     },
     "metadata": {},
     "output_type": "display_data"
    },
    {
     "name": "stdout",
     "output_type": "stream",
     "text": [
      "[01/25] Training Loss=3.2069 Training Acc=0.1573 | Validation Loss=2.6549 Validation Acc=0.2633 | F1=0.2045 Precision=0.2425 Recall=0.2684\n",
      "[02/25] Training Loss=2.5263 Training Acc=0.3067 | Validation Loss=2.2483 Validation Acc=0.3850 | F1=0.3433 Precision=0.4254 Recall=0.3813\n",
      "[03/25] Training Loss=2.1016 Training Acc=0.4190 | Validation Loss=1.7374 Validation Acc=0.5300 | F1=0.4989 Precision=0.5630 Recall=0.5388\n",
      "[04/25] Training Loss=1.8277 Training Acc=0.5017 | Validation Loss=1.6413 Validation Acc=0.5267 | F1=0.5174 Precision=0.6211 Recall=0.5304\n",
      "[05/25] Training Loss=1.6013 Training Acc=0.5567 | Validation Loss=1.5146 Validation Acc=0.5833 | F1=0.5656 Precision=0.6486 Recall=0.5795\n",
      "[06/25] Training Loss=1.3956 Training Acc=0.6117 | Validation Loss=1.3780 Validation Acc=0.5867 | F1=0.5679 Precision=0.6606 Recall=0.5889\n",
      "[07/25] Training Loss=1.2476 Training Acc=0.6540 | Validation Loss=1.1763 Validation Acc=0.6550 | F1=0.6310 Precision=0.6797 Recall=0.6524\n",
      "[08/25] Training Loss=1.0861 Training Acc=0.7065 | Validation Loss=1.0101 Validation Acc=0.7017 | F1=0.6820 Precision=0.7285 Recall=0.7000\n",
      "[09/25] Training Loss=0.9601 Training Acc=0.7392 | Validation Loss=0.8428 Validation Acc=0.7433 | F1=0.7238 Precision=0.7581 Recall=0.7470\n",
      "[10/25] Training Loss=0.8506 Training Acc=0.7725 | Validation Loss=0.7421 Validation Acc=0.7833 | F1=0.7668 Precision=0.7948 Recall=0.7837\n",
      "[11/25] Training Loss=0.7638 Training Acc=0.7967 | Validation Loss=0.6184 Validation Acc=0.8167 | F1=0.8112 Precision=0.8422 Recall=0.8254\n",
      "[12/25] Training Loss=0.6665 Training Acc=0.8369 | Validation Loss=0.6491 Validation Acc=0.8317 | F1=0.8257 Precision=0.8477 Recall=0.8326\n",
      "[13/25] Training Loss=0.6018 Training Acc=0.8525 | Validation Loss=0.5631 Validation Acc=0.8133 | F1=0.8124 Precision=0.8565 Recall=0.8133\n",
      "[14/25] Training Loss=0.5271 Training Acc=0.8773 | Validation Loss=0.4553 Validation Acc=0.8850 | F1=0.8766 Precision=0.8902 Recall=0.8828\n",
      "[15/25] Training Loss=0.4593 Training Acc=0.9006 | Validation Loss=0.4129 Validation Acc=0.8900 | F1=0.8853 Precision=0.9042 Recall=0.8910\n",
      "[16/25] Training Loss=0.4135 Training Acc=0.9110 | Validation Loss=0.4041 Validation Acc=0.8750 | F1=0.8703 Precision=0.8803 Recall=0.8801\n",
      "[17/25] Training Loss=0.3685 Training Acc=0.9279 | Validation Loss=0.3389 Validation Acc=0.9033 | F1=0.8976 Precision=0.9071 Recall=0.9031\n",
      "[18/25] Training Loss=0.3155 Training Acc=0.9431 | Validation Loss=0.2910 Validation Acc=0.9350 | F1=0.9328 Precision=0.9374 Recall=0.9375\n",
      "[19/25] Training Loss=0.2831 Training Acc=0.9550 | Validation Loss=0.2734 Validation Acc=0.9467 | F1=0.9412 Precision=0.9431 Recall=0.9453\n",
      "[20/25] Training Loss=0.2636 Training Acc=0.9575 | Validation Loss=0.2246 Validation Acc=0.9650 | F1=0.9622 Precision=0.9616 Recall=0.9661\n",
      "[21/25] Training Loss=0.2371 Training Acc=0.9648 | Validation Loss=0.2116 Validation Acc=0.9650 | F1=0.9622 Precision=0.9633 Recall=0.9654\n",
      "[22/25] Training Loss=0.2232 Training Acc=0.9717 | Validation Loss=0.2090 Validation Acc=0.9617 | F1=0.9592 Precision=0.9579 Recall=0.9662\n",
      "[23/25] Training Loss=0.2077 Training Acc=0.9750 | Validation Loss=0.1891 Validation Acc=0.9683 | F1=0.9648 Precision=0.9646 Recall=0.9684\n",
      "[24/25] Training Loss=0.2005 Training Acc=0.9783 | Validation Loss=0.1857 Validation Acc=0.9650 | F1=0.9610 Precision=0.9627 Recall=0.9646\n",
      "[25/25] Training Loss=0.2024 Training Acc=0.9758 | Validation Loss=0.1978 Validation Acc=0.9650 | F1=0.9616 Precision=0.9621 Recall=0.9653\n",
      "→ Mejor val_acc=0.9683 | Test_acc=0.9683 | F1=0.9658\n"
     ]
    },
    {
     "data": {
      "text/html": [],
      "text/plain": [
       "<IPython.core.display.HTML object>"
      ]
     },
     "metadata": {},
     "output_type": "display_data"
    },
    {
     "data": {
      "text/html": [
       "<br>    <style><br>        .wandb-row {<br>            display: flex;<br>            flex-direction: row;<br>            flex-wrap: wrap;<br>            justify-content: flex-start;<br>            width: 100%;<br>        }<br>        .wandb-col {<br>            display: flex;<br>            flex-direction: column;<br>            flex-basis: 100%;<br>            flex: 1;<br>            padding: 10px;<br>        }<br>    </style><br><div class=\"wandb-row\"><div class=\"wandb-col\"><h3>Run history:</h3><br/><table class=\"wandb\"><tr><td>epoch</td><td>▁▁▂▂▂▂▃▃▃▄▄▄▅▅▅▅▆▆▆▇▇▇▇██</td></tr><tr><td>f1</td><td>▁▂▄▄▄▄▅▅▆▆▇▇▇▇▇▇▇█████████</td></tr><tr><td>precision</td><td>▁▃▄▅▅▅▅▆▆▆▇▇▇▇▇▇▇█████████</td></tr><tr><td>recall</td><td>▁▂▄▄▄▄▅▅▆▆▇▇▆▇▇▇▇█████████</td></tr><tr><td>test_acc</td><td>▁</td></tr><tr><td>train_acc</td><td>▁▂▃▄▄▅▅▆▆▆▆▇▇▇▇▇█████████</td></tr><tr><td>train_loss</td><td>█▆▅▅▄▄▃▃▃▃▂▂▂▂▂▁▁▁▁▁▁▁▁▁▁</td></tr><tr><td>val_acc</td><td>▁▂▄▄▄▄▅▅▆▆▆▇▆▇▇▇▇████████</td></tr><tr><td>val_loss</td><td>█▇▅▅▅▄▄▃▃▃▂▂▂▂▂▂▁▁▁▁▁▁▁▁▁</td></tr></table><br/></div><div class=\"wandb-col\"><h3>Run summary:</h3><br/><table class=\"wandb\"><tr><td>epoch</td><td>25</td></tr><tr><td>f1</td><td>0.96582</td></tr><tr><td>precision</td><td>0.9669</td></tr><tr><td>recall</td><td>0.96878</td></tr><tr><td>test_acc</td><td>0.96833</td></tr><tr><td>train_acc</td><td>0.97583</td></tr><tr><td>train_loss</td><td>0.20242</td></tr><tr><td>val_acc</td><td>0.965</td></tr><tr><td>val_loss</td><td>0.19778</td></tr></table><br/></div></div>"
      ],
      "text/plain": [
       "<IPython.core.display.HTML object>"
      ]
     },
     "metadata": {},
     "output_type": "display_data"
    },
    {
     "data": {
      "text/html": [
       " View run <strong style=\"color:#cdcd00\">augmented_run5</strong> at: <a href='https://wandb.ai/javialroro-tecnologico-de-costa-rica/Proyecto1_IA_ResNet/runs/bcqac1v4' target=\"_blank\">https://wandb.ai/javialroro-tecnologico-de-costa-rica/Proyecto1_IA_ResNet/runs/bcqac1v4</a><br> View project at: <a href='https://wandb.ai/javialroro-tecnologico-de-costa-rica/Proyecto1_IA_ResNet' target=\"_blank\">https://wandb.ai/javialroro-tecnologico-de-costa-rica/Proyecto1_IA_ResNet</a><br>Synced 5 W&B file(s), 0 media file(s), 0 artifact file(s) and 0 other file(s)"
      ],
      "text/plain": [
       "<IPython.core.display.HTML object>"
      ]
     },
     "metadata": {},
     "output_type": "display_data"
    },
    {
     "data": {
      "text/html": [
       "Find logs at: <code>./wandb/run-20251031_063117-bcqac1v4/logs</code>"
      ],
      "text/plain": [
       "<IPython.core.display.HTML object>"
      ]
     },
     "metadata": {},
     "output_type": "display_data"
    },
    {
     "name": "stdout",
     "output_type": "stream",
     "text": [
      "\n",
      "✅ Entrenamientos completados. Revisa 'runs_resnet/resnet_summary.csv' y tu panel en WandB.\n"
     ]
    }
   ],
   "source": [
    "def run_experiment(dataset_name, data_dirs, hparams):\n",
    "    print(f\"\\n=== Dataset: {dataset_name} ===\")\n",
    "\n",
    "    for i, hp in enumerate(hparams, 1):\n",
    "        print(f\"\\nEjecutando experimento {i}/{len(hparams)} ...\")\n",
    "\n",
    "        wandb.init(project=\"Proyecto1_IA_ResNet\", name=f\"{dataset_name}_run{i}\")\n",
    "        wandb.config.update(hp)\n",
    "\n",
    "        # --- Dataset ---\n",
    "        full = SpectrogramDataset(data_dirs, img_size=224, grayscale=True)\n",
    "        num_classes = len(full.idx_to_class)\n",
    "        N = len(full)\n",
    "        n_test = int(0.1 * N)\n",
    "        n_val  = int(0.1 * N)\n",
    "        n_train = N - n_val - n_test\n",
    "        train, val, test = random_split(full, [n_train, n_val, n_test],\n",
    "                                        generator=torch.Generator().manual_seed(SEED))\n",
    "        train_loader = DataLoader(train, batch_size=hp[\"batch\"], shuffle=True, num_workers=2, pin_memory=True)\n",
    "        val_loader   = DataLoader(val, batch_size=hp[\"batch\"], shuffle=False, num_workers=2, pin_memory=True)\n",
    "        test_loader  = DataLoader(test, batch_size=hp[\"batch\"], shuffle=False, num_workers=2, pin_memory=True)\n",
    "\n",
    "        # --- Modelo y optimización ---\n",
    "        model = resnet18_audio(num_classes=num_classes, in_channels=1).to(DEVICE)\n",
    "        criterion = nn.CrossEntropyLoss()\n",
    "        optimizer = torch.optim.Adam(model.parameters(), lr=hp[\"lr\"], weight_decay=hp[\"wd\"])\n",
    "        scheduler = CosineAnnealingLR(optimizer, T_max=hp[\"epochs\"])\n",
    "\n",
    "        best_val, best_weights = 0, None\n",
    "\n",
    "        scaler= torch.amp.GradScaler()\n",
    "\n",
    "        # --- Bucle de entrenamiento integrado ---\n",
    "        for epoch in range(1, hp[\"epochs\"]+1):\n",
    "            model.train()\n",
    "            total_loss, total_acc, n = 0, 0, 0\n",
    "            for x, y in train_loader:\n",
    "                x, y = x.to(DEVICE), y.to(DEVICE)\n",
    "                optimizer.zero_grad()\n",
    "                with torch.amp.autocast('cuda'):\n",
    "                    out = model(x)\n",
    "                    loss = criterion(out, y)\n",
    "                scaler.scale(loss).backward()\n",
    "                scaler.step(optimizer)\n",
    "                scaler.update()\n",
    "                preds = out.argmax(1)\n",
    "                acc = (preds == y).float().mean().item()\n",
    "                bs = y.size(0)\n",
    "                total_loss += loss.item() * bs\n",
    "                total_acc += acc * bs\n",
    "                n += bs\n",
    "            train_loss = total_loss / n\n",
    "            train_acc  = total_acc / n\n",
    "\n",
    "            # --- Validación ---\n",
    "            model.eval()\n",
    "            val_loss_sum, val_acc_sum, n_val = 0, 0, 0\n",
    "            preds_all, labels_all = [], []\n",
    "            with torch.no_grad():\n",
    "                for x, y in val_loader:\n",
    "                    x, y = x.to(DEVICE), y.to(DEVICE)\n",
    "                    out = model(x)\n",
    "                    loss = criterion(out, y)\n",
    "                    preds = out.argmax(1)\n",
    "                    acc = (preds == y).float().mean().item()\n",
    "                    bs = y.size(0)\n",
    "                    val_loss_sum += loss.item() * bs\n",
    "                    val_acc_sum  += acc * bs\n",
    "                    preds_all.extend(preds.cpu().numpy())\n",
    "                    labels_all.extend(y.cpu().numpy())\n",
    "                    n_val += bs\n",
    "            val_loss = val_loss_sum / n_val\n",
    "            val_acc  = val_acc_sum / n_val\n",
    "            scheduler.step()\n",
    "\n",
    "            f1   = f1_score(labels_all, preds_all, average=\"macro\", zero_division=0)\n",
    "            prec = precision_score(labels_all, preds_all, average=\"macro\", zero_division=0)\n",
    "            rec  = recall_score(labels_all, preds_all, average=\"macro\", zero_division=0)\n",
    "\n",
    "\n",
    "            # Registro en WandB\n",
    "            wandb.log({\n",
    "                \"epoch\": epoch,\n",
    "                \"train_loss\": train_loss,\n",
    "                \"val_loss\": val_loss,\n",
    "                \"train_acc\": train_acc,\n",
    "                \"val_acc\": val_acc,\n",
    "                \"f1\": f1,\n",
    "                \"precision\": prec,\n",
    "                \"recall\": rec\n",
    "            })\n",
    "\n",
    "            print(f\"[{epoch:02d}/{hp['epochs']}] Training Loss={train_loss:.4f} Training Acc={train_acc:.4f} | Validation Loss={val_loss:.4f} Validation Acc={val_acc:.4f} | F1={f1:.4f} Precision={prec:.4f} Recall={rec:.4f}\")\n",
    "\n",
    "            if val_acc > best_val:\n",
    "                best_val = val_acc\n",
    "                best_weights = model.state_dict().copy()\n",
    "\n",
    "        # --- Evaluación final (Test) ---\n",
    "        model.load_state_dict(best_weights)\n",
    "        model.eval()\n",
    "        test_loss_sum, test_acc_sum, n_test = 0, 0, 0\n",
    "        preds_all, labels_all = [], []\n",
    "        with torch.no_grad():\n",
    "            for x, y in test_loader:\n",
    "                x, y = x.to(DEVICE), y.to(DEVICE)\n",
    "                out = model(x)\n",
    "                loss = criterion(out, y)\n",
    "                preds = out.argmax(1)\n",
    "                acc = (preds == y).float().mean().item()\n",
    "                bs = y.size(0)\n",
    "                test_loss_sum += loss.item() * bs\n",
    "                test_acc_sum  += acc * bs\n",
    "                preds_all.extend(preds.cpu().numpy())\n",
    "                labels_all.extend(y.cpu().numpy())\n",
    "                n_test += bs\n",
    "        test_loss = test_loss_sum / n_test\n",
    "        test_acc  = test_acc_sum / n_test\n",
    "\n",
    "        f1   = f1_score(labels_all, preds_all, average=\"macro\")\n",
    "        prec = precision_score(labels_all, preds_all, average=\"macro\")\n",
    "        rec  = recall_score(labels_all, preds_all, average=\"macro\")\n",
    "\n",
    "        print(f\"→ Mejor val_acc={best_val:.4f} | Test_acc={test_acc:.4f} | F1={f1:.4f}\")\n",
    "\n",
    "        wandb.log({\"test_acc\": test_acc, \"f1\": f1, \"precision\": prec, \"recall\": rec})\n",
    "        wandb.finish()\n",
    "\n",
    "\n",
    "\n",
    "print(f\"Usando dispositivo: {DEVICE}\")\n",
    "experimentos = [\n",
    "    {\"lr\":1e-3, \"wd\":1e-4, \"batch\":8, \"epochs\":15},\n",
    "    {\"lr\":5e-4, \"wd\":1e-4, \"batch\":8, \"epochs\":15},\n",
    "    {\"lr\":1e-3, \"wd\":1e-5, \"batch\":8, \"epochs\":20},\n",
    "    {\"lr\":5e-4, \"wd\":1e-3, \"batch\":8, \"epochs\":20},\n",
    "    {\"lr\":1e-4, \"wd\":1e-4, \"batch\":8, \"epochs\":25},\n",
    "]\n",
    "run_experiment(\"base\", [\"spectrograms\"], experimentos)\n",
    "run_experiment(\"augmented\", [\"spectrograms_augmented\"], experimentos)\n"
   ]
  }
 ],
 "metadata": {
  "kernelspec": {
   "display_name": "ml",
   "language": "python",
   "name": "python3"
  },
  "language_info": {
   "codemirror_mode": {
    "name": "ipython",
    "version": 3
   },
   "file_extension": ".py",
   "mimetype": "text/x-python",
   "name": "python",
   "nbconvert_exporter": "python",
   "pygments_lexer": "ipython3",
   "version": "3.13.5"
  }
 },
 "nbformat": 4,
 "nbformat_minor": 5
}
